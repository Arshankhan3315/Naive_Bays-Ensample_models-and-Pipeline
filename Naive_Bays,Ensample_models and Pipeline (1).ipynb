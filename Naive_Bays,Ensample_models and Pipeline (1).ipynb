{
 "cells": [
  {
   "cell_type": "markdown",
   "id": "28aafe1f",
   "metadata": {},
   "source": [
    "# Naive_Bays,Ensample_models and Pipeline"
   ]
  },
  {
   "cell_type": "markdown",
   "id": "43e44d7f",
   "metadata": {},
   "source": [
    "## Random Forest Classifier With Pipeline And Hyperparameter Tuning"
   ]
  },
  {
   "cell_type": "code",
   "execution_count": 1,
   "id": "03864b01",
   "metadata": {},
   "outputs": [
    {
     "data": {
      "text/html": [
       "<div>\n",
       "<style scoped>\n",
       "    .dataframe tbody tr th:only-of-type {\n",
       "        vertical-align: middle;\n",
       "    }\n",
       "\n",
       "    .dataframe tbody tr th {\n",
       "        vertical-align: top;\n",
       "    }\n",
       "\n",
       "    .dataframe thead th {\n",
       "        text-align: right;\n",
       "    }\n",
       "</style>\n",
       "<table border=\"1\" class=\"dataframe\">\n",
       "  <thead>\n",
       "    <tr style=\"text-align: right;\">\n",
       "      <th></th>\n",
       "      <th>total_bill</th>\n",
       "      <th>tip</th>\n",
       "      <th>sex</th>\n",
       "      <th>smoker</th>\n",
       "      <th>day</th>\n",
       "      <th>time</th>\n",
       "      <th>size</th>\n",
       "    </tr>\n",
       "  </thead>\n",
       "  <tbody>\n",
       "    <tr>\n",
       "      <th>0</th>\n",
       "      <td>16.99</td>\n",
       "      <td>1.01</td>\n",
       "      <td>Female</td>\n",
       "      <td>No</td>\n",
       "      <td>Sun</td>\n",
       "      <td>Dinner</td>\n",
       "      <td>2</td>\n",
       "    </tr>\n",
       "    <tr>\n",
       "      <th>1</th>\n",
       "      <td>10.34</td>\n",
       "      <td>1.66</td>\n",
       "      <td>Male</td>\n",
       "      <td>No</td>\n",
       "      <td>Sun</td>\n",
       "      <td>Dinner</td>\n",
       "      <td>3</td>\n",
       "    </tr>\n",
       "    <tr>\n",
       "      <th>2</th>\n",
       "      <td>21.01</td>\n",
       "      <td>3.50</td>\n",
       "      <td>Male</td>\n",
       "      <td>No</td>\n",
       "      <td>Sun</td>\n",
       "      <td>Dinner</td>\n",
       "      <td>3</td>\n",
       "    </tr>\n",
       "    <tr>\n",
       "      <th>3</th>\n",
       "      <td>23.68</td>\n",
       "      <td>3.31</td>\n",
       "      <td>Male</td>\n",
       "      <td>No</td>\n",
       "      <td>Sun</td>\n",
       "      <td>Dinner</td>\n",
       "      <td>2</td>\n",
       "    </tr>\n",
       "    <tr>\n",
       "      <th>4</th>\n",
       "      <td>24.59</td>\n",
       "      <td>3.61</td>\n",
       "      <td>Female</td>\n",
       "      <td>No</td>\n",
       "      <td>Sun</td>\n",
       "      <td>Dinner</td>\n",
       "      <td>4</td>\n",
       "    </tr>\n",
       "  </tbody>\n",
       "</table>\n",
       "</div>"
      ],
      "text/plain": [
       "   total_bill   tip     sex smoker  day    time  size\n",
       "0       16.99  1.01  Female     No  Sun  Dinner     2\n",
       "1       10.34  1.66    Male     No  Sun  Dinner     3\n",
       "2       21.01  3.50    Male     No  Sun  Dinner     3\n",
       "3       23.68  3.31    Male     No  Sun  Dinner     2\n",
       "4       24.59  3.61  Female     No  Sun  Dinner     4"
      ]
     },
     "execution_count": 1,
     "metadata": {},
     "output_type": "execute_result"
    }
   ],
   "source": [
    "import seaborn as sns\n",
    "df=sns.load_dataset('tips')\n",
    "df.head()"
   ]
  },
  {
   "cell_type": "code",
   "execution_count": 2,
   "id": "faebcab3",
   "metadata": {},
   "outputs": [
    {
     "data": {
      "text/plain": [
       "['Sun', 'Sat', 'Thur', 'Fri']\n",
       "Categories (4, object): ['Thur', 'Fri', 'Sat', 'Sun']"
      ]
     },
     "execution_count": 2,
     "metadata": {},
     "output_type": "execute_result"
    }
   ],
   "source": [
    "df['day'].unique()"
   ]
  },
  {
   "cell_type": "code",
   "execution_count": 3,
   "id": "42972112",
   "metadata": {},
   "outputs": [
    {
     "data": {
      "text/plain": [
       "['Dinner', 'Lunch']\n",
       "Categories (2, object): ['Lunch', 'Dinner']"
      ]
     },
     "execution_count": 3,
     "metadata": {},
     "output_type": "execute_result"
    }
   ],
   "source": [
    "df['time'].unique()"
   ]
  },
  {
   "cell_type": "code",
   "execution_count": 4,
   "id": "279b5365",
   "metadata": {},
   "outputs": [
    {
     "data": {
      "text/plain": [
       "total_bill    0\n",
       "tip           0\n",
       "sex           0\n",
       "smoker        0\n",
       "day           0\n",
       "time          0\n",
       "size          0\n",
       "dtype: int64"
      ]
     },
     "execution_count": 4,
     "metadata": {},
     "output_type": "execute_result"
    }
   ],
   "source": [
    "df.isnull().sum()"
   ]
  },
  {
   "cell_type": "code",
   "execution_count": 5,
   "id": "1911f6db",
   "metadata": {},
   "outputs": [
    {
     "data": {
      "text/html": [
       "<div>\n",
       "<style scoped>\n",
       "    .dataframe tbody tr th:only-of-type {\n",
       "        vertical-align: middle;\n",
       "    }\n",
       "\n",
       "    .dataframe tbody tr th {\n",
       "        vertical-align: top;\n",
       "    }\n",
       "\n",
       "    .dataframe thead th {\n",
       "        text-align: right;\n",
       "    }\n",
       "</style>\n",
       "<table border=\"1\" class=\"dataframe\">\n",
       "  <thead>\n",
       "    <tr style=\"text-align: right;\">\n",
       "      <th></th>\n",
       "      <th>total_bill</th>\n",
       "      <th>tip</th>\n",
       "      <th>size</th>\n",
       "    </tr>\n",
       "  </thead>\n",
       "  <tbody>\n",
       "    <tr>\n",
       "      <th>count</th>\n",
       "      <td>244.000000</td>\n",
       "      <td>244.000000</td>\n",
       "      <td>244.000000</td>\n",
       "    </tr>\n",
       "    <tr>\n",
       "      <th>mean</th>\n",
       "      <td>19.785943</td>\n",
       "      <td>2.998279</td>\n",
       "      <td>2.569672</td>\n",
       "    </tr>\n",
       "    <tr>\n",
       "      <th>std</th>\n",
       "      <td>8.902412</td>\n",
       "      <td>1.383638</td>\n",
       "      <td>0.951100</td>\n",
       "    </tr>\n",
       "    <tr>\n",
       "      <th>min</th>\n",
       "      <td>3.070000</td>\n",
       "      <td>1.000000</td>\n",
       "      <td>1.000000</td>\n",
       "    </tr>\n",
       "    <tr>\n",
       "      <th>25%</th>\n",
       "      <td>13.347500</td>\n",
       "      <td>2.000000</td>\n",
       "      <td>2.000000</td>\n",
       "    </tr>\n",
       "    <tr>\n",
       "      <th>50%</th>\n",
       "      <td>17.795000</td>\n",
       "      <td>2.900000</td>\n",
       "      <td>2.000000</td>\n",
       "    </tr>\n",
       "    <tr>\n",
       "      <th>75%</th>\n",
       "      <td>24.127500</td>\n",
       "      <td>3.562500</td>\n",
       "      <td>3.000000</td>\n",
       "    </tr>\n",
       "    <tr>\n",
       "      <th>max</th>\n",
       "      <td>50.810000</td>\n",
       "      <td>10.000000</td>\n",
       "      <td>6.000000</td>\n",
       "    </tr>\n",
       "  </tbody>\n",
       "</table>\n",
       "</div>"
      ],
      "text/plain": [
       "       total_bill         tip        size\n",
       "count  244.000000  244.000000  244.000000\n",
       "mean    19.785943    2.998279    2.569672\n",
       "std      8.902412    1.383638    0.951100\n",
       "min      3.070000    1.000000    1.000000\n",
       "25%     13.347500    2.000000    2.000000\n",
       "50%     17.795000    2.900000    2.000000\n",
       "75%     24.127500    3.562500    3.000000\n",
       "max     50.810000   10.000000    6.000000"
      ]
     },
     "execution_count": 5,
     "metadata": {},
     "output_type": "execute_result"
    }
   ],
   "source": [
    "df.describe()"
   ]
  },
  {
   "cell_type": "code",
   "execution_count": 6,
   "id": "7e482922",
   "metadata": {},
   "outputs": [
    {
     "data": {
      "text/plain": [
       "0      Dinner\n",
       "1      Dinner\n",
       "2      Dinner\n",
       "3      Dinner\n",
       "4      Dinner\n",
       "        ...  \n",
       "239    Dinner\n",
       "240    Dinner\n",
       "241    Dinner\n",
       "242    Dinner\n",
       "243    Dinner\n",
       "Name: time, Length: 244, dtype: category\n",
       "Categories (2, object): ['Lunch', 'Dinner']"
      ]
     },
     "execution_count": 6,
     "metadata": {},
     "output_type": "execute_result"
    }
   ],
   "source": [
    "df.time"
   ]
  },
  {
   "cell_type": "code",
   "execution_count": 7,
   "id": "8ef40fba",
   "metadata": {},
   "outputs": [],
   "source": [
    "from sklearn.preprocessing import LabelEncoder\n",
    "encoder=LabelEncoder()\n",
    "df['time']=encoder.fit_transform(df['time'])"
   ]
  },
  {
   "cell_type": "code",
   "execution_count": 8,
   "id": "6b10e325",
   "metadata": {},
   "outputs": [
    {
     "data": {
      "text/plain": [
       "array([0, 1])"
      ]
     },
     "execution_count": 8,
     "metadata": {},
     "output_type": "execute_result"
    }
   ],
   "source": [
    "df.time.unique()"
   ]
  },
  {
   "cell_type": "code",
   "execution_count": 9,
   "id": "ccf851e7",
   "metadata": {},
   "outputs": [],
   "source": [
    "## independent and dependent feature\n",
    "X=df.drop(labels=['time'],axis=1)\n",
    "y=df.time"
   ]
  },
  {
   "cell_type": "code",
   "execution_count": 10,
   "id": "f02d506c",
   "metadata": {},
   "outputs": [
    {
     "data": {
      "text/html": [
       "<div>\n",
       "<style scoped>\n",
       "    .dataframe tbody tr th:only-of-type {\n",
       "        vertical-align: middle;\n",
       "    }\n",
       "\n",
       "    .dataframe tbody tr th {\n",
       "        vertical-align: top;\n",
       "    }\n",
       "\n",
       "    .dataframe thead th {\n",
       "        text-align: right;\n",
       "    }\n",
       "</style>\n",
       "<table border=\"1\" class=\"dataframe\">\n",
       "  <thead>\n",
       "    <tr style=\"text-align: right;\">\n",
       "      <th></th>\n",
       "      <th>total_bill</th>\n",
       "      <th>tip</th>\n",
       "      <th>sex</th>\n",
       "      <th>smoker</th>\n",
       "      <th>day</th>\n",
       "      <th>size</th>\n",
       "    </tr>\n",
       "  </thead>\n",
       "  <tbody>\n",
       "    <tr>\n",
       "      <th>0</th>\n",
       "      <td>16.99</td>\n",
       "      <td>1.01</td>\n",
       "      <td>Female</td>\n",
       "      <td>No</td>\n",
       "      <td>Sun</td>\n",
       "      <td>2</td>\n",
       "    </tr>\n",
       "    <tr>\n",
       "      <th>1</th>\n",
       "      <td>10.34</td>\n",
       "      <td>1.66</td>\n",
       "      <td>Male</td>\n",
       "      <td>No</td>\n",
       "      <td>Sun</td>\n",
       "      <td>3</td>\n",
       "    </tr>\n",
       "    <tr>\n",
       "      <th>2</th>\n",
       "      <td>21.01</td>\n",
       "      <td>3.50</td>\n",
       "      <td>Male</td>\n",
       "      <td>No</td>\n",
       "      <td>Sun</td>\n",
       "      <td>3</td>\n",
       "    </tr>\n",
       "    <tr>\n",
       "      <th>3</th>\n",
       "      <td>23.68</td>\n",
       "      <td>3.31</td>\n",
       "      <td>Male</td>\n",
       "      <td>No</td>\n",
       "      <td>Sun</td>\n",
       "      <td>2</td>\n",
       "    </tr>\n",
       "    <tr>\n",
       "      <th>4</th>\n",
       "      <td>24.59</td>\n",
       "      <td>3.61</td>\n",
       "      <td>Female</td>\n",
       "      <td>No</td>\n",
       "      <td>Sun</td>\n",
       "      <td>4</td>\n",
       "    </tr>\n",
       "  </tbody>\n",
       "</table>\n",
       "</div>"
      ],
      "text/plain": [
       "   total_bill   tip     sex smoker  day  size\n",
       "0       16.99  1.01  Female     No  Sun     2\n",
       "1       10.34  1.66    Male     No  Sun     3\n",
       "2       21.01  3.50    Male     No  Sun     3\n",
       "3       23.68  3.31    Male     No  Sun     2\n",
       "4       24.59  3.61  Female     No  Sun     4"
      ]
     },
     "execution_count": 10,
     "metadata": {},
     "output_type": "execute_result"
    }
   ],
   "source": [
    "X.head()"
   ]
  },
  {
   "cell_type": "code",
   "execution_count": 11,
   "id": "50e03b56",
   "metadata": {},
   "outputs": [
    {
     "data": {
      "text/plain": [
       "day\n",
       "Sat     87\n",
       "Sun     76\n",
       "Thur    62\n",
       "Fri     19\n",
       "Name: count, dtype: int64"
      ]
     },
     "execution_count": 11,
     "metadata": {},
     "output_type": "execute_result"
    }
   ],
   "source": [
    "X['day'].value_counts()"
   ]
  },
  {
   "cell_type": "code",
   "execution_count": 12,
   "id": "97e2577e",
   "metadata": {},
   "outputs": [
    {
     "data": {
      "text/plain": [
       "0      0\n",
       "1      0\n",
       "2      0\n",
       "3      0\n",
       "4      0\n",
       "      ..\n",
       "239    0\n",
       "240    0\n",
       "241    0\n",
       "242    0\n",
       "243    0\n",
       "Name: time, Length: 244, dtype: int32"
      ]
     },
     "execution_count": 12,
     "metadata": {},
     "output_type": "execute_result"
    }
   ],
   "source": [
    "y"
   ]
  },
  {
   "cell_type": "code",
   "execution_count": 13,
   "id": "5e0d9e53",
   "metadata": {},
   "outputs": [],
   "source": [
    "from sklearn.model_selection import train_test_split\n",
    "X_train,X_test,y_train,y_test=train_test_split(X,y,test_size=0.20,random_state=42)"
   ]
  },
  {
   "cell_type": "code",
   "execution_count": 14,
   "id": "3c6560d8",
   "metadata": {},
   "outputs": [],
   "source": [
    "from sklearn.pipeline import Pipeline\n",
    "from sklearn.impute import SimpleImputer ## HAndle Missing Values\n",
    "from sklearn.preprocessing import StandardScaler ## Feature Scaling\n",
    "from sklearn.preprocessing import OneHotEncoder ## categorical to numerical\n",
    "from sklearn.compose import ColumnTransformer"
   ]
  },
  {
   "cell_type": "code",
   "execution_count": 15,
   "id": "195cdbdc",
   "metadata": {},
   "outputs": [],
   "source": [
    "categorical_cols = ['sex', 'smoker','day']\n",
    "numerical_cols = ['total_bill', 'tip','size']"
   ]
  },
  {
   "cell_type": "code",
   "execution_count": 16,
   "id": "eb117e9c",
   "metadata": {},
   "outputs": [],
   "source": [
    "## feature Engineering Automation\n",
    "## Numerical Pipelines\n",
    "num_pipeline=Pipeline(\n",
    "    steps=[\n",
    "        ('imputer',SimpleImputer(strategy='median')), ##Missing Values\n",
    "        ('scaler',StandardScaler()) ## feature Scaling\n",
    "    ]\n",
    "\n",
    ")\n",
    "\n",
    "#categorical Pipeline\n",
    "cat_pipeline=Pipeline(\n",
    "                steps=[\n",
    "                ('imputer',SimpleImputer(strategy='most_frequent')), ## handling Missing values\n",
    "                ('onehotencoder',OneHotEncoder()) ## Categorical features to numerical\n",
    "                ]\n",
    "\n",
    "            )"
   ]
  },
  {
   "cell_type": "code",
   "execution_count": 17,
   "id": "344a283c",
   "metadata": {},
   "outputs": [
    {
     "data": {
      "text/html": [
       "<style>#sk-container-id-1 {color: black;}#sk-container-id-1 pre{padding: 0;}#sk-container-id-1 div.sk-toggleable {background-color: white;}#sk-container-id-1 label.sk-toggleable__label {cursor: pointer;display: block;width: 100%;margin-bottom: 0;padding: 0.3em;box-sizing: border-box;text-align: center;}#sk-container-id-1 label.sk-toggleable__label-arrow:before {content: \"▸\";float: left;margin-right: 0.25em;color: #696969;}#sk-container-id-1 label.sk-toggleable__label-arrow:hover:before {color: black;}#sk-container-id-1 div.sk-estimator:hover label.sk-toggleable__label-arrow:before {color: black;}#sk-container-id-1 div.sk-toggleable__content {max-height: 0;max-width: 0;overflow: hidden;text-align: left;background-color: #f0f8ff;}#sk-container-id-1 div.sk-toggleable__content pre {margin: 0.2em;color: black;border-radius: 0.25em;background-color: #f0f8ff;}#sk-container-id-1 input.sk-toggleable__control:checked~div.sk-toggleable__content {max-height: 200px;max-width: 100%;overflow: auto;}#sk-container-id-1 input.sk-toggleable__control:checked~label.sk-toggleable__label-arrow:before {content: \"▾\";}#sk-container-id-1 div.sk-estimator input.sk-toggleable__control:checked~label.sk-toggleable__label {background-color: #d4ebff;}#sk-container-id-1 div.sk-label input.sk-toggleable__control:checked~label.sk-toggleable__label {background-color: #d4ebff;}#sk-container-id-1 input.sk-hidden--visually {border: 0;clip: rect(1px 1px 1px 1px);clip: rect(1px, 1px, 1px, 1px);height: 1px;margin: -1px;overflow: hidden;padding: 0;position: absolute;width: 1px;}#sk-container-id-1 div.sk-estimator {font-family: monospace;background-color: #f0f8ff;border: 1px dotted black;border-radius: 0.25em;box-sizing: border-box;margin-bottom: 0.5em;}#sk-container-id-1 div.sk-estimator:hover {background-color: #d4ebff;}#sk-container-id-1 div.sk-parallel-item::after {content: \"\";width: 100%;border-bottom: 1px solid gray;flex-grow: 1;}#sk-container-id-1 div.sk-label:hover label.sk-toggleable__label {background-color: #d4ebff;}#sk-container-id-1 div.sk-serial::before {content: \"\";position: absolute;border-left: 1px solid gray;box-sizing: border-box;top: 0;bottom: 0;left: 50%;z-index: 0;}#sk-container-id-1 div.sk-serial {display: flex;flex-direction: column;align-items: center;background-color: white;padding-right: 0.2em;padding-left: 0.2em;position: relative;}#sk-container-id-1 div.sk-item {position: relative;z-index: 1;}#sk-container-id-1 div.sk-parallel {display: flex;align-items: stretch;justify-content: center;background-color: white;position: relative;}#sk-container-id-1 div.sk-item::before, #sk-container-id-1 div.sk-parallel-item::before {content: \"\";position: absolute;border-left: 1px solid gray;box-sizing: border-box;top: 0;bottom: 0;left: 50%;z-index: -1;}#sk-container-id-1 div.sk-parallel-item {display: flex;flex-direction: column;z-index: 1;position: relative;background-color: white;}#sk-container-id-1 div.sk-parallel-item:first-child::after {align-self: flex-end;width: 50%;}#sk-container-id-1 div.sk-parallel-item:last-child::after {align-self: flex-start;width: 50%;}#sk-container-id-1 div.sk-parallel-item:only-child::after {width: 0;}#sk-container-id-1 div.sk-dashed-wrapped {border: 1px dashed gray;margin: 0 0.4em 0.5em 0.4em;box-sizing: border-box;padding-bottom: 0.4em;background-color: white;}#sk-container-id-1 div.sk-label label {font-family: monospace;font-weight: bold;display: inline-block;line-height: 1.2em;}#sk-container-id-1 div.sk-label-container {text-align: center;}#sk-container-id-1 div.sk-container {/* jupyter's `normalize.less` sets `[hidden] { display: none; }` but bootstrap.min.css set `[hidden] { display: none !important; }` so we also need the `!important` here to be able to override the default hidden behavior on the sphinx rendered scikit-learn.org. See: https://github.com/scikit-learn/scikit-learn/issues/21755 */display: inline-block !important;position: relative;}#sk-container-id-1 div.sk-text-repr-fallback {display: none;}</style><div id=\"sk-container-id-1\" class=\"sk-top-container\"><div class=\"sk-text-repr-fallback\"><pre>ColumnTransformer(transformers=[(&#x27;num_pipeline&#x27;,\n",
       "                                 Pipeline(steps=[(&#x27;imputer&#x27;,\n",
       "                                                  SimpleImputer(strategy=&#x27;median&#x27;)),\n",
       "                                                 (&#x27;scaler&#x27;, StandardScaler())]),\n",
       "                                 [&#x27;total_bill&#x27;, &#x27;tip&#x27;, &#x27;size&#x27;]),\n",
       "                                (&#x27;cat_pipeline&#x27;,\n",
       "                                 Pipeline(steps=[(&#x27;imputer&#x27;,\n",
       "                                                  SimpleImputer(strategy=&#x27;most_frequent&#x27;)),\n",
       "                                                 (&#x27;onehotencoder&#x27;,\n",
       "                                                  OneHotEncoder())]),\n",
       "                                 [&#x27;sex&#x27;, &#x27;smoker&#x27;, &#x27;day&#x27;])])</pre><b>In a Jupyter environment, please rerun this cell to show the HTML representation or trust the notebook. <br />On GitHub, the HTML representation is unable to render, please try loading this page with nbviewer.org.</b></div><div class=\"sk-container\" hidden><div class=\"sk-item sk-dashed-wrapped\"><div class=\"sk-label-container\"><div class=\"sk-label sk-toggleable\"><input class=\"sk-toggleable__control sk-hidden--visually\" id=\"sk-estimator-id-1\" type=\"checkbox\" ><label for=\"sk-estimator-id-1\" class=\"sk-toggleable__label sk-toggleable__label-arrow\">ColumnTransformer</label><div class=\"sk-toggleable__content\"><pre>ColumnTransformer(transformers=[(&#x27;num_pipeline&#x27;,\n",
       "                                 Pipeline(steps=[(&#x27;imputer&#x27;,\n",
       "                                                  SimpleImputer(strategy=&#x27;median&#x27;)),\n",
       "                                                 (&#x27;scaler&#x27;, StandardScaler())]),\n",
       "                                 [&#x27;total_bill&#x27;, &#x27;tip&#x27;, &#x27;size&#x27;]),\n",
       "                                (&#x27;cat_pipeline&#x27;,\n",
       "                                 Pipeline(steps=[(&#x27;imputer&#x27;,\n",
       "                                                  SimpleImputer(strategy=&#x27;most_frequent&#x27;)),\n",
       "                                                 (&#x27;onehotencoder&#x27;,\n",
       "                                                  OneHotEncoder())]),\n",
       "                                 [&#x27;sex&#x27;, &#x27;smoker&#x27;, &#x27;day&#x27;])])</pre></div></div></div><div class=\"sk-parallel\"><div class=\"sk-parallel-item\"><div class=\"sk-item\"><div class=\"sk-label-container\"><div class=\"sk-label sk-toggleable\"><input class=\"sk-toggleable__control sk-hidden--visually\" id=\"sk-estimator-id-2\" type=\"checkbox\" ><label for=\"sk-estimator-id-2\" class=\"sk-toggleable__label sk-toggleable__label-arrow\">num_pipeline</label><div class=\"sk-toggleable__content\"><pre>[&#x27;total_bill&#x27;, &#x27;tip&#x27;, &#x27;size&#x27;]</pre></div></div></div><div class=\"sk-serial\"><div class=\"sk-item\"><div class=\"sk-serial\"><div class=\"sk-item\"><div class=\"sk-estimator sk-toggleable\"><input class=\"sk-toggleable__control sk-hidden--visually\" id=\"sk-estimator-id-3\" type=\"checkbox\" ><label for=\"sk-estimator-id-3\" class=\"sk-toggleable__label sk-toggleable__label-arrow\">SimpleImputer</label><div class=\"sk-toggleable__content\"><pre>SimpleImputer(strategy=&#x27;median&#x27;)</pre></div></div></div><div class=\"sk-item\"><div class=\"sk-estimator sk-toggleable\"><input class=\"sk-toggleable__control sk-hidden--visually\" id=\"sk-estimator-id-4\" type=\"checkbox\" ><label for=\"sk-estimator-id-4\" class=\"sk-toggleable__label sk-toggleable__label-arrow\">StandardScaler</label><div class=\"sk-toggleable__content\"><pre>StandardScaler()</pre></div></div></div></div></div></div></div></div><div class=\"sk-parallel-item\"><div class=\"sk-item\"><div class=\"sk-label-container\"><div class=\"sk-label sk-toggleable\"><input class=\"sk-toggleable__control sk-hidden--visually\" id=\"sk-estimator-id-5\" type=\"checkbox\" ><label for=\"sk-estimator-id-5\" class=\"sk-toggleable__label sk-toggleable__label-arrow\">cat_pipeline</label><div class=\"sk-toggleable__content\"><pre>[&#x27;sex&#x27;, &#x27;smoker&#x27;, &#x27;day&#x27;]</pre></div></div></div><div class=\"sk-serial\"><div class=\"sk-item\"><div class=\"sk-serial\"><div class=\"sk-item\"><div class=\"sk-estimator sk-toggleable\"><input class=\"sk-toggleable__control sk-hidden--visually\" id=\"sk-estimator-id-6\" type=\"checkbox\" ><label for=\"sk-estimator-id-6\" class=\"sk-toggleable__label sk-toggleable__label-arrow\">SimpleImputer</label><div class=\"sk-toggleable__content\"><pre>SimpleImputer(strategy=&#x27;most_frequent&#x27;)</pre></div></div></div><div class=\"sk-item\"><div class=\"sk-estimator sk-toggleable\"><input class=\"sk-toggleable__control sk-hidden--visually\" id=\"sk-estimator-id-7\" type=\"checkbox\" ><label for=\"sk-estimator-id-7\" class=\"sk-toggleable__label sk-toggleable__label-arrow\">OneHotEncoder</label><div class=\"sk-toggleable__content\"><pre>OneHotEncoder()</pre></div></div></div></div></div></div></div></div></div></div></div></div>"
      ],
      "text/plain": [
       "ColumnTransformer(transformers=[('num_pipeline',\n",
       "                                 Pipeline(steps=[('imputer',\n",
       "                                                  SimpleImputer(strategy='median')),\n",
       "                                                 ('scaler', StandardScaler())]),\n",
       "                                 ['total_bill', 'tip', 'size']),\n",
       "                                ('cat_pipeline',\n",
       "                                 Pipeline(steps=[('imputer',\n",
       "                                                  SimpleImputer(strategy='most_frequent')),\n",
       "                                                 ('onehotencoder',\n",
       "                                                  OneHotEncoder())]),\n",
       "                                 ['sex', 'smoker', 'day'])])"
      ]
     },
     "execution_count": 17,
     "metadata": {},
     "output_type": "execute_result"
    }
   ],
   "source": [
    "preprocessor=ColumnTransformer([\n",
    "    ('num_pipeline',num_pipeline,numerical_cols),\n",
    "    ('cat_pipeline',cat_pipeline,categorical_cols)\n",
    "\n",
    "])\n",
    "\n",
    "preprocessor"
   ]
  },
  {
   "cell_type": "code",
   "execution_count": 18,
   "id": "d605c626",
   "metadata": {},
   "outputs": [],
   "source": [
    "X_train=preprocessor.fit_transform(X_train)\n",
    "X_test=preprocessor.transform(X_test)"
   ]
  },
  {
   "cell_type": "code",
   "execution_count": 19,
   "id": "1aeaf5e5",
   "metadata": {},
   "outputs": [],
   "source": [
    "from sklearn.ensemble import RandomForestClassifier\n",
    "from sklearn.linear_model import LogisticRegression\n",
    "from sklearn.tree import DecisionTreeClassifier"
   ]
  },
  {
   "cell_type": "code",
   "execution_count": 20,
   "id": "4ef98a14",
   "metadata": {},
   "outputs": [],
   "source": [
    "## Model Training Automation\n",
    "models={\n",
    "    'Random Forest':RandomForestClassifier(),\n",
    "    'Logistic Regression':LogisticRegression(),\n",
    "    'Decision Tree':DecisionTreeClassifier()\n",
    "}"
   ]
  },
  {
   "cell_type": "code",
   "execution_count": 21,
   "id": "0a53b89b",
   "metadata": {},
   "outputs": [],
   "source": [
    "from sklearn.metrics import accuracy_score"
   ]
  },
  {
   "cell_type": "code",
   "execution_count": 22,
   "id": "db007014",
   "metadata": {},
   "outputs": [],
   "source": [
    "def evaluate_model(X_train,y_train,X_test,y_test,models):\n",
    "    report = {}\n",
    "    for i in range(len(models)):\n",
    "        model = list(models.values())[i]\n",
    "        # Train model\n",
    "        model.fit(X_train,y_train)\n",
    "\n",
    "        # Predict Testing data\n",
    "        y_test_pred =model.predict(X_test)\n",
    "\n",
    "        # Get accuracy for test data prediction\n",
    "\n",
    "        test_model_score = accuracy_score(y_test,y_test_pred)\n",
    "\n",
    "        report[list(models.keys())[i]] =  test_model_score\n",
    "    return report"
   ]
  },
  {
   "cell_type": "code",
   "execution_count": 23,
   "id": "37cfe95d",
   "metadata": {},
   "outputs": [
    {
     "data": {
      "text/plain": [
       "{'Random Forest': 0.9591836734693877,\n",
       " 'Logistic Regression': 1.0,\n",
       " 'Decision Tree': 0.9387755102040817}"
      ]
     },
     "execution_count": 23,
     "metadata": {},
     "output_type": "execute_result"
    }
   ],
   "source": [
    "evaluate_model(X_train,y_train,X_test,y_test,models)"
   ]
  },
  {
   "cell_type": "code",
   "execution_count": 24,
   "id": "42b4368a",
   "metadata": {},
   "outputs": [],
   "source": [
    "classfier=RandomForestClassifier()"
   ]
  },
  {
   "cell_type": "code",
   "execution_count": 25,
   "id": "f69e4dd0",
   "metadata": {},
   "outputs": [],
   "source": [
    "## Hypeparameter Tuning\n",
    "params={'max_depth':[3,5,10,None],\n",
    "              'n_estimators':[100,200,300],\n",
    "               'criterion':['gini','entropy']\n",
    "              }"
   ]
  },
  {
   "cell_type": "code",
   "execution_count": 26,
   "id": "8ab14d6b",
   "metadata": {},
   "outputs": [],
   "source": [
    "from sklearn.model_selection import RandomizedSearchCV"
   ]
  },
  {
   "cell_type": "code",
   "execution_count": 27,
   "id": "8e27a38e",
   "metadata": {},
   "outputs": [
    {
     "name": "stdout",
     "output_type": "stream",
     "text": [
      "Fitting 5 folds for each of 10 candidates, totalling 50 fits\n",
      "[CV 1/5] END criterion=entropy, max_depth=3, n_estimators=100;, score=0.974 total time=   0.2s\n",
      "[CV 2/5] END criterion=entropy, max_depth=3, n_estimators=100;, score=0.949 total time=   0.2s\n",
      "[CV 3/5] END criterion=entropy, max_depth=3, n_estimators=100;, score=0.974 total time=   0.2s\n",
      "[CV 4/5] END criterion=entropy, max_depth=3, n_estimators=100;, score=0.923 total time=   0.2s\n",
      "[CV 5/5] END criterion=entropy, max_depth=3, n_estimators=100;, score=0.949 total time=   0.2s\n",
      "[CV 1/5] END criterion=entropy, max_depth=5, n_estimators=300;, score=0.974 total time=   0.7s\n",
      "[CV 2/5] END criterion=entropy, max_depth=5, n_estimators=300;, score=0.923 total time=   0.7s\n",
      "[CV 3/5] END criterion=entropy, max_depth=5, n_estimators=300;, score=0.974 total time=   0.7s\n",
      "[CV 4/5] END criterion=entropy, max_depth=5, n_estimators=300;, score=0.949 total time=   0.7s\n",
      "[CV 5/5] END criterion=entropy, max_depth=5, n_estimators=300;, score=0.949 total time=   0.7s\n",
      "[CV 1/5] END criterion=gini, max_depth=None, n_estimators=200;, score=0.974 total time=   0.5s\n",
      "[CV 2/5] END criterion=gini, max_depth=None, n_estimators=200;, score=0.923 total time=   0.4s\n",
      "[CV 3/5] END criterion=gini, max_depth=None, n_estimators=200;, score=1.000 total time=   0.5s\n",
      "[CV 4/5] END criterion=gini, max_depth=None, n_estimators=200;, score=0.923 total time=   0.6s\n",
      "[CV 5/5] END criterion=gini, max_depth=None, n_estimators=200;, score=0.923 total time=   0.5s\n",
      "[CV 1/5] END criterion=entropy, max_depth=5, n_estimators=200;, score=0.974 total time=   0.5s\n",
      "[CV 2/5] END criterion=entropy, max_depth=5, n_estimators=200;, score=0.923 total time=   0.5s\n",
      "[CV 3/5] END criterion=entropy, max_depth=5, n_estimators=200;, score=0.974 total time=   0.5s\n",
      "[CV 4/5] END criterion=entropy, max_depth=5, n_estimators=200;, score=0.923 total time=   0.5s\n",
      "[CV 5/5] END criterion=entropy, max_depth=5, n_estimators=200;, score=0.949 total time=   0.5s\n",
      "[CV 1/5] END criterion=entropy, max_depth=10, n_estimators=200;, score=0.974 total time=   0.5s\n",
      "[CV 2/5] END criterion=entropy, max_depth=10, n_estimators=200;, score=0.923 total time=   0.4s\n",
      "[CV 3/5] END criterion=entropy, max_depth=10, n_estimators=200;, score=1.000 total time=   0.4s\n",
      "[CV 4/5] END criterion=entropy, max_depth=10, n_estimators=200;, score=0.897 total time=   0.4s\n",
      "[CV 5/5] END criterion=entropy, max_depth=10, n_estimators=200;, score=0.923 total time=   0.4s\n",
      "[CV 1/5] END criterion=entropy, max_depth=5, n_estimators=100;, score=0.974 total time=   0.2s\n",
      "[CV 2/5] END criterion=entropy, max_depth=5, n_estimators=100;, score=0.923 total time=   0.2s\n",
      "[CV 3/5] END criterion=entropy, max_depth=5, n_estimators=100;, score=0.974 total time=   0.2s\n",
      "[CV 4/5] END criterion=entropy, max_depth=5, n_estimators=100;, score=0.923 total time=   0.2s\n",
      "[CV 5/5] END criterion=entropy, max_depth=5, n_estimators=100;, score=0.923 total time=   0.2s\n",
      "[CV 1/5] END criterion=entropy, max_depth=None, n_estimators=200;, score=0.974 total time=   0.4s\n",
      "[CV 2/5] END criterion=entropy, max_depth=None, n_estimators=200;, score=0.923 total time=   0.5s\n",
      "[CV 3/5] END criterion=entropy, max_depth=None, n_estimators=200;, score=1.000 total time=   0.4s\n",
      "[CV 4/5] END criterion=entropy, max_depth=None, n_estimators=200;, score=0.949 total time=   0.4s\n",
      "[CV 5/5] END criterion=entropy, max_depth=None, n_estimators=200;, score=0.923 total time=   0.4s\n",
      "[CV 1/5] END criterion=gini, max_depth=None, n_estimators=100;, score=0.974 total time=   0.2s\n",
      "[CV 2/5] END criterion=gini, max_depth=None, n_estimators=100;, score=0.923 total time=   0.2s\n",
      "[CV 3/5] END criterion=gini, max_depth=None, n_estimators=100;, score=1.000 total time=   0.2s\n",
      "[CV 4/5] END criterion=gini, max_depth=None, n_estimators=100;, score=0.949 total time=   0.2s\n",
      "[CV 5/5] END criterion=gini, max_depth=None, n_estimators=100;, score=0.923 total time=   0.2s\n",
      "[CV 1/5] END criterion=gini, max_depth=3, n_estimators=100;, score=0.974 total time=   0.2s\n",
      "[CV 2/5] END criterion=gini, max_depth=3, n_estimators=100;, score=0.949 total time=   0.2s\n",
      "[CV 3/5] END criterion=gini, max_depth=3, n_estimators=100;, score=0.974 total time=   0.2s\n",
      "[CV 4/5] END criterion=gini, max_depth=3, n_estimators=100;, score=0.923 total time=   0.2s\n",
      "[CV 5/5] END criterion=gini, max_depth=3, n_estimators=100;, score=0.949 total time=   0.2s\n",
      "[CV 1/5] END criterion=gini, max_depth=None, n_estimators=300;, score=0.974 total time=   0.8s\n",
      "[CV 2/5] END criterion=gini, max_depth=None, n_estimators=300;, score=0.923 total time=   0.8s\n",
      "[CV 3/5] END criterion=gini, max_depth=None, n_estimators=300;, score=1.000 total time=   0.7s\n",
      "[CV 4/5] END criterion=gini, max_depth=None, n_estimators=300;, score=0.949 total time=   0.7s\n",
      "[CV 5/5] END criterion=gini, max_depth=None, n_estimators=300;, score=0.923 total time=   0.7s\n"
     ]
    },
    {
     "data": {
      "text/html": [
       "<style>#sk-container-id-2 {color: black;}#sk-container-id-2 pre{padding: 0;}#sk-container-id-2 div.sk-toggleable {background-color: white;}#sk-container-id-2 label.sk-toggleable__label {cursor: pointer;display: block;width: 100%;margin-bottom: 0;padding: 0.3em;box-sizing: border-box;text-align: center;}#sk-container-id-2 label.sk-toggleable__label-arrow:before {content: \"▸\";float: left;margin-right: 0.25em;color: #696969;}#sk-container-id-2 label.sk-toggleable__label-arrow:hover:before {color: black;}#sk-container-id-2 div.sk-estimator:hover label.sk-toggleable__label-arrow:before {color: black;}#sk-container-id-2 div.sk-toggleable__content {max-height: 0;max-width: 0;overflow: hidden;text-align: left;background-color: #f0f8ff;}#sk-container-id-2 div.sk-toggleable__content pre {margin: 0.2em;color: black;border-radius: 0.25em;background-color: #f0f8ff;}#sk-container-id-2 input.sk-toggleable__control:checked~div.sk-toggleable__content {max-height: 200px;max-width: 100%;overflow: auto;}#sk-container-id-2 input.sk-toggleable__control:checked~label.sk-toggleable__label-arrow:before {content: \"▾\";}#sk-container-id-2 div.sk-estimator input.sk-toggleable__control:checked~label.sk-toggleable__label {background-color: #d4ebff;}#sk-container-id-2 div.sk-label input.sk-toggleable__control:checked~label.sk-toggleable__label {background-color: #d4ebff;}#sk-container-id-2 input.sk-hidden--visually {border: 0;clip: rect(1px 1px 1px 1px);clip: rect(1px, 1px, 1px, 1px);height: 1px;margin: -1px;overflow: hidden;padding: 0;position: absolute;width: 1px;}#sk-container-id-2 div.sk-estimator {font-family: monospace;background-color: #f0f8ff;border: 1px dotted black;border-radius: 0.25em;box-sizing: border-box;margin-bottom: 0.5em;}#sk-container-id-2 div.sk-estimator:hover {background-color: #d4ebff;}#sk-container-id-2 div.sk-parallel-item::after {content: \"\";width: 100%;border-bottom: 1px solid gray;flex-grow: 1;}#sk-container-id-2 div.sk-label:hover label.sk-toggleable__label {background-color: #d4ebff;}#sk-container-id-2 div.sk-serial::before {content: \"\";position: absolute;border-left: 1px solid gray;box-sizing: border-box;top: 0;bottom: 0;left: 50%;z-index: 0;}#sk-container-id-2 div.sk-serial {display: flex;flex-direction: column;align-items: center;background-color: white;padding-right: 0.2em;padding-left: 0.2em;position: relative;}#sk-container-id-2 div.sk-item {position: relative;z-index: 1;}#sk-container-id-2 div.sk-parallel {display: flex;align-items: stretch;justify-content: center;background-color: white;position: relative;}#sk-container-id-2 div.sk-item::before, #sk-container-id-2 div.sk-parallel-item::before {content: \"\";position: absolute;border-left: 1px solid gray;box-sizing: border-box;top: 0;bottom: 0;left: 50%;z-index: -1;}#sk-container-id-2 div.sk-parallel-item {display: flex;flex-direction: column;z-index: 1;position: relative;background-color: white;}#sk-container-id-2 div.sk-parallel-item:first-child::after {align-self: flex-end;width: 50%;}#sk-container-id-2 div.sk-parallel-item:last-child::after {align-self: flex-start;width: 50%;}#sk-container-id-2 div.sk-parallel-item:only-child::after {width: 0;}#sk-container-id-2 div.sk-dashed-wrapped {border: 1px dashed gray;margin: 0 0.4em 0.5em 0.4em;box-sizing: border-box;padding-bottom: 0.4em;background-color: white;}#sk-container-id-2 div.sk-label label {font-family: monospace;font-weight: bold;display: inline-block;line-height: 1.2em;}#sk-container-id-2 div.sk-label-container {text-align: center;}#sk-container-id-2 div.sk-container {/* jupyter's `normalize.less` sets `[hidden] { display: none; }` but bootstrap.min.css set `[hidden] { display: none !important; }` so we also need the `!important` here to be able to override the default hidden behavior on the sphinx rendered scikit-learn.org. See: https://github.com/scikit-learn/scikit-learn/issues/21755 */display: inline-block !important;position: relative;}#sk-container-id-2 div.sk-text-repr-fallback {display: none;}</style><div id=\"sk-container-id-2\" class=\"sk-top-container\"><div class=\"sk-text-repr-fallback\"><pre>RandomizedSearchCV(cv=5, estimator=RandomForestClassifier(),\n",
       "                   param_distributions={&#x27;criterion&#x27;: [&#x27;gini&#x27;, &#x27;entropy&#x27;],\n",
       "                                        &#x27;max_depth&#x27;: [3, 5, 10, None],\n",
       "                                        &#x27;n_estimators&#x27;: [100, 200, 300]},\n",
       "                   scoring=&#x27;accuracy&#x27;, verbose=3)</pre><b>In a Jupyter environment, please rerun this cell to show the HTML representation or trust the notebook. <br />On GitHub, the HTML representation is unable to render, please try loading this page with nbviewer.org.</b></div><div class=\"sk-container\" hidden><div class=\"sk-item sk-dashed-wrapped\"><div class=\"sk-label-container\"><div class=\"sk-label sk-toggleable\"><input class=\"sk-toggleable__control sk-hidden--visually\" id=\"sk-estimator-id-8\" type=\"checkbox\" ><label for=\"sk-estimator-id-8\" class=\"sk-toggleable__label sk-toggleable__label-arrow\">RandomizedSearchCV</label><div class=\"sk-toggleable__content\"><pre>RandomizedSearchCV(cv=5, estimator=RandomForestClassifier(),\n",
       "                   param_distributions={&#x27;criterion&#x27;: [&#x27;gini&#x27;, &#x27;entropy&#x27;],\n",
       "                                        &#x27;max_depth&#x27;: [3, 5, 10, None],\n",
       "                                        &#x27;n_estimators&#x27;: [100, 200, 300]},\n",
       "                   scoring=&#x27;accuracy&#x27;, verbose=3)</pre></div></div></div><div class=\"sk-parallel\"><div class=\"sk-parallel-item\"><div class=\"sk-item\"><div class=\"sk-label-container\"><div class=\"sk-label sk-toggleable\"><input class=\"sk-toggleable__control sk-hidden--visually\" id=\"sk-estimator-id-9\" type=\"checkbox\" ><label for=\"sk-estimator-id-9\" class=\"sk-toggleable__label sk-toggleable__label-arrow\">estimator: RandomForestClassifier</label><div class=\"sk-toggleable__content\"><pre>RandomForestClassifier()</pre></div></div></div><div class=\"sk-serial\"><div class=\"sk-item\"><div class=\"sk-estimator sk-toggleable\"><input class=\"sk-toggleable__control sk-hidden--visually\" id=\"sk-estimator-id-10\" type=\"checkbox\" ><label for=\"sk-estimator-id-10\" class=\"sk-toggleable__label sk-toggleable__label-arrow\">RandomForestClassifier</label><div class=\"sk-toggleable__content\"><pre>RandomForestClassifier()</pre></div></div></div></div></div></div></div></div></div></div>"
      ],
      "text/plain": [
       "RandomizedSearchCV(cv=5, estimator=RandomForestClassifier(),\n",
       "                   param_distributions={'criterion': ['gini', 'entropy'],\n",
       "                                        'max_depth': [3, 5, 10, None],\n",
       "                                        'n_estimators': [100, 200, 300]},\n",
       "                   scoring='accuracy', verbose=3)"
      ]
     },
     "execution_count": 27,
     "metadata": {},
     "output_type": "execute_result"
    }
   ],
   "source": [
    "cv=RandomizedSearchCV(classfier,param_distributions=params,scoring='accuracy',cv=5,verbose=3)\n",
    "cv.fit(X_train,y_train)"
   ]
  },
  {
   "cell_type": "code",
   "execution_count": 28,
   "id": "7a9ef56c",
   "metadata": {},
   "outputs": [
    {
     "data": {
      "text/plain": [
       "{'n_estimators': 100, 'max_depth': 3, 'criterion': 'entropy'}"
      ]
     },
     "execution_count": 28,
     "metadata": {},
     "output_type": "execute_result"
    }
   ],
   "source": [
    "cv.best_params_"
   ]
  },
  {
   "cell_type": "markdown",
   "id": "ac71423c",
   "metadata": {},
   "source": [
    "## RandomForest Regression Solve it Internal Assignment"
   ]
  },
  {
   "cell_type": "code",
   "execution_count": 29,
   "id": "7cab7c9d",
   "metadata": {},
   "outputs": [],
   "source": [
    "import numpy as np\n",
    "import pandas as pd\n",
    "import seaborn as sns\n",
    "import matplotlib.pyplot as plt"
   ]
  },
  {
   "cell_type": "code",
   "execution_count": 30,
   "id": "7ea26ea9",
   "metadata": {},
   "outputs": [],
   "source": [
    "from sklearn.datasets import fetch_california_housing"
   ]
  },
  {
   "cell_type": "code",
   "execution_count": 31,
   "id": "57349e9f",
   "metadata": {},
   "outputs": [],
   "source": [
    "california=fetch_california_housing()"
   ]
  },
  {
   "cell_type": "code",
   "execution_count": 32,
   "id": "5cf2d242",
   "metadata": {},
   "outputs": [],
   "source": [
    "df=pd.DataFrame(california.data,columns=california.feature_names)"
   ]
  },
  {
   "cell_type": "code",
   "execution_count": 33,
   "id": "91c1ba9c",
   "metadata": {},
   "outputs": [
    {
     "data": {
      "text/html": [
       "<div>\n",
       "<style scoped>\n",
       "    .dataframe tbody tr th:only-of-type {\n",
       "        vertical-align: middle;\n",
       "    }\n",
       "\n",
       "    .dataframe tbody tr th {\n",
       "        vertical-align: top;\n",
       "    }\n",
       "\n",
       "    .dataframe thead th {\n",
       "        text-align: right;\n",
       "    }\n",
       "</style>\n",
       "<table border=\"1\" class=\"dataframe\">\n",
       "  <thead>\n",
       "    <tr style=\"text-align: right;\">\n",
       "      <th></th>\n",
       "      <th>MedInc</th>\n",
       "      <th>HouseAge</th>\n",
       "      <th>AveRooms</th>\n",
       "      <th>AveBedrms</th>\n",
       "      <th>Population</th>\n",
       "      <th>AveOccup</th>\n",
       "      <th>Latitude</th>\n",
       "      <th>Longitude</th>\n",
       "    </tr>\n",
       "  </thead>\n",
       "  <tbody>\n",
       "    <tr>\n",
       "      <th>0</th>\n",
       "      <td>8.3252</td>\n",
       "      <td>41.0</td>\n",
       "      <td>6.984127</td>\n",
       "      <td>1.023810</td>\n",
       "      <td>322.0</td>\n",
       "      <td>2.555556</td>\n",
       "      <td>37.88</td>\n",
       "      <td>-122.23</td>\n",
       "    </tr>\n",
       "    <tr>\n",
       "      <th>1</th>\n",
       "      <td>8.3014</td>\n",
       "      <td>21.0</td>\n",
       "      <td>6.238137</td>\n",
       "      <td>0.971880</td>\n",
       "      <td>2401.0</td>\n",
       "      <td>2.109842</td>\n",
       "      <td>37.86</td>\n",
       "      <td>-122.22</td>\n",
       "    </tr>\n",
       "    <tr>\n",
       "      <th>2</th>\n",
       "      <td>7.2574</td>\n",
       "      <td>52.0</td>\n",
       "      <td>8.288136</td>\n",
       "      <td>1.073446</td>\n",
       "      <td>496.0</td>\n",
       "      <td>2.802260</td>\n",
       "      <td>37.85</td>\n",
       "      <td>-122.24</td>\n",
       "    </tr>\n",
       "    <tr>\n",
       "      <th>3</th>\n",
       "      <td>5.6431</td>\n",
       "      <td>52.0</td>\n",
       "      <td>5.817352</td>\n",
       "      <td>1.073059</td>\n",
       "      <td>558.0</td>\n",
       "      <td>2.547945</td>\n",
       "      <td>37.85</td>\n",
       "      <td>-122.25</td>\n",
       "    </tr>\n",
       "    <tr>\n",
       "      <th>4</th>\n",
       "      <td>3.8462</td>\n",
       "      <td>52.0</td>\n",
       "      <td>6.281853</td>\n",
       "      <td>1.081081</td>\n",
       "      <td>565.0</td>\n",
       "      <td>2.181467</td>\n",
       "      <td>37.85</td>\n",
       "      <td>-122.25</td>\n",
       "    </tr>\n",
       "  </tbody>\n",
       "</table>\n",
       "</div>"
      ],
      "text/plain": [
       "   MedInc  HouseAge  AveRooms  AveBedrms  Population  AveOccup  Latitude  \\\n",
       "0  8.3252      41.0  6.984127   1.023810       322.0  2.555556     37.88   \n",
       "1  8.3014      21.0  6.238137   0.971880      2401.0  2.109842     37.86   \n",
       "2  7.2574      52.0  8.288136   1.073446       496.0  2.802260     37.85   \n",
       "3  5.6431      52.0  5.817352   1.073059       558.0  2.547945     37.85   \n",
       "4  3.8462      52.0  6.281853   1.081081       565.0  2.181467     37.85   \n",
       "\n",
       "   Longitude  \n",
       "0    -122.23  \n",
       "1    -122.22  \n",
       "2    -122.24  \n",
       "3    -122.25  \n",
       "4    -122.25  "
      ]
     },
     "execution_count": 33,
     "metadata": {},
     "output_type": "execute_result"
    }
   ],
   "source": [
    "df.head()"
   ]
  },
  {
   "cell_type": "code",
   "execution_count": 34,
   "id": "d5c5ba26",
   "metadata": {},
   "outputs": [],
   "source": [
    "df['price']=california.target"
   ]
  },
  {
   "cell_type": "code",
   "execution_count": 35,
   "id": "047fdf76",
   "metadata": {},
   "outputs": [
    {
     "data": {
      "text/html": [
       "<div>\n",
       "<style scoped>\n",
       "    .dataframe tbody tr th:only-of-type {\n",
       "        vertical-align: middle;\n",
       "    }\n",
       "\n",
       "    .dataframe tbody tr th {\n",
       "        vertical-align: top;\n",
       "    }\n",
       "\n",
       "    .dataframe thead th {\n",
       "        text-align: right;\n",
       "    }\n",
       "</style>\n",
       "<table border=\"1\" class=\"dataframe\">\n",
       "  <thead>\n",
       "    <tr style=\"text-align: right;\">\n",
       "      <th></th>\n",
       "      <th>MedInc</th>\n",
       "      <th>HouseAge</th>\n",
       "      <th>AveRooms</th>\n",
       "      <th>AveBedrms</th>\n",
       "      <th>Population</th>\n",
       "      <th>AveOccup</th>\n",
       "      <th>Latitude</th>\n",
       "      <th>Longitude</th>\n",
       "      <th>price</th>\n",
       "    </tr>\n",
       "  </thead>\n",
       "  <tbody>\n",
       "    <tr>\n",
       "      <th>0</th>\n",
       "      <td>8.3252</td>\n",
       "      <td>41.0</td>\n",
       "      <td>6.984127</td>\n",
       "      <td>1.023810</td>\n",
       "      <td>322.0</td>\n",
       "      <td>2.555556</td>\n",
       "      <td>37.88</td>\n",
       "      <td>-122.23</td>\n",
       "      <td>4.526</td>\n",
       "    </tr>\n",
       "    <tr>\n",
       "      <th>1</th>\n",
       "      <td>8.3014</td>\n",
       "      <td>21.0</td>\n",
       "      <td>6.238137</td>\n",
       "      <td>0.971880</td>\n",
       "      <td>2401.0</td>\n",
       "      <td>2.109842</td>\n",
       "      <td>37.86</td>\n",
       "      <td>-122.22</td>\n",
       "      <td>3.585</td>\n",
       "    </tr>\n",
       "    <tr>\n",
       "      <th>2</th>\n",
       "      <td>7.2574</td>\n",
       "      <td>52.0</td>\n",
       "      <td>8.288136</td>\n",
       "      <td>1.073446</td>\n",
       "      <td>496.0</td>\n",
       "      <td>2.802260</td>\n",
       "      <td>37.85</td>\n",
       "      <td>-122.24</td>\n",
       "      <td>3.521</td>\n",
       "    </tr>\n",
       "    <tr>\n",
       "      <th>3</th>\n",
       "      <td>5.6431</td>\n",
       "      <td>52.0</td>\n",
       "      <td>5.817352</td>\n",
       "      <td>1.073059</td>\n",
       "      <td>558.0</td>\n",
       "      <td>2.547945</td>\n",
       "      <td>37.85</td>\n",
       "      <td>-122.25</td>\n",
       "      <td>3.413</td>\n",
       "    </tr>\n",
       "    <tr>\n",
       "      <th>4</th>\n",
       "      <td>3.8462</td>\n",
       "      <td>52.0</td>\n",
       "      <td>6.281853</td>\n",
       "      <td>1.081081</td>\n",
       "      <td>565.0</td>\n",
       "      <td>2.181467</td>\n",
       "      <td>37.85</td>\n",
       "      <td>-122.25</td>\n",
       "      <td>3.422</td>\n",
       "    </tr>\n",
       "  </tbody>\n",
       "</table>\n",
       "</div>"
      ],
      "text/plain": [
       "   MedInc  HouseAge  AveRooms  AveBedrms  Population  AveOccup  Latitude  \\\n",
       "0  8.3252      41.0  6.984127   1.023810       322.0  2.555556     37.88   \n",
       "1  8.3014      21.0  6.238137   0.971880      2401.0  2.109842     37.86   \n",
       "2  7.2574      52.0  8.288136   1.073446       496.0  2.802260     37.85   \n",
       "3  5.6431      52.0  5.817352   1.073059       558.0  2.547945     37.85   \n",
       "4  3.8462      52.0  6.281853   1.081081       565.0  2.181467     37.85   \n",
       "\n",
       "   Longitude  price  \n",
       "0    -122.23  4.526  \n",
       "1    -122.22  3.585  \n",
       "2    -122.24  3.521  \n",
       "3    -122.25  3.413  \n",
       "4    -122.25  3.422  "
      ]
     },
     "execution_count": 35,
     "metadata": {},
     "output_type": "execute_result"
    }
   ],
   "source": [
    "df.head()"
   ]
  },
  {
   "cell_type": "code",
   "execution_count": 36,
   "id": "e2f03000",
   "metadata": {},
   "outputs": [],
   "source": [
    "x=df.iloc[:,:-1]"
   ]
  },
  {
   "cell_type": "code",
   "execution_count": 37,
   "id": "4a0a77ed",
   "metadata": {},
   "outputs": [
    {
     "data": {
      "text/html": [
       "<div>\n",
       "<style scoped>\n",
       "    .dataframe tbody tr th:only-of-type {\n",
       "        vertical-align: middle;\n",
       "    }\n",
       "\n",
       "    .dataframe tbody tr th {\n",
       "        vertical-align: top;\n",
       "    }\n",
       "\n",
       "    .dataframe thead th {\n",
       "        text-align: right;\n",
       "    }\n",
       "</style>\n",
       "<table border=\"1\" class=\"dataframe\">\n",
       "  <thead>\n",
       "    <tr style=\"text-align: right;\">\n",
       "      <th></th>\n",
       "      <th>MedInc</th>\n",
       "      <th>HouseAge</th>\n",
       "      <th>AveRooms</th>\n",
       "      <th>AveBedrms</th>\n",
       "      <th>Population</th>\n",
       "      <th>AveOccup</th>\n",
       "      <th>Latitude</th>\n",
       "      <th>Longitude</th>\n",
       "    </tr>\n",
       "  </thead>\n",
       "  <tbody>\n",
       "    <tr>\n",
       "      <th>0</th>\n",
       "      <td>8.3252</td>\n",
       "      <td>41.0</td>\n",
       "      <td>6.984127</td>\n",
       "      <td>1.023810</td>\n",
       "      <td>322.0</td>\n",
       "      <td>2.555556</td>\n",
       "      <td>37.88</td>\n",
       "      <td>-122.23</td>\n",
       "    </tr>\n",
       "    <tr>\n",
       "      <th>1</th>\n",
       "      <td>8.3014</td>\n",
       "      <td>21.0</td>\n",
       "      <td>6.238137</td>\n",
       "      <td>0.971880</td>\n",
       "      <td>2401.0</td>\n",
       "      <td>2.109842</td>\n",
       "      <td>37.86</td>\n",
       "      <td>-122.22</td>\n",
       "    </tr>\n",
       "    <tr>\n",
       "      <th>2</th>\n",
       "      <td>7.2574</td>\n",
       "      <td>52.0</td>\n",
       "      <td>8.288136</td>\n",
       "      <td>1.073446</td>\n",
       "      <td>496.0</td>\n",
       "      <td>2.802260</td>\n",
       "      <td>37.85</td>\n",
       "      <td>-122.24</td>\n",
       "    </tr>\n",
       "    <tr>\n",
       "      <th>3</th>\n",
       "      <td>5.6431</td>\n",
       "      <td>52.0</td>\n",
       "      <td>5.817352</td>\n",
       "      <td>1.073059</td>\n",
       "      <td>558.0</td>\n",
       "      <td>2.547945</td>\n",
       "      <td>37.85</td>\n",
       "      <td>-122.25</td>\n",
       "    </tr>\n",
       "    <tr>\n",
       "      <th>4</th>\n",
       "      <td>3.8462</td>\n",
       "      <td>52.0</td>\n",
       "      <td>6.281853</td>\n",
       "      <td>1.081081</td>\n",
       "      <td>565.0</td>\n",
       "      <td>2.181467</td>\n",
       "      <td>37.85</td>\n",
       "      <td>-122.25</td>\n",
       "    </tr>\n",
       "    <tr>\n",
       "      <th>...</th>\n",
       "      <td>...</td>\n",
       "      <td>...</td>\n",
       "      <td>...</td>\n",
       "      <td>...</td>\n",
       "      <td>...</td>\n",
       "      <td>...</td>\n",
       "      <td>...</td>\n",
       "      <td>...</td>\n",
       "    </tr>\n",
       "    <tr>\n",
       "      <th>20635</th>\n",
       "      <td>1.5603</td>\n",
       "      <td>25.0</td>\n",
       "      <td>5.045455</td>\n",
       "      <td>1.133333</td>\n",
       "      <td>845.0</td>\n",
       "      <td>2.560606</td>\n",
       "      <td>39.48</td>\n",
       "      <td>-121.09</td>\n",
       "    </tr>\n",
       "    <tr>\n",
       "      <th>20636</th>\n",
       "      <td>2.5568</td>\n",
       "      <td>18.0</td>\n",
       "      <td>6.114035</td>\n",
       "      <td>1.315789</td>\n",
       "      <td>356.0</td>\n",
       "      <td>3.122807</td>\n",
       "      <td>39.49</td>\n",
       "      <td>-121.21</td>\n",
       "    </tr>\n",
       "    <tr>\n",
       "      <th>20637</th>\n",
       "      <td>1.7000</td>\n",
       "      <td>17.0</td>\n",
       "      <td>5.205543</td>\n",
       "      <td>1.120092</td>\n",
       "      <td>1007.0</td>\n",
       "      <td>2.325635</td>\n",
       "      <td>39.43</td>\n",
       "      <td>-121.22</td>\n",
       "    </tr>\n",
       "    <tr>\n",
       "      <th>20638</th>\n",
       "      <td>1.8672</td>\n",
       "      <td>18.0</td>\n",
       "      <td>5.329513</td>\n",
       "      <td>1.171920</td>\n",
       "      <td>741.0</td>\n",
       "      <td>2.123209</td>\n",
       "      <td>39.43</td>\n",
       "      <td>-121.32</td>\n",
       "    </tr>\n",
       "    <tr>\n",
       "      <th>20639</th>\n",
       "      <td>2.3886</td>\n",
       "      <td>16.0</td>\n",
       "      <td>5.254717</td>\n",
       "      <td>1.162264</td>\n",
       "      <td>1387.0</td>\n",
       "      <td>2.616981</td>\n",
       "      <td>39.37</td>\n",
       "      <td>-121.24</td>\n",
       "    </tr>\n",
       "  </tbody>\n",
       "</table>\n",
       "<p>20640 rows × 8 columns</p>\n",
       "</div>"
      ],
      "text/plain": [
       "       MedInc  HouseAge  AveRooms  AveBedrms  Population  AveOccup  Latitude  \\\n",
       "0      8.3252      41.0  6.984127   1.023810       322.0  2.555556     37.88   \n",
       "1      8.3014      21.0  6.238137   0.971880      2401.0  2.109842     37.86   \n",
       "2      7.2574      52.0  8.288136   1.073446       496.0  2.802260     37.85   \n",
       "3      5.6431      52.0  5.817352   1.073059       558.0  2.547945     37.85   \n",
       "4      3.8462      52.0  6.281853   1.081081       565.0  2.181467     37.85   \n",
       "...       ...       ...       ...        ...         ...       ...       ...   \n",
       "20635  1.5603      25.0  5.045455   1.133333       845.0  2.560606     39.48   \n",
       "20636  2.5568      18.0  6.114035   1.315789       356.0  3.122807     39.49   \n",
       "20637  1.7000      17.0  5.205543   1.120092      1007.0  2.325635     39.43   \n",
       "20638  1.8672      18.0  5.329513   1.171920       741.0  2.123209     39.43   \n",
       "20639  2.3886      16.0  5.254717   1.162264      1387.0  2.616981     39.37   \n",
       "\n",
       "       Longitude  \n",
       "0        -122.23  \n",
       "1        -122.22  \n",
       "2        -122.24  \n",
       "3        -122.25  \n",
       "4        -122.25  \n",
       "...          ...  \n",
       "20635    -121.09  \n",
       "20636    -121.21  \n",
       "20637    -121.22  \n",
       "20638    -121.32  \n",
       "20639    -121.24  \n",
       "\n",
       "[20640 rows x 8 columns]"
      ]
     },
     "execution_count": 37,
     "metadata": {},
     "output_type": "execute_result"
    }
   ],
   "source": [
    "x"
   ]
  },
  {
   "cell_type": "code",
   "execution_count": 38,
   "id": "0c5d3729",
   "metadata": {},
   "outputs": [],
   "source": [
    "y=df.iloc[:,-1]"
   ]
  },
  {
   "cell_type": "code",
   "execution_count": 39,
   "id": "e4171b47",
   "metadata": {},
   "outputs": [
    {
     "data": {
      "text/plain": [
       "0        4.526\n",
       "1        3.585\n",
       "2        3.521\n",
       "3        3.413\n",
       "4        3.422\n",
       "         ...  \n",
       "20635    0.781\n",
       "20636    0.771\n",
       "20637    0.923\n",
       "20638    0.847\n",
       "20639    0.894\n",
       "Name: price, Length: 20640, dtype: float64"
      ]
     },
     "execution_count": 39,
     "metadata": {},
     "output_type": "execute_result"
    }
   ],
   "source": [
    "y"
   ]
  },
  {
   "cell_type": "code",
   "execution_count": 40,
   "id": "d979db79",
   "metadata": {},
   "outputs": [],
   "source": [
    "from sklearn.model_selection import train_test_split"
   ]
  },
  {
   "cell_type": "code",
   "execution_count": 41,
   "id": "0beaf5bf",
   "metadata": {},
   "outputs": [],
   "source": [
    "X_train,X_test,y_train,y_test=train_test_split(x,y,test_size=0.33,random_state=24)"
   ]
  },
  {
   "cell_type": "code",
   "execution_count": 42,
   "id": "9ee6a377",
   "metadata": {},
   "outputs": [],
   "source": [
    "from sklearn.pipeline import Pipeline\n",
    "from sklearn.impute import SimpleImputer\n",
    "from sklearn.preprocessing import StandardScaler\n",
    "from sklearn.preprocessing import OneHotEncoder\n",
    "from sklearn.compose import ColumnTransformer"
   ]
  },
  {
   "cell_type": "code",
   "execution_count": 43,
   "id": "e421869c",
   "metadata": {},
   "outputs": [
    {
     "data": {
      "text/html": [
       "<div>\n",
       "<style scoped>\n",
       "    .dataframe tbody tr th:only-of-type {\n",
       "        vertical-align: middle;\n",
       "    }\n",
       "\n",
       "    .dataframe tbody tr th {\n",
       "        vertical-align: top;\n",
       "    }\n",
       "\n",
       "    .dataframe thead th {\n",
       "        text-align: right;\n",
       "    }\n",
       "</style>\n",
       "<table border=\"1\" class=\"dataframe\">\n",
       "  <thead>\n",
       "    <tr style=\"text-align: right;\">\n",
       "      <th></th>\n",
       "      <th>MedInc</th>\n",
       "      <th>HouseAge</th>\n",
       "      <th>AveRooms</th>\n",
       "      <th>AveBedrms</th>\n",
       "      <th>Population</th>\n",
       "      <th>AveOccup</th>\n",
       "      <th>Latitude</th>\n",
       "      <th>Longitude</th>\n",
       "      <th>price</th>\n",
       "    </tr>\n",
       "  </thead>\n",
       "  <tbody>\n",
       "    <tr>\n",
       "      <th>0</th>\n",
       "      <td>8.3252</td>\n",
       "      <td>41.0</td>\n",
       "      <td>6.984127</td>\n",
       "      <td>1.02381</td>\n",
       "      <td>322.0</td>\n",
       "      <td>2.555556</td>\n",
       "      <td>37.88</td>\n",
       "      <td>-122.23</td>\n",
       "      <td>4.526</td>\n",
       "    </tr>\n",
       "    <tr>\n",
       "      <th>1</th>\n",
       "      <td>8.3014</td>\n",
       "      <td>21.0</td>\n",
       "      <td>6.238137</td>\n",
       "      <td>0.97188</td>\n",
       "      <td>2401.0</td>\n",
       "      <td>2.109842</td>\n",
       "      <td>37.86</td>\n",
       "      <td>-122.22</td>\n",
       "      <td>3.585</td>\n",
       "    </tr>\n",
       "  </tbody>\n",
       "</table>\n",
       "</div>"
      ],
      "text/plain": [
       "   MedInc  HouseAge  AveRooms  AveBedrms  Population  AveOccup  Latitude  \\\n",
       "0  8.3252      41.0  6.984127    1.02381       322.0  2.555556     37.88   \n",
       "1  8.3014      21.0  6.238137    0.97188      2401.0  2.109842     37.86   \n",
       "\n",
       "   Longitude  price  \n",
       "0    -122.23  4.526  \n",
       "1    -122.22  3.585  "
      ]
     },
     "execution_count": 43,
     "metadata": {},
     "output_type": "execute_result"
    }
   ],
   "source": [
    "df.head(2)"
   ]
  },
  {
   "cell_type": "code",
   "execution_count": 44,
   "id": "d84898be",
   "metadata": {},
   "outputs": [],
   "source": [
    "num_col=['MedInc','HouseAge','AveRooms','AveBedrms','Population','AveOccup','Latitude','Longitude']"
   ]
  },
  {
   "cell_type": "code",
   "execution_count": 45,
   "id": "09956425",
   "metadata": {},
   "outputs": [],
   "source": [
    "num_pipeline=Pipeline(\n",
    "    steps=[\n",
    "        ('impute',SimpleImputer(strategy='median')),\n",
    "        ('scaler',StandardScaler())\n",
    "    ]\n",
    ")"
   ]
  },
  {
   "cell_type": "code",
   "execution_count": 46,
   "id": "f5aea980",
   "metadata": {},
   "outputs": [],
   "source": [
    "prepocessor=ColumnTransformer([\n",
    "    ('num_pipeline',num_pipeline,num_col)\n",
    "])"
   ]
  },
  {
   "cell_type": "code",
   "execution_count": 47,
   "id": "d5884cbf",
   "metadata": {},
   "outputs": [
    {
     "data": {
      "text/html": [
       "<style>#sk-container-id-3 {color: black;}#sk-container-id-3 pre{padding: 0;}#sk-container-id-3 div.sk-toggleable {background-color: white;}#sk-container-id-3 label.sk-toggleable__label {cursor: pointer;display: block;width: 100%;margin-bottom: 0;padding: 0.3em;box-sizing: border-box;text-align: center;}#sk-container-id-3 label.sk-toggleable__label-arrow:before {content: \"▸\";float: left;margin-right: 0.25em;color: #696969;}#sk-container-id-3 label.sk-toggleable__label-arrow:hover:before {color: black;}#sk-container-id-3 div.sk-estimator:hover label.sk-toggleable__label-arrow:before {color: black;}#sk-container-id-3 div.sk-toggleable__content {max-height: 0;max-width: 0;overflow: hidden;text-align: left;background-color: #f0f8ff;}#sk-container-id-3 div.sk-toggleable__content pre {margin: 0.2em;color: black;border-radius: 0.25em;background-color: #f0f8ff;}#sk-container-id-3 input.sk-toggleable__control:checked~div.sk-toggleable__content {max-height: 200px;max-width: 100%;overflow: auto;}#sk-container-id-3 input.sk-toggleable__control:checked~label.sk-toggleable__label-arrow:before {content: \"▾\";}#sk-container-id-3 div.sk-estimator input.sk-toggleable__control:checked~label.sk-toggleable__label {background-color: #d4ebff;}#sk-container-id-3 div.sk-label input.sk-toggleable__control:checked~label.sk-toggleable__label {background-color: #d4ebff;}#sk-container-id-3 input.sk-hidden--visually {border: 0;clip: rect(1px 1px 1px 1px);clip: rect(1px, 1px, 1px, 1px);height: 1px;margin: -1px;overflow: hidden;padding: 0;position: absolute;width: 1px;}#sk-container-id-3 div.sk-estimator {font-family: monospace;background-color: #f0f8ff;border: 1px dotted black;border-radius: 0.25em;box-sizing: border-box;margin-bottom: 0.5em;}#sk-container-id-3 div.sk-estimator:hover {background-color: #d4ebff;}#sk-container-id-3 div.sk-parallel-item::after {content: \"\";width: 100%;border-bottom: 1px solid gray;flex-grow: 1;}#sk-container-id-3 div.sk-label:hover label.sk-toggleable__label {background-color: #d4ebff;}#sk-container-id-3 div.sk-serial::before {content: \"\";position: absolute;border-left: 1px solid gray;box-sizing: border-box;top: 0;bottom: 0;left: 50%;z-index: 0;}#sk-container-id-3 div.sk-serial {display: flex;flex-direction: column;align-items: center;background-color: white;padding-right: 0.2em;padding-left: 0.2em;position: relative;}#sk-container-id-3 div.sk-item {position: relative;z-index: 1;}#sk-container-id-3 div.sk-parallel {display: flex;align-items: stretch;justify-content: center;background-color: white;position: relative;}#sk-container-id-3 div.sk-item::before, #sk-container-id-3 div.sk-parallel-item::before {content: \"\";position: absolute;border-left: 1px solid gray;box-sizing: border-box;top: 0;bottom: 0;left: 50%;z-index: -1;}#sk-container-id-3 div.sk-parallel-item {display: flex;flex-direction: column;z-index: 1;position: relative;background-color: white;}#sk-container-id-3 div.sk-parallel-item:first-child::after {align-self: flex-end;width: 50%;}#sk-container-id-3 div.sk-parallel-item:last-child::after {align-self: flex-start;width: 50%;}#sk-container-id-3 div.sk-parallel-item:only-child::after {width: 0;}#sk-container-id-3 div.sk-dashed-wrapped {border: 1px dashed gray;margin: 0 0.4em 0.5em 0.4em;box-sizing: border-box;padding-bottom: 0.4em;background-color: white;}#sk-container-id-3 div.sk-label label {font-family: monospace;font-weight: bold;display: inline-block;line-height: 1.2em;}#sk-container-id-3 div.sk-label-container {text-align: center;}#sk-container-id-3 div.sk-container {/* jupyter's `normalize.less` sets `[hidden] { display: none; }` but bootstrap.min.css set `[hidden] { display: none !important; }` so we also need the `!important` here to be able to override the default hidden behavior on the sphinx rendered scikit-learn.org. See: https://github.com/scikit-learn/scikit-learn/issues/21755 */display: inline-block !important;position: relative;}#sk-container-id-3 div.sk-text-repr-fallback {display: none;}</style><div id=\"sk-container-id-3\" class=\"sk-top-container\"><div class=\"sk-text-repr-fallback\"><pre>ColumnTransformer(transformers=[(&#x27;num_pipeline&#x27;,\n",
       "                                 Pipeline(steps=[(&#x27;impute&#x27;,\n",
       "                                                  SimpleImputer(strategy=&#x27;median&#x27;)),\n",
       "                                                 (&#x27;scaler&#x27;, StandardScaler())]),\n",
       "                                 [&#x27;MedInc&#x27;, &#x27;HouseAge&#x27;, &#x27;AveRooms&#x27;, &#x27;AveBedrms&#x27;,\n",
       "                                  &#x27;Population&#x27;, &#x27;AveOccup&#x27;, &#x27;Latitude&#x27;,\n",
       "                                  &#x27;Longitude&#x27;])])</pre><b>In a Jupyter environment, please rerun this cell to show the HTML representation or trust the notebook. <br />On GitHub, the HTML representation is unable to render, please try loading this page with nbviewer.org.</b></div><div class=\"sk-container\" hidden><div class=\"sk-item sk-dashed-wrapped\"><div class=\"sk-label-container\"><div class=\"sk-label sk-toggleable\"><input class=\"sk-toggleable__control sk-hidden--visually\" id=\"sk-estimator-id-11\" type=\"checkbox\" ><label for=\"sk-estimator-id-11\" class=\"sk-toggleable__label sk-toggleable__label-arrow\">ColumnTransformer</label><div class=\"sk-toggleable__content\"><pre>ColumnTransformer(transformers=[(&#x27;num_pipeline&#x27;,\n",
       "                                 Pipeline(steps=[(&#x27;impute&#x27;,\n",
       "                                                  SimpleImputer(strategy=&#x27;median&#x27;)),\n",
       "                                                 (&#x27;scaler&#x27;, StandardScaler())]),\n",
       "                                 [&#x27;MedInc&#x27;, &#x27;HouseAge&#x27;, &#x27;AveRooms&#x27;, &#x27;AveBedrms&#x27;,\n",
       "                                  &#x27;Population&#x27;, &#x27;AveOccup&#x27;, &#x27;Latitude&#x27;,\n",
       "                                  &#x27;Longitude&#x27;])])</pre></div></div></div><div class=\"sk-parallel\"><div class=\"sk-parallel-item\"><div class=\"sk-item\"><div class=\"sk-label-container\"><div class=\"sk-label sk-toggleable\"><input class=\"sk-toggleable__control sk-hidden--visually\" id=\"sk-estimator-id-12\" type=\"checkbox\" ><label for=\"sk-estimator-id-12\" class=\"sk-toggleable__label sk-toggleable__label-arrow\">num_pipeline</label><div class=\"sk-toggleable__content\"><pre>[&#x27;MedInc&#x27;, &#x27;HouseAge&#x27;, &#x27;AveRooms&#x27;, &#x27;AveBedrms&#x27;, &#x27;Population&#x27;, &#x27;AveOccup&#x27;, &#x27;Latitude&#x27;, &#x27;Longitude&#x27;]</pre></div></div></div><div class=\"sk-serial\"><div class=\"sk-item\"><div class=\"sk-serial\"><div class=\"sk-item\"><div class=\"sk-estimator sk-toggleable\"><input class=\"sk-toggleable__control sk-hidden--visually\" id=\"sk-estimator-id-13\" type=\"checkbox\" ><label for=\"sk-estimator-id-13\" class=\"sk-toggleable__label sk-toggleable__label-arrow\">SimpleImputer</label><div class=\"sk-toggleable__content\"><pre>SimpleImputer(strategy=&#x27;median&#x27;)</pre></div></div></div><div class=\"sk-item\"><div class=\"sk-estimator sk-toggleable\"><input class=\"sk-toggleable__control sk-hidden--visually\" id=\"sk-estimator-id-14\" type=\"checkbox\" ><label for=\"sk-estimator-id-14\" class=\"sk-toggleable__label sk-toggleable__label-arrow\">StandardScaler</label><div class=\"sk-toggleable__content\"><pre>StandardScaler()</pre></div></div></div></div></div></div></div></div></div></div></div></div>"
      ],
      "text/plain": [
       "ColumnTransformer(transformers=[('num_pipeline',\n",
       "                                 Pipeline(steps=[('impute',\n",
       "                                                  SimpleImputer(strategy='median')),\n",
       "                                                 ('scaler', StandardScaler())]),\n",
       "                                 ['MedInc', 'HouseAge', 'AveRooms', 'AveBedrms',\n",
       "                                  'Population', 'AveOccup', 'Latitude',\n",
       "                                  'Longitude'])])"
      ]
     },
     "execution_count": 47,
     "metadata": {},
     "output_type": "execute_result"
    }
   ],
   "source": [
    "prepocessor"
   ]
  },
  {
   "cell_type": "code",
   "execution_count": 48,
   "id": "a43df65f",
   "metadata": {},
   "outputs": [],
   "source": [
    "X_train=prepocessor.fit_transform(X_train)\n",
    "X_test=prepocessor.transform(X_test)"
   ]
  },
  {
   "cell_type": "code",
   "execution_count": 49,
   "id": "50eee834",
   "metadata": {},
   "outputs": [],
   "source": [
    "from sklearn.ensemble import RandomForestRegressor\n",
    "from sklearn.linear_model import LinearRegression\n",
    "from sklearn.tree import DecisionTreeRegressor"
   ]
  },
  {
   "cell_type": "code",
   "execution_count": 50,
   "id": "dfbf435d",
   "metadata": {},
   "outputs": [],
   "source": [
    "models={\n",
    "    'Random_forest':RandomForestRegressor(),\n",
    "    'Linear_model':LinearRegression(),\n",
    "    'Tree':DecisionTreeRegressor()\n",
    "}"
   ]
  },
  {
   "cell_type": "code",
   "execution_count": 51,
   "id": "6883f73f",
   "metadata": {},
   "outputs": [],
   "source": [
    "from sklearn.metrics import r2_score"
   ]
  },
  {
   "cell_type": "code",
   "execution_count": 52,
   "id": "b96b5af6",
   "metadata": {},
   "outputs": [],
   "source": [
    "def evalute_models(X_train,y_train,X_test,y_test,models):\n",
    "    report={}\n",
    "    for i in range(len(models)):\n",
    "        model=list(models.values())[i]\n",
    "        model.fit(X_train,y_train)\n",
    "        y_test_pred=model.predict(X_test)\n",
    "        test_model_score=r2_score(y_test,y_test_pred)\n",
    "        report[list(models.keys())[i]]=test_model_score\n",
    "    return report"
   ]
  },
  {
   "cell_type": "code",
   "execution_count": 53,
   "id": "f6edb5d7",
   "metadata": {},
   "outputs": [
    {
     "data": {
      "text/plain": [
       "{'Random_forest': 0.8030615841290561,\n",
       " 'Linear_model': 0.588033436759194,\n",
       " 'Tree': 0.5973141714172285}"
      ]
     },
     "execution_count": 53,
     "metadata": {},
     "output_type": "execute_result"
    }
   ],
   "source": [
    "evalute_models(X_train,y_train,X_test,y_test,models)"
   ]
  },
  {
   "cell_type": "code",
   "execution_count": 54,
   "id": "3c0cb889",
   "metadata": {},
   "outputs": [],
   "source": [
    "regression=RandomForestRegressor()"
   ]
  },
  {
   "cell_type": "code",
   "execution_count": 55,
   "id": "e8bde707",
   "metadata": {},
   "outputs": [],
   "source": [
    "param_grid = { \n",
    "\t'n_estimators': [25, 50, 100, 150], \n",
    "\t'max_features': ['sqrt', 'log2', None], \n",
    "\t'max_depth': [3, 6, 9], \n",
    "\t'max_leaf_nodes': [3, 6, 9], \n",
    "} "
   ]
  },
  {
   "cell_type": "code",
   "execution_count": 56,
   "id": "8bbfef99",
   "metadata": {},
   "outputs": [],
   "source": [
    "from sklearn.model_selection import RandomizedSearchCV\n",
    "from sklearn.model_selection import GridSearchCV\n",
    "import warnings\n",
    "warnings.filterwarnings('ignore')"
   ]
  },
  {
   "cell_type": "code",
   "execution_count": 57,
   "id": "bb3587ac",
   "metadata": {},
   "outputs": [],
   "source": [
    "clf=GridSearchCV(regression,param_grid=param_grid,scoring='accuracy',cv=5,verbose=3)"
   ]
  },
  {
   "cell_type": "code",
   "execution_count": null,
   "id": "1cd2ae86",
   "metadata": {},
   "outputs": [
    {
     "name": "stdout",
     "output_type": "stream",
     "text": [
      "Fitting 5 folds for each of 108 candidates, totalling 540 fits\n",
      "[CV 1/5] END max_depth=3, max_features=sqrt, max_leaf_nodes=3, n_estimators=25;, score=nan total time=   0.5s\n",
      "[CV 2/5] END max_depth=3, max_features=sqrt, max_leaf_nodes=3, n_estimators=25;, score=nan total time=   0.5s\n",
      "[CV 3/5] END max_depth=3, max_features=sqrt, max_leaf_nodes=3, n_estimators=25;, score=nan total time=   0.5s\n",
      "[CV 4/5] END max_depth=3, max_features=sqrt, max_leaf_nodes=3, n_estimators=25;, score=nan total time=   0.4s\n",
      "[CV 5/5] END max_depth=3, max_features=sqrt, max_leaf_nodes=3, n_estimators=25;, score=nan total time=   0.5s\n",
      "[CV 1/5] END max_depth=3, max_features=sqrt, max_leaf_nodes=3, n_estimators=50;, score=nan total time=   1.1s\n",
      "[CV 2/5] END max_depth=3, max_features=sqrt, max_leaf_nodes=3, n_estimators=50;, score=nan total time=   1.2s\n",
      "[CV 3/5] END max_depth=3, max_features=sqrt, max_leaf_nodes=3, n_estimators=50;, score=nan total time=   1.0s\n",
      "[CV 4/5] END max_depth=3, max_features=sqrt, max_leaf_nodes=3, n_estimators=50;, score=nan total time=   1.0s\n",
      "[CV 5/5] END max_depth=3, max_features=sqrt, max_leaf_nodes=3, n_estimators=50;, score=nan total time=   1.1s\n",
      "[CV 1/5] END max_depth=3, max_features=sqrt, max_leaf_nodes=3, n_estimators=100;, score=nan total time=   2.3s\n",
      "[CV 2/5] END max_depth=3, max_features=sqrt, max_leaf_nodes=3, n_estimators=100;, score=nan total time=   2.8s\n",
      "[CV 3/5] END max_depth=3, max_features=sqrt, max_leaf_nodes=3, n_estimators=100;, score=nan total time=   2.1s\n",
      "[CV 4/5] END max_depth=3, max_features=sqrt, max_leaf_nodes=3, n_estimators=100;, score=nan total time=   2.1s\n",
      "[CV 5/5] END max_depth=3, max_features=sqrt, max_leaf_nodes=3, n_estimators=100;, score=nan total time=   2.1s\n",
      "[CV 1/5] END max_depth=3, max_features=sqrt, max_leaf_nodes=3, n_estimators=150;, score=nan total time=   3.5s\n",
      "[CV 2/5] END max_depth=3, max_features=sqrt, max_leaf_nodes=3, n_estimators=150;, score=nan total time=   3.6s\n",
      "[CV 3/5] END max_depth=3, max_features=sqrt, max_leaf_nodes=3, n_estimators=150;, score=nan total time=   3.2s\n",
      "[CV 4/5] END max_depth=3, max_features=sqrt, max_leaf_nodes=3, n_estimators=150;, score=nan total time=   3.5s\n",
      "[CV 5/5] END max_depth=3, max_features=sqrt, max_leaf_nodes=3, n_estimators=150;, score=nan total time=   3.3s\n",
      "[CV 1/5] END max_depth=3, max_features=sqrt, max_leaf_nodes=6, n_estimators=25;, score=nan total time=   0.5s\n",
      "[CV 2/5] END max_depth=3, max_features=sqrt, max_leaf_nodes=6, n_estimators=25;, score=nan total time=   0.5s\n",
      "[CV 3/5] END max_depth=3, max_features=sqrt, max_leaf_nodes=6, n_estimators=25;, score=nan total time=   0.5s\n",
      "[CV 4/5] END max_depth=3, max_features=sqrt, max_leaf_nodes=6, n_estimators=25;, score=nan total time=   0.5s\n",
      "[CV 5/5] END max_depth=3, max_features=sqrt, max_leaf_nodes=6, n_estimators=25;, score=nan total time=   0.5s\n",
      "[CV 1/5] END max_depth=3, max_features=sqrt, max_leaf_nodes=6, n_estimators=50;, score=nan total time=   1.1s\n",
      "[CV 2/5] END max_depth=3, max_features=sqrt, max_leaf_nodes=6, n_estimators=50;, score=nan total time=   1.0s\n",
      "[CV 3/5] END max_depth=3, max_features=sqrt, max_leaf_nodes=6, n_estimators=50;, score=nan total time=   1.0s\n",
      "[CV 4/5] END max_depth=3, max_features=sqrt, max_leaf_nodes=6, n_estimators=50;, score=nan total time=   1.1s\n",
      "[CV 5/5] END max_depth=3, max_features=sqrt, max_leaf_nodes=6, n_estimators=50;, score=nan total time=   1.3s\n",
      "[CV 1/5] END max_depth=3, max_features=sqrt, max_leaf_nodes=6, n_estimators=100;, score=nan total time=   2.4s\n",
      "[CV 2/5] END max_depth=3, max_features=sqrt, max_leaf_nodes=6, n_estimators=100;, score=nan total time=   2.5s\n",
      "[CV 3/5] END max_depth=3, max_features=sqrt, max_leaf_nodes=6, n_estimators=100;, score=nan total time=   2.5s\n",
      "[CV 4/5] END max_depth=3, max_features=sqrt, max_leaf_nodes=6, n_estimators=100;, score=nan total time=   2.7s\n",
      "[CV 5/5] END max_depth=3, max_features=sqrt, max_leaf_nodes=6, n_estimators=100;, score=nan total time=   2.3s\n",
      "[CV 1/5] END max_depth=3, max_features=sqrt, max_leaf_nodes=6, n_estimators=150;, score=nan total time=   3.4s\n",
      "[CV 2/5] END max_depth=3, max_features=sqrt, max_leaf_nodes=6, n_estimators=150;, score=nan total time=   3.5s\n",
      "[CV 3/5] END max_depth=3, max_features=sqrt, max_leaf_nodes=6, n_estimators=150;, score=nan total time=   3.4s\n",
      "[CV 4/5] END max_depth=3, max_features=sqrt, max_leaf_nodes=6, n_estimators=150;, score=nan total time=   3.5s\n",
      "[CV 5/5] END max_depth=3, max_features=sqrt, max_leaf_nodes=6, n_estimators=150;, score=nan total time=   3.5s\n",
      "[CV 1/5] END max_depth=3, max_features=sqrt, max_leaf_nodes=9, n_estimators=25;, score=nan total time=   0.5s\n",
      "[CV 2/5] END max_depth=3, max_features=sqrt, max_leaf_nodes=9, n_estimators=25;, score=nan total time=   0.5s\n",
      "[CV 3/5] END max_depth=3, max_features=sqrt, max_leaf_nodes=9, n_estimators=25;, score=nan total time=   0.5s\n",
      "[CV 4/5] END max_depth=3, max_features=sqrt, max_leaf_nodes=9, n_estimators=25;, score=nan total time=   0.5s\n",
      "[CV 5/5] END max_depth=3, max_features=sqrt, max_leaf_nodes=9, n_estimators=25;, score=nan total time=   0.5s\n",
      "[CV 1/5] END max_depth=3, max_features=sqrt, max_leaf_nodes=9, n_estimators=50;, score=nan total time=   1.2s\n",
      "[CV 2/5] END max_depth=3, max_features=sqrt, max_leaf_nodes=9, n_estimators=50;, score=nan total time=   1.1s\n",
      "[CV 3/5] END max_depth=3, max_features=sqrt, max_leaf_nodes=9, n_estimators=50;, score=nan total time=   1.1s\n",
      "[CV 4/5] END max_depth=3, max_features=sqrt, max_leaf_nodes=9, n_estimators=50;, score=nan total time=   1.1s\n",
      "[CV 5/5] END max_depth=3, max_features=sqrt, max_leaf_nodes=9, n_estimators=50;, score=nan total time=   1.1s\n",
      "[CV 1/5] END max_depth=3, max_features=sqrt, max_leaf_nodes=9, n_estimators=100;, score=nan total time=   2.2s\n",
      "[CV 2/5] END max_depth=3, max_features=sqrt, max_leaf_nodes=9, n_estimators=100;, score=nan total time=   2.2s\n",
      "[CV 3/5] END max_depth=3, max_features=sqrt, max_leaf_nodes=9, n_estimators=100;, score=nan total time=   2.2s\n",
      "[CV 4/5] END max_depth=3, max_features=sqrt, max_leaf_nodes=9, n_estimators=100;, score=nan total time=   2.2s\n",
      "[CV 5/5] END max_depth=3, max_features=sqrt, max_leaf_nodes=9, n_estimators=100;, score=nan total time=   2.2s\n",
      "[CV 1/5] END max_depth=3, max_features=sqrt, max_leaf_nodes=9, n_estimators=150;, score=nan total time=   3.4s\n",
      "[CV 2/5] END max_depth=3, max_features=sqrt, max_leaf_nodes=9, n_estimators=150;, score=nan total time=   3.5s\n",
      "[CV 3/5] END max_depth=3, max_features=sqrt, max_leaf_nodes=9, n_estimators=150;, score=nan total time=   3.3s\n",
      "[CV 4/5] END max_depth=3, max_features=sqrt, max_leaf_nodes=9, n_estimators=150;, score=nan total time=   3.4s\n",
      "[CV 5/5] END max_depth=3, max_features=sqrt, max_leaf_nodes=9, n_estimators=150;, score=nan total time=   3.8s\n",
      "[CV 1/5] END max_depth=3, max_features=log2, max_leaf_nodes=3, n_estimators=25;, score=nan total time=   0.7s\n",
      "[CV 2/5] END max_depth=3, max_features=log2, max_leaf_nodes=3, n_estimators=25;, score=nan total time=   0.7s\n",
      "[CV 3/5] END max_depth=3, max_features=log2, max_leaf_nodes=3, n_estimators=25;, score=nan total time=   0.7s\n",
      "[CV 4/5] END max_depth=3, max_features=log2, max_leaf_nodes=3, n_estimators=25;, score=nan total time=   0.7s\n",
      "[CV 5/5] END max_depth=3, max_features=log2, max_leaf_nodes=3, n_estimators=25;, score=nan total time=   0.6s\n",
      "[CV 1/5] END max_depth=3, max_features=log2, max_leaf_nodes=3, n_estimators=50;, score=nan total time=   1.5s\n",
      "[CV 2/5] END max_depth=3, max_features=log2, max_leaf_nodes=3, n_estimators=50;, score=nan total time=   1.4s\n",
      "[CV 3/5] END max_depth=3, max_features=log2, max_leaf_nodes=3, n_estimators=50;, score=nan total time=   1.4s\n",
      "[CV 4/5] END max_depth=3, max_features=log2, max_leaf_nodes=3, n_estimators=50;, score=nan total time=   1.4s\n",
      "[CV 5/5] END max_depth=3, max_features=log2, max_leaf_nodes=3, n_estimators=50;, score=nan total time=   1.4s\n",
      "[CV 1/5] END max_depth=3, max_features=log2, max_leaf_nodes=3, n_estimators=100;, score=nan total time=   2.9s\n",
      "[CV 2/5] END max_depth=3, max_features=log2, max_leaf_nodes=3, n_estimators=100;, score=nan total time=   2.8s\n",
      "[CV 3/5] END max_depth=3, max_features=log2, max_leaf_nodes=3, n_estimators=100;, score=nan total time=   2.8s\n",
      "[CV 4/5] END max_depth=3, max_features=log2, max_leaf_nodes=3, n_estimators=100;, score=nan total time=   2.8s\n",
      "[CV 5/5] END max_depth=3, max_features=log2, max_leaf_nodes=3, n_estimators=100;, score=nan total time=   3.0s\n",
      "[CV 1/5] END max_depth=3, max_features=log2, max_leaf_nodes=3, n_estimators=150;, score=nan total time=   4.5s\n",
      "[CV 2/5] END max_depth=3, max_features=log2, max_leaf_nodes=3, n_estimators=150;, score=nan total time=   4.3s\n",
      "[CV 3/5] END max_depth=3, max_features=log2, max_leaf_nodes=3, n_estimators=150;, score=nan total time=   4.4s\n",
      "[CV 4/5] END max_depth=3, max_features=log2, max_leaf_nodes=3, n_estimators=150;, score=nan total time=   4.3s\n",
      "[CV 5/5] END max_depth=3, max_features=log2, max_leaf_nodes=3, n_estimators=150;, score=nan total time=   4.4s\n",
      "[CV 1/5] END max_depth=3, max_features=log2, max_leaf_nodes=6, n_estimators=25;, score=nan total time=   0.7s\n",
      "[CV 2/5] END max_depth=3, max_features=log2, max_leaf_nodes=6, n_estimators=25;, score=nan total time=   0.7s\n",
      "[CV 3/5] END max_depth=3, max_features=log2, max_leaf_nodes=6, n_estimators=25;, score=nan total time=   1.2s\n",
      "[CV 4/5] END max_depth=3, max_features=log2, max_leaf_nodes=6, n_estimators=25;, score=nan total time=   0.7s\n",
      "[CV 5/5] END max_depth=3, max_features=log2, max_leaf_nodes=6, n_estimators=25;, score=nan total time=   0.7s\n",
      "[CV 1/5] END max_depth=3, max_features=log2, max_leaf_nodes=6, n_estimators=50;, score=nan total time=   1.6s\n",
      "[CV 2/5] END max_depth=3, max_features=log2, max_leaf_nodes=6, n_estimators=50;, score=nan total time=   1.6s\n",
      "[CV 3/5] END max_depth=3, max_features=log2, max_leaf_nodes=6, n_estimators=50;, score=nan total time=   1.7s\n",
      "[CV 4/5] END max_depth=3, max_features=log2, max_leaf_nodes=6, n_estimators=50;, score=nan total time=   1.6s\n",
      "[CV 5/5] END max_depth=3, max_features=log2, max_leaf_nodes=6, n_estimators=50;, score=nan total time=   1.7s\n",
      "[CV 1/5] END max_depth=3, max_features=log2, max_leaf_nodes=6, n_estimators=100;, score=nan total time=   3.3s\n",
      "[CV 2/5] END max_depth=3, max_features=log2, max_leaf_nodes=6, n_estimators=100;, score=nan total time=   3.3s\n",
      "[CV 3/5] END max_depth=3, max_features=log2, max_leaf_nodes=6, n_estimators=100;, score=nan total time=   3.2s\n",
      "[CV 4/5] END max_depth=3, max_features=log2, max_leaf_nodes=6, n_estimators=100;, score=nan total time=   3.4s\n",
      "[CV 5/5] END max_depth=3, max_features=log2, max_leaf_nodes=6, n_estimators=100;, score=nan total time=   3.3s\n",
      "[CV 1/5] END max_depth=3, max_features=log2, max_leaf_nodes=6, n_estimators=150;, score=nan total time=   5.3s\n",
      "[CV 2/5] END max_depth=3, max_features=log2, max_leaf_nodes=6, n_estimators=150;, score=nan total time=   4.8s\n",
      "[CV 3/5] END max_depth=3, max_features=log2, max_leaf_nodes=6, n_estimators=150;, score=nan total time=   4.8s\n",
      "[CV 4/5] END max_depth=3, max_features=log2, max_leaf_nodes=6, n_estimators=150;, score=nan total time=   5.6s\n",
      "[CV 5/5] END max_depth=3, max_features=log2, max_leaf_nodes=6, n_estimators=150;, score=nan total time=   5.8s\n",
      "[CV 1/5] END max_depth=3, max_features=log2, max_leaf_nodes=9, n_estimators=25;, score=nan total time=   0.8s\n",
      "[CV 2/5] END max_depth=3, max_features=log2, max_leaf_nodes=9, n_estimators=25;, score=nan total time=   0.8s\n",
      "[CV 3/5] END max_depth=3, max_features=log2, max_leaf_nodes=9, n_estimators=25;, score=nan total time=   0.8s\n",
      "[CV 4/5] END max_depth=3, max_features=log2, max_leaf_nodes=9, n_estimators=25;, score=nan total time=   0.8s\n",
      "[CV 5/5] END max_depth=3, max_features=log2, max_leaf_nodes=9, n_estimators=25;, score=nan total time=   0.8s\n",
      "[CV 1/5] END max_depth=3, max_features=log2, max_leaf_nodes=9, n_estimators=50;, score=nan total time=   1.5s\n",
      "[CV 2/5] END max_depth=3, max_features=log2, max_leaf_nodes=9, n_estimators=50;, score=nan total time=   1.6s\n",
      "[CV 3/5] END max_depth=3, max_features=log2, max_leaf_nodes=9, n_estimators=50;, score=nan total time=   2.0s\n",
      "[CV 4/5] END max_depth=3, max_features=log2, max_leaf_nodes=9, n_estimators=50;, score=nan total time=   1.6s\n",
      "[CV 5/5] END max_depth=3, max_features=log2, max_leaf_nodes=9, n_estimators=50;, score=nan total time=   1.6s\n",
      "[CV 1/5] END max_depth=3, max_features=log2, max_leaf_nodes=9, n_estimators=100;, score=nan total time=   3.7s\n",
      "[CV 2/5] END max_depth=3, max_features=log2, max_leaf_nodes=9, n_estimators=100;, score=nan total time=   3.4s\n",
      "[CV 3/5] END max_depth=3, max_features=log2, max_leaf_nodes=9, n_estimators=100;, score=nan total time=   3.4s\n",
      "[CV 4/5] END max_depth=3, max_features=log2, max_leaf_nodes=9, n_estimators=100;, score=nan total time=   3.5s\n",
      "[CV 5/5] END max_depth=3, max_features=log2, max_leaf_nodes=9, n_estimators=100;, score=nan total time=   3.5s\n",
      "[CV 1/5] END max_depth=3, max_features=log2, max_leaf_nodes=9, n_estimators=150;, score=nan total time=   6.1s\n",
      "[CV 2/5] END max_depth=3, max_features=log2, max_leaf_nodes=9, n_estimators=150;, score=nan total time=   5.2s\n",
      "[CV 3/5] END max_depth=3, max_features=log2, max_leaf_nodes=9, n_estimators=150;, score=nan total time=   5.4s\n",
      "[CV 4/5] END max_depth=3, max_features=log2, max_leaf_nodes=9, n_estimators=150;, score=nan total time=   5.2s\n",
      "[CV 5/5] END max_depth=3, max_features=log2, max_leaf_nodes=9, n_estimators=150;, score=nan total time=   5.5s\n",
      "[CV 1/5] END max_depth=3, max_features=None, max_leaf_nodes=3, n_estimators=25;, score=nan total time=   1.9s\n",
      "[CV 2/5] END max_depth=3, max_features=None, max_leaf_nodes=3, n_estimators=25;, score=nan total time=   1.9s\n",
      "[CV 3/5] END max_depth=3, max_features=None, max_leaf_nodes=3, n_estimators=25;, score=nan total time=   2.0s\n",
      "[CV 4/5] END max_depth=3, max_features=None, max_leaf_nodes=3, n_estimators=25;, score=nan total time=   2.0s\n",
      "[CV 5/5] END max_depth=3, max_features=None, max_leaf_nodes=3, n_estimators=25;, score=nan total time=   2.0s\n",
      "[CV 1/5] END max_depth=3, max_features=None, max_leaf_nodes=3, n_estimators=50;, score=nan total time=   5.2s\n",
      "[CV 2/5] END max_depth=3, max_features=None, max_leaf_nodes=3, n_estimators=50;, score=nan total time=   4.3s\n",
      "[CV 3/5] END max_depth=3, max_features=None, max_leaf_nodes=3, n_estimators=50;, score=nan total time=   4.4s\n",
      "[CV 4/5] END max_depth=3, max_features=None, max_leaf_nodes=3, n_estimators=50;, score=nan total time=   4.5s\n",
      "[CV 5/5] END max_depth=3, max_features=None, max_leaf_nodes=3, n_estimators=50;, score=nan total time=   4.2s\n",
      "[CV 1/5] END max_depth=3, max_features=None, max_leaf_nodes=3, n_estimators=100;, score=nan total time=   9.2s\n",
      "[CV 2/5] END max_depth=3, max_features=None, max_leaf_nodes=3, n_estimators=100;, score=nan total time=   7.7s\n",
      "[CV 3/5] END max_depth=3, max_features=None, max_leaf_nodes=3, n_estimators=100;, score=nan total time=   8.3s\n",
      "[CV 4/5] END max_depth=3, max_features=None, max_leaf_nodes=3, n_estimators=100;, score=nan total time=   8.3s\n",
      "[CV 5/5] END max_depth=3, max_features=None, max_leaf_nodes=3, n_estimators=100;, score=nan total time=   9.3s\n",
      "[CV 1/5] END max_depth=3, max_features=None, max_leaf_nodes=3, n_estimators=150;, score=nan total time=  12.5s\n",
      "[CV 2/5] END max_depth=3, max_features=None, max_leaf_nodes=3, n_estimators=150;, score=nan total time=  12.4s\n",
      "[CV 3/5] END max_depth=3, max_features=None, max_leaf_nodes=3, n_estimators=150;, score=nan total time=  12.7s\n",
      "[CV 4/5] END max_depth=3, max_features=None, max_leaf_nodes=3, n_estimators=150;, score=nan total time=  12.6s\n",
      "[CV 5/5] END max_depth=3, max_features=None, max_leaf_nodes=3, n_estimators=150;, score=nan total time=  12.5s\n",
      "[CV 1/5] END max_depth=3, max_features=None, max_leaf_nodes=6, n_estimators=25;, score=nan total time=   2.1s\n",
      "[CV 2/5] END max_depth=3, max_features=None, max_leaf_nodes=6, n_estimators=25;, score=nan total time=   2.1s\n",
      "[CV 3/5] END max_depth=3, max_features=None, max_leaf_nodes=6, n_estimators=25;, score=nan total time=   2.1s\n",
      "[CV 4/5] END max_depth=3, max_features=None, max_leaf_nodes=6, n_estimators=25;, score=nan total time=   2.2s\n",
      "[CV 5/5] END max_depth=3, max_features=None, max_leaf_nodes=6, n_estimators=25;, score=nan total time=   2.2s\n",
      "[CV 1/5] END max_depth=3, max_features=None, max_leaf_nodes=6, n_estimators=50;, score=nan total time=   5.0s\n",
      "[CV 2/5] END max_depth=3, max_features=None, max_leaf_nodes=6, n_estimators=50;, score=nan total time=   4.6s\n",
      "[CV 3/5] END max_depth=3, max_features=None, max_leaf_nodes=6, n_estimators=50;, score=nan total time=   4.2s\n",
      "[CV 4/5] END max_depth=3, max_features=None, max_leaf_nodes=6, n_estimators=50;, score=nan total time=   4.3s\n",
      "[CV 5/5] END max_depth=3, max_features=None, max_leaf_nodes=6, n_estimators=50;, score=nan total time=   4.3s\n",
      "[CV 1/5] END max_depth=3, max_features=None, max_leaf_nodes=6, n_estimators=100;, score=nan total time=   9.0s\n",
      "[CV 2/5] END max_depth=3, max_features=None, max_leaf_nodes=6, n_estimators=100;, score=nan total time=   8.9s\n",
      "[CV 3/5] END max_depth=3, max_features=None, max_leaf_nodes=6, n_estimators=100;, score=nan total time=   8.4s\n",
      "[CV 4/5] END max_depth=3, max_features=None, max_leaf_nodes=6, n_estimators=100;, score=nan total time=   9.3s\n",
      "[CV 5/5] END max_depth=3, max_features=None, max_leaf_nodes=6, n_estimators=100;, score=nan total time=   9.0s\n",
      "[CV 1/5] END max_depth=3, max_features=None, max_leaf_nodes=6, n_estimators=150;, score=nan total time=  13.3s\n",
      "[CV 2/5] END max_depth=3, max_features=None, max_leaf_nodes=6, n_estimators=150;, score=nan total time=  13.2s\n",
      "[CV 3/5] END max_depth=3, max_features=None, max_leaf_nodes=6, n_estimators=150;, score=nan total time=  13.2s\n",
      "[CV 4/5] END max_depth=3, max_features=None, max_leaf_nodes=6, n_estimators=150;, score=nan total time=  14.0s\n",
      "[CV 5/5] END max_depth=3, max_features=None, max_leaf_nodes=6, n_estimators=150;, score=nan total time=  13.5s\n",
      "[CV 1/5] END max_depth=3, max_features=None, max_leaf_nodes=9, n_estimators=25;, score=nan total time=   2.1s\n",
      "[CV 2/5] END max_depth=3, max_features=None, max_leaf_nodes=9, n_estimators=25;, score=nan total time=   2.1s\n",
      "[CV 3/5] END max_depth=3, max_features=None, max_leaf_nodes=9, n_estimators=25;, score=nan total time=   2.2s\n",
      "[CV 4/5] END max_depth=3, max_features=None, max_leaf_nodes=9, n_estimators=25;, score=nan total time=   2.1s\n",
      "[CV 5/5] END max_depth=3, max_features=None, max_leaf_nodes=9, n_estimators=25;, score=nan total time=   2.2s\n",
      "[CV 1/5] END max_depth=3, max_features=None, max_leaf_nodes=9, n_estimators=50;, score=nan total time=   4.4s\n",
      "[CV 2/5] END max_depth=3, max_features=None, max_leaf_nodes=9, n_estimators=50;, score=nan total time=   4.3s\n",
      "[CV 3/5] END max_depth=3, max_features=None, max_leaf_nodes=9, n_estimators=50;, score=nan total time=   4.4s\n",
      "[CV 4/5] END max_depth=3, max_features=None, max_leaf_nodes=9, n_estimators=50;, score=nan total time=   5.0s\n",
      "[CV 5/5] END max_depth=3, max_features=None, max_leaf_nodes=9, n_estimators=50;, score=nan total time=   4.6s\n",
      "[CV 1/5] END max_depth=3, max_features=None, max_leaf_nodes=9, n_estimators=100;, score=nan total time=   9.1s\n",
      "[CV 2/5] END max_depth=3, max_features=None, max_leaf_nodes=9, n_estimators=100;, score=nan total time=   8.9s\n",
      "[CV 3/5] END max_depth=3, max_features=None, max_leaf_nodes=9, n_estimators=100;, score=nan total time=   8.8s\n",
      "[CV 4/5] END max_depth=3, max_features=None, max_leaf_nodes=9, n_estimators=100;, score=nan total time=   8.9s\n",
      "[CV 5/5] END max_depth=3, max_features=None, max_leaf_nodes=9, n_estimators=100;, score=nan total time=   9.4s\n",
      "[CV 1/5] END max_depth=3, max_features=None, max_leaf_nodes=9, n_estimators=150;, score=nan total time=  12.7s\n",
      "[CV 2/5] END max_depth=3, max_features=None, max_leaf_nodes=9, n_estimators=150;, score=nan total time=  12.7s\n",
      "[CV 3/5] END max_depth=3, max_features=None, max_leaf_nodes=9, n_estimators=150;, score=nan total time=  12.6s\n",
      "[CV 4/5] END max_depth=3, max_features=None, max_leaf_nodes=9, n_estimators=150;, score=nan total time=  12.6s\n",
      "[CV 5/5] END max_depth=3, max_features=None, max_leaf_nodes=9, n_estimators=150;, score=nan total time=  12.2s\n",
      "[CV 1/5] END max_depth=6, max_features=sqrt, max_leaf_nodes=3, n_estimators=25;, score=nan total time=   0.4s\n",
      "[CV 2/5] END max_depth=6, max_features=sqrt, max_leaf_nodes=3, n_estimators=25;, score=nan total time=   0.4s\n",
      "[CV 3/5] END max_depth=6, max_features=sqrt, max_leaf_nodes=3, n_estimators=25;, score=nan total time=   0.5s\n",
      "[CV 4/5] END max_depth=6, max_features=sqrt, max_leaf_nodes=3, n_estimators=25;, score=nan total time=   0.4s\n",
      "[CV 5/5] END max_depth=6, max_features=sqrt, max_leaf_nodes=3, n_estimators=25;, score=nan total time=   0.5s\n",
      "[CV 1/5] END max_depth=6, max_features=sqrt, max_leaf_nodes=3, n_estimators=50;, score=nan total time=   1.0s\n",
      "[CV 2/5] END max_depth=6, max_features=sqrt, max_leaf_nodes=3, n_estimators=50;, score=nan total time=   0.9s\n",
      "[CV 3/5] END max_depth=6, max_features=sqrt, max_leaf_nodes=3, n_estimators=50;, score=nan total time=   0.9s\n",
      "[CV 4/5] END max_depth=6, max_features=sqrt, max_leaf_nodes=3, n_estimators=50;, score=nan total time=   0.9s\n",
      "[CV 5/5] END max_depth=6, max_features=sqrt, max_leaf_nodes=3, n_estimators=50;, score=nan total time=   1.0s\n",
      "[CV 1/5] END max_depth=6, max_features=sqrt, max_leaf_nodes=3, n_estimators=100;, score=nan total time=   1.9s\n",
      "[CV 2/5] END max_depth=6, max_features=sqrt, max_leaf_nodes=3, n_estimators=100;, score=nan total time=   2.0s\n",
      "[CV 3/5] END max_depth=6, max_features=sqrt, max_leaf_nodes=3, n_estimators=100;, score=nan total time=   1.9s\n",
      "[CV 4/5] END max_depth=6, max_features=sqrt, max_leaf_nodes=3, n_estimators=100;, score=nan total time=   3.1s\n",
      "[CV 5/5] END max_depth=6, max_features=sqrt, max_leaf_nodes=3, n_estimators=100;, score=nan total time=   2.8s\n",
      "[CV 1/5] END max_depth=6, max_features=sqrt, max_leaf_nodes=3, n_estimators=150;, score=nan total time=   3.9s\n",
      "[CV 2/5] END max_depth=6, max_features=sqrt, max_leaf_nodes=3, n_estimators=150;, score=nan total time=   3.3s\n",
      "[CV 3/5] END max_depth=6, max_features=sqrt, max_leaf_nodes=3, n_estimators=150;, score=nan total time=   3.7s\n",
      "[CV 4/5] END max_depth=6, max_features=sqrt, max_leaf_nodes=3, n_estimators=150;, score=nan total time=   3.5s\n",
      "[CV 5/5] END max_depth=6, max_features=sqrt, max_leaf_nodes=3, n_estimators=150;, score=nan total time=   3.1s\n",
      "[CV 1/5] END max_depth=6, max_features=sqrt, max_leaf_nodes=6, n_estimators=25;, score=nan total time=   0.7s\n",
      "[CV 2/5] END max_depth=6, max_features=sqrt, max_leaf_nodes=6, n_estimators=25;, score=nan total time=   0.6s\n",
      "[CV 3/5] END max_depth=6, max_features=sqrt, max_leaf_nodes=6, n_estimators=25;, score=nan total time=   0.7s\n",
      "[CV 4/5] END max_depth=6, max_features=sqrt, max_leaf_nodes=6, n_estimators=25;, score=nan total time=   0.8s\n",
      "[CV 5/5] END max_depth=6, max_features=sqrt, max_leaf_nodes=6, n_estimators=25;, score=nan total time=   0.7s\n",
      "[CV 1/5] END max_depth=6, max_features=sqrt, max_leaf_nodes=6, n_estimators=50;, score=nan total time=   1.5s\n",
      "[CV 2/5] END max_depth=6, max_features=sqrt, max_leaf_nodes=6, n_estimators=50;, score=nan total time=   1.4s\n",
      "[CV 3/5] END max_depth=6, max_features=sqrt, max_leaf_nodes=6, n_estimators=50;, score=nan total time=   1.4s\n",
      "[CV 4/5] END max_depth=6, max_features=sqrt, max_leaf_nodes=6, n_estimators=50;, score=nan total time=   1.4s\n",
      "[CV 5/5] END max_depth=6, max_features=sqrt, max_leaf_nodes=6, n_estimators=50;, score=nan total time=   1.5s\n",
      "[CV 1/5] END max_depth=6, max_features=sqrt, max_leaf_nodes=6, n_estimators=100;, score=nan total time=   3.0s\n",
      "[CV 2/5] END max_depth=6, max_features=sqrt, max_leaf_nodes=6, n_estimators=100;, score=nan total time=   2.9s\n",
      "[CV 3/5] END max_depth=6, max_features=sqrt, max_leaf_nodes=6, n_estimators=100;, score=nan total time=   3.0s\n",
      "[CV 4/5] END max_depth=6, max_features=sqrt, max_leaf_nodes=6, n_estimators=100;, score=nan total time=   3.0s\n",
      "[CV 5/5] END max_depth=6, max_features=sqrt, max_leaf_nodes=6, n_estimators=100;, score=nan total time=   3.1s\n",
      "[CV 1/5] END max_depth=6, max_features=sqrt, max_leaf_nodes=6, n_estimators=150;, score=nan total time=   4.7s\n",
      "[CV 2/5] END max_depth=6, max_features=sqrt, max_leaf_nodes=6, n_estimators=150;, score=nan total time=   4.6s\n",
      "[CV 3/5] END max_depth=6, max_features=sqrt, max_leaf_nodes=6, n_estimators=150;, score=nan total time=   4.6s\n",
      "[CV 4/5] END max_depth=6, max_features=sqrt, max_leaf_nodes=6, n_estimators=150;, score=nan total time=   4.8s\n",
      "[CV 5/5] END max_depth=6, max_features=sqrt, max_leaf_nodes=6, n_estimators=150;, score=nan total time=   4.6s\n",
      "[CV 1/5] END max_depth=6, max_features=sqrt, max_leaf_nodes=9, n_estimators=25;, score=nan total time=   1.6s\n",
      "[CV 2/5] END max_depth=6, max_features=sqrt, max_leaf_nodes=9, n_estimators=25;, score=nan total time=   0.8s\n",
      "[CV 3/5] END max_depth=6, max_features=sqrt, max_leaf_nodes=9, n_estimators=25;, score=nan total time=   0.9s\n",
      "[CV 4/5] END max_depth=6, max_features=sqrt, max_leaf_nodes=9, n_estimators=25;, score=nan total time=   0.8s\n",
      "[CV 5/5] END max_depth=6, max_features=sqrt, max_leaf_nodes=9, n_estimators=25;, score=nan total time=   0.8s\n",
      "[CV 1/5] END max_depth=6, max_features=sqrt, max_leaf_nodes=9, n_estimators=50;, score=nan total time=   1.6s\n",
      "[CV 2/5] END max_depth=6, max_features=sqrt, max_leaf_nodes=9, n_estimators=50;, score=nan total time=   1.7s\n",
      "[CV 3/5] END max_depth=6, max_features=sqrt, max_leaf_nodes=9, n_estimators=50;, score=nan total time=   1.7s\n",
      "[CV 4/5] END max_depth=6, max_features=sqrt, max_leaf_nodes=9, n_estimators=50;, score=nan total time=   1.8s\n",
      "[CV 5/5] END max_depth=6, max_features=sqrt, max_leaf_nodes=9, n_estimators=50;, score=nan total time=   1.7s\n",
      "[CV 1/5] END max_depth=6, max_features=sqrt, max_leaf_nodes=9, n_estimators=100;, score=nan total time=   3.4s\n",
      "[CV 2/5] END max_depth=6, max_features=sqrt, max_leaf_nodes=9, n_estimators=100;, score=nan total time=   3.6s\n",
      "[CV 3/5] END max_depth=6, max_features=sqrt, max_leaf_nodes=9, n_estimators=100;, score=nan total time=   3.5s\n",
      "[CV 4/5] END max_depth=6, max_features=sqrt, max_leaf_nodes=9, n_estimators=100;, score=nan total time=   3.4s\n",
      "[CV 5/5] END max_depth=6, max_features=sqrt, max_leaf_nodes=9, n_estimators=100;, score=nan total time=   3.5s\n",
      "[CV 1/5] END max_depth=6, max_features=sqrt, max_leaf_nodes=9, n_estimators=150;, score=nan total time=   5.3s\n",
      "[CV 2/5] END max_depth=6, max_features=sqrt, max_leaf_nodes=9, n_estimators=150;, score=nan total time=   5.4s\n",
      "[CV 3/5] END max_depth=6, max_features=sqrt, max_leaf_nodes=9, n_estimators=150;, score=nan total time=   5.3s\n",
      "[CV 4/5] END max_depth=6, max_features=sqrt, max_leaf_nodes=9, n_estimators=150;, score=nan total time=   5.4s\n",
      "[CV 5/5] END max_depth=6, max_features=sqrt, max_leaf_nodes=9, n_estimators=150;, score=nan total time=   5.8s\n",
      "[CV 1/5] END max_depth=6, max_features=log2, max_leaf_nodes=3, n_estimators=25;, score=nan total time=   0.8s\n",
      "[CV 2/5] END max_depth=6, max_features=log2, max_leaf_nodes=3, n_estimators=25;, score=nan total time=   0.8s\n",
      "[CV 3/5] END max_depth=6, max_features=log2, max_leaf_nodes=3, n_estimators=25;, score=nan total time=   0.7s\n",
      "[CV 4/5] END max_depth=6, max_features=log2, max_leaf_nodes=3, n_estimators=25;, score=nan total time=   0.8s\n",
      "[CV 5/5] END max_depth=6, max_features=log2, max_leaf_nodes=3, n_estimators=25;, score=nan total time=   0.7s\n",
      "[CV 1/5] END max_depth=6, max_features=log2, max_leaf_nodes=3, n_estimators=50;, score=nan total time=   1.5s\n",
      "[CV 2/5] END max_depth=6, max_features=log2, max_leaf_nodes=3, n_estimators=50;, score=nan total time=   1.4s\n",
      "[CV 3/5] END max_depth=6, max_features=log2, max_leaf_nodes=3, n_estimators=50;, score=nan total time=   1.4s\n",
      "[CV 4/5] END max_depth=6, max_features=log2, max_leaf_nodes=3, n_estimators=50;, score=nan total time=   1.4s\n",
      "[CV 5/5] END max_depth=6, max_features=log2, max_leaf_nodes=3, n_estimators=50;, score=nan total time=   1.5s\n",
      "[CV 1/5] END max_depth=6, max_features=log2, max_leaf_nodes=3, n_estimators=100;, score=nan total time=   3.2s\n",
      "[CV 2/5] END max_depth=6, max_features=log2, max_leaf_nodes=3, n_estimators=100;, score=nan total time=   3.1s\n",
      "[CV 3/5] END max_depth=6, max_features=log2, max_leaf_nodes=3, n_estimators=100;, score=nan total time=   3.1s\n",
      "[CV 4/5] END max_depth=6, max_features=log2, max_leaf_nodes=3, n_estimators=100;, score=nan total time=   3.2s\n",
      "[CV 5/5] END max_depth=6, max_features=log2, max_leaf_nodes=3, n_estimators=100;, score=nan total time=   3.1s\n",
      "[CV 1/5] END max_depth=6, max_features=log2, max_leaf_nodes=3, n_estimators=150;, score=nan total time=   4.9s\n",
      "[CV 2/5] END max_depth=6, max_features=log2, max_leaf_nodes=3, n_estimators=150;, score=nan total time=   4.8s\n",
      "[CV 3/5] END max_depth=6, max_features=log2, max_leaf_nodes=3, n_estimators=150;, score=nan total time=   5.5s\n",
      "[CV 4/5] END max_depth=6, max_features=log2, max_leaf_nodes=3, n_estimators=150;, score=nan total time=   4.6s\n",
      "[CV 5/5] END max_depth=6, max_features=log2, max_leaf_nodes=3, n_estimators=150;, score=nan total time=   4.7s\n",
      "[CV 1/5] END max_depth=6, max_features=log2, max_leaf_nodes=6, n_estimators=25;, score=nan total time=   1.1s\n",
      "[CV 2/5] END max_depth=6, max_features=log2, max_leaf_nodes=6, n_estimators=25;, score=nan total time=   1.1s\n",
      "[CV 3/5] END max_depth=6, max_features=log2, max_leaf_nodes=6, n_estimators=25;, score=nan total time=   1.0s\n",
      "[CV 4/5] END max_depth=6, max_features=log2, max_leaf_nodes=6, n_estimators=25;, score=nan total time=   1.0s\n",
      "[CV 5/5] END max_depth=6, max_features=log2, max_leaf_nodes=6, n_estimators=25;, score=nan total time=   1.1s\n",
      "[CV 1/5] END max_depth=6, max_features=log2, max_leaf_nodes=6, n_estimators=50;, score=nan total time=   2.1s\n",
      "[CV 2/5] END max_depth=6, max_features=log2, max_leaf_nodes=6, n_estimators=50;, score=nan total time=   2.3s\n",
      "[CV 3/5] END max_depth=6, max_features=log2, max_leaf_nodes=6, n_estimators=50;, score=nan total time=   2.2s\n",
      "[CV 4/5] END max_depth=6, max_features=log2, max_leaf_nodes=6, n_estimators=50;, score=nan total time=   2.0s\n",
      "[CV 5/5] END max_depth=6, max_features=log2, max_leaf_nodes=6, n_estimators=50;, score=nan total time=   2.1s\n",
      "[CV 1/5] END max_depth=6, max_features=log2, max_leaf_nodes=6, n_estimators=100;, score=nan total time=   4.7s\n",
      "[CV 2/5] END max_depth=6, max_features=log2, max_leaf_nodes=6, n_estimators=100;, score=nan total time=   4.5s\n",
      "[CV 3/5] END max_depth=6, max_features=log2, max_leaf_nodes=6, n_estimators=100;, score=nan total time=   4.6s\n",
      "[CV 4/5] END max_depth=6, max_features=log2, max_leaf_nodes=6, n_estimators=100;, score=nan total time=   4.4s\n",
      "[CV 5/5] END max_depth=6, max_features=log2, max_leaf_nodes=6, n_estimators=100;, score=nan total time=   4.5s\n",
      "[CV 1/5] END max_depth=6, max_features=log2, max_leaf_nodes=6, n_estimators=150;, score=nan total time=   6.9s\n",
      "[CV 2/5] END max_depth=6, max_features=log2, max_leaf_nodes=6, n_estimators=150;, score=nan total time=   7.6s\n",
      "[CV 3/5] END max_depth=6, max_features=log2, max_leaf_nodes=6, n_estimators=150;, score=nan total time=   6.6s\n",
      "[CV 4/5] END max_depth=6, max_features=log2, max_leaf_nodes=6, n_estimators=150;, score=nan total time=   6.6s\n",
      "[CV 5/5] END max_depth=6, max_features=log2, max_leaf_nodes=6, n_estimators=150;, score=nan total time=   6.9s\n",
      "[CV 1/5] END max_depth=6, max_features=log2, max_leaf_nodes=9, n_estimators=25;, score=nan total time=   1.2s\n",
      "[CV 2/5] END max_depth=6, max_features=log2, max_leaf_nodes=9, n_estimators=25;, score=nan total time=   1.2s\n",
      "[CV 3/5] END max_depth=6, max_features=log2, max_leaf_nodes=9, n_estimators=25;, score=nan total time=   1.3s\n",
      "[CV 4/5] END max_depth=6, max_features=log2, max_leaf_nodes=9, n_estimators=25;, score=nan total time=   1.2s\n",
      "[CV 5/5] END max_depth=6, max_features=log2, max_leaf_nodes=9, n_estimators=25;, score=nan total time=   1.2s\n",
      "[CV 1/5] END max_depth=6, max_features=log2, max_leaf_nodes=9, n_estimators=50;, score=nan total time=   2.6s\n",
      "[CV 2/5] END max_depth=6, max_features=log2, max_leaf_nodes=9, n_estimators=50;, score=nan total time=   2.5s\n",
      "[CV 3/5] END max_depth=6, max_features=log2, max_leaf_nodes=9, n_estimators=50;, score=nan total time=   2.6s\n",
      "[CV 4/5] END max_depth=6, max_features=log2, max_leaf_nodes=9, n_estimators=50;, score=nan total time=   2.6s\n",
      "[CV 5/5] END max_depth=6, max_features=log2, max_leaf_nodes=9, n_estimators=50;, score=nan total time=   2.6s\n",
      "[CV 1/5] END max_depth=6, max_features=log2, max_leaf_nodes=9, n_estimators=100;, score=nan total time=   5.1s\n",
      "[CV 2/5] END max_depth=6, max_features=log2, max_leaf_nodes=9, n_estimators=100;, score=nan total time=   5.9s\n",
      "[CV 3/5] END max_depth=6, max_features=log2, max_leaf_nodes=9, n_estimators=100;, score=nan total time=   5.3s\n",
      "[CV 4/5] END max_depth=6, max_features=log2, max_leaf_nodes=9, n_estimators=100;, score=nan total time=   5.1s\n",
      "[CV 5/5] END max_depth=6, max_features=log2, max_leaf_nodes=9, n_estimators=100;, score=nan total time=   5.2s\n",
      "[CV 1/5] END max_depth=6, max_features=log2, max_leaf_nodes=9, n_estimators=150;, score=nan total time=   7.6s\n",
      "[CV 2/5] END max_depth=6, max_features=log2, max_leaf_nodes=9, n_estimators=150;, score=nan total time=   7.8s\n",
      "[CV 3/5] END max_depth=6, max_features=log2, max_leaf_nodes=9, n_estimators=150;, score=nan total time=   7.9s\n",
      "[CV 4/5] END max_depth=6, max_features=log2, max_leaf_nodes=9, n_estimators=150;, score=nan total time=   8.5s\n",
      "[CV 5/5] END max_depth=6, max_features=log2, max_leaf_nodes=9, n_estimators=150;, score=nan total time=   7.8s\n",
      "[CV 1/5] END max_depth=6, max_features=None, max_leaf_nodes=3, n_estimators=25;, score=nan total time=   2.0s\n",
      "[CV 2/5] END max_depth=6, max_features=None, max_leaf_nodes=3, n_estimators=25;, score=nan total time=   2.0s\n",
      "[CV 3/5] END max_depth=6, max_features=None, max_leaf_nodes=3, n_estimators=25;, score=nan total time=   1.9s\n",
      "[CV 4/5] END max_depth=6, max_features=None, max_leaf_nodes=3, n_estimators=25;, score=nan total time=   2.0s\n",
      "[CV 5/5] END max_depth=6, max_features=None, max_leaf_nodes=3, n_estimators=25;, score=nan total time=   2.1s\n",
      "[CV 1/5] END max_depth=6, max_features=None, max_leaf_nodes=3, n_estimators=50;, score=nan total time=   4.0s\n",
      "[CV 2/5] END max_depth=6, max_features=None, max_leaf_nodes=3, n_estimators=50;, score=nan total time=   4.1s\n",
      "[CV 3/5] END max_depth=6, max_features=None, max_leaf_nodes=3, n_estimators=50;, score=nan total time=   4.0s\n",
      "[CV 4/5] END max_depth=6, max_features=None, max_leaf_nodes=3, n_estimators=50;, score=nan total time=   3.9s\n",
      "[CV 5/5] END max_depth=6, max_features=None, max_leaf_nodes=3, n_estimators=50;, score=nan total time=   4.2s\n",
      "[CV 1/5] END max_depth=6, max_features=None, max_leaf_nodes=3, n_estimators=100;, score=nan total time=   8.2s\n",
      "[CV 2/5] END max_depth=6, max_features=None, max_leaf_nodes=3, n_estimators=100;, score=nan total time=   8.1s\n",
      "[CV 3/5] END max_depth=6, max_features=None, max_leaf_nodes=3, n_estimators=100;, score=nan total time=   9.0s\n",
      "[CV 4/5] END max_depth=6, max_features=None, max_leaf_nodes=3, n_estimators=100;, score=nan total time=   8.1s\n",
      "[CV 5/5] END max_depth=6, max_features=None, max_leaf_nodes=3, n_estimators=100;, score=nan total time=   8.3s\n",
      "[CV 1/5] END max_depth=6, max_features=None, max_leaf_nodes=3, n_estimators=150;, score=nan total time=  12.6s\n",
      "[CV 2/5] END max_depth=6, max_features=None, max_leaf_nodes=3, n_estimators=150;, score=nan total time=  12.2s\n",
      "[CV 3/5] END max_depth=6, max_features=None, max_leaf_nodes=3, n_estimators=150;, score=nan total time=  11.7s\n",
      "[CV 4/5] END max_depth=6, max_features=None, max_leaf_nodes=3, n_estimators=150;, score=nan total time=  12.1s\n",
      "[CV 5/5] END max_depth=6, max_features=None, max_leaf_nodes=3, n_estimators=150;, score=nan total time=  12.7s\n",
      "[CV 1/5] END max_depth=6, max_features=None, max_leaf_nodes=6, n_estimators=25;, score=nan total time=   2.7s\n",
      "[CV 2/5] END max_depth=6, max_features=None, max_leaf_nodes=6, n_estimators=25;, score=nan total time=   2.5s\n",
      "[CV 3/5] END max_depth=6, max_features=None, max_leaf_nodes=6, n_estimators=25;, score=nan total time=   2.6s\n",
      "[CV 4/5] END max_depth=6, max_features=None, max_leaf_nodes=6, n_estimators=25;, score=nan total time=   2.5s\n",
      "[CV 5/5] END max_depth=6, max_features=None, max_leaf_nodes=6, n_estimators=25;, score=nan total time=   2.4s\n",
      "[CV 1/5] END max_depth=6, max_features=None, max_leaf_nodes=6, n_estimators=50;, score=nan total time=   5.4s\n",
      "[CV 2/5] END max_depth=6, max_features=None, max_leaf_nodes=6, n_estimators=50;, score=nan total time=   5.5s\n",
      "[CV 3/5] END max_depth=6, max_features=None, max_leaf_nodes=6, n_estimators=50;, score=nan total time=   5.0s\n",
      "[CV 4/5] END max_depth=6, max_features=None, max_leaf_nodes=6, n_estimators=50;, score=nan total time=   5.4s\n",
      "[CV 5/5] END max_depth=6, max_features=None, max_leaf_nodes=6, n_estimators=50;, score=nan total time=   5.2s\n",
      "[CV 1/5] END max_depth=6, max_features=None, max_leaf_nodes=6, n_estimators=100;, score=nan total time=  10.5s\n",
      "[CV 2/5] END max_depth=6, max_features=None, max_leaf_nodes=6, n_estimators=100;, score=nan total time=  11.6s\n",
      "[CV 3/5] END max_depth=6, max_features=None, max_leaf_nodes=6, n_estimators=100;, score=nan total time=  10.1s\n",
      "[CV 4/5] END max_depth=6, max_features=None, max_leaf_nodes=6, n_estimators=100;, score=nan total time=  10.7s\n",
      "[CV 5/5] END max_depth=6, max_features=None, max_leaf_nodes=6, n_estimators=100;, score=nan total time=  10.6s\n",
      "[CV 1/5] END max_depth=6, max_features=None, max_leaf_nodes=6, n_estimators=150;, score=nan total time=  16.3s\n",
      "[CV 2/5] END max_depth=6, max_features=None, max_leaf_nodes=6, n_estimators=150;, score=nan total time=  16.7s\n",
      "[CV 3/5] END max_depth=6, max_features=None, max_leaf_nodes=6, n_estimators=150;, score=nan total time=  16.1s\n",
      "[CV 4/5] END max_depth=6, max_features=None, max_leaf_nodes=6, n_estimators=150;, score=nan total time=  16.2s\n",
      "[CV 5/5] END max_depth=6, max_features=None, max_leaf_nodes=6, n_estimators=150;, score=nan total time=  16.2s\n",
      "[CV 1/5] END max_depth=6, max_features=None, max_leaf_nodes=9, n_estimators=25;, score=nan total time=   3.6s\n",
      "[CV 2/5] END max_depth=6, max_features=None, max_leaf_nodes=9, n_estimators=25;, score=nan total time=   3.3s\n",
      "[CV 3/5] END max_depth=6, max_features=None, max_leaf_nodes=9, n_estimators=25;, score=nan total time=   3.0s\n",
      "[CV 4/5] END max_depth=6, max_features=None, max_leaf_nodes=9, n_estimators=25;, score=nan total time=   3.3s\n",
      "[CV 5/5] END max_depth=6, max_features=None, max_leaf_nodes=9, n_estimators=25;, score=nan total time=   2.9s\n",
      "[CV 1/5] END max_depth=6, max_features=None, max_leaf_nodes=9, n_estimators=50;, score=nan total time=   6.5s\n",
      "[CV 2/5] END max_depth=6, max_features=None, max_leaf_nodes=9, n_estimators=50;, score=nan total time=   6.2s\n",
      "[CV 3/5] END max_depth=6, max_features=None, max_leaf_nodes=9, n_estimators=50;, score=nan total time=   6.3s\n",
      "[CV 4/5] END max_depth=6, max_features=None, max_leaf_nodes=9, n_estimators=50;, score=nan total time=   6.3s\n",
      "[CV 5/5] END max_depth=6, max_features=None, max_leaf_nodes=9, n_estimators=50;, score=nan total time=   6.2s\n",
      "[CV 1/5] END max_depth=6, max_features=None, max_leaf_nodes=9, n_estimators=100;, score=nan total time=  12.8s\n",
      "[CV 2/5] END max_depth=6, max_features=None, max_leaf_nodes=9, n_estimators=100;, score=nan total time=  12.9s\n",
      "[CV 3/5] END max_depth=6, max_features=None, max_leaf_nodes=9, n_estimators=100;, score=nan total time=  12.6s\n",
      "[CV 4/5] END max_depth=6, max_features=None, max_leaf_nodes=9, n_estimators=100;, score=nan total time=  12.4s\n",
      "[CV 5/5] END max_depth=6, max_features=None, max_leaf_nodes=9, n_estimators=100;, score=nan total time=  12.4s\n",
      "[CV 1/5] END max_depth=6, max_features=None, max_leaf_nodes=9, n_estimators=150;, score=nan total time=  19.1s\n",
      "[CV 2/5] END max_depth=6, max_features=None, max_leaf_nodes=9, n_estimators=150;, score=nan total time=  19.5s\n",
      "[CV 3/5] END max_depth=6, max_features=None, max_leaf_nodes=9, n_estimators=150;, score=nan total time=  19.0s\n",
      "[CV 4/5] END max_depth=6, max_features=None, max_leaf_nodes=9, n_estimators=150;, score=nan total time=  19.1s\n",
      "[CV 5/5] END max_depth=6, max_features=None, max_leaf_nodes=9, n_estimators=150;, score=nan total time=  18.8s\n",
      "[CV 1/5] END max_depth=9, max_features=sqrt, max_leaf_nodes=3, n_estimators=25;, score=nan total time=   0.4s\n",
      "[CV 2/5] END max_depth=9, max_features=sqrt, max_leaf_nodes=3, n_estimators=25;, score=nan total time=   0.5s\n",
      "[CV 3/5] END max_depth=9, max_features=sqrt, max_leaf_nodes=3, n_estimators=25;, score=nan total time=   0.4s\n",
      "[CV 4/5] END max_depth=9, max_features=sqrt, max_leaf_nodes=3, n_estimators=25;, score=nan total time=   0.5s\n",
      "[CV 5/5] END max_depth=9, max_features=sqrt, max_leaf_nodes=3, n_estimators=25;, score=nan total time=   0.6s\n",
      "[CV 1/5] END max_depth=9, max_features=sqrt, max_leaf_nodes=3, n_estimators=50;, score=nan total time=   1.0s\n",
      "[CV 2/5] END max_depth=9, max_features=sqrt, max_leaf_nodes=3, n_estimators=50;, score=nan total time=   1.0s\n",
      "[CV 3/5] END max_depth=9, max_features=sqrt, max_leaf_nodes=3, n_estimators=50;, score=nan total time=   1.2s\n",
      "[CV 4/5] END max_depth=9, max_features=sqrt, max_leaf_nodes=3, n_estimators=50;, score=nan total time=   1.0s\n",
      "[CV 5/5] END max_depth=9, max_features=sqrt, max_leaf_nodes=3, n_estimators=50;, score=nan total time=   1.0s\n",
      "[CV 1/5] END max_depth=9, max_features=sqrt, max_leaf_nodes=3, n_estimators=100;, score=nan total time=   2.2s\n",
      "[CV 2/5] END max_depth=9, max_features=sqrt, max_leaf_nodes=3, n_estimators=100;, score=nan total time=   2.0s\n",
      "[CV 3/5] END max_depth=9, max_features=sqrt, max_leaf_nodes=3, n_estimators=100;, score=nan total time=   2.4s\n",
      "[CV 4/5] END max_depth=9, max_features=sqrt, max_leaf_nodes=3, n_estimators=100;, score=nan total time=   2.0s\n",
      "[CV 5/5] END max_depth=9, max_features=sqrt, max_leaf_nodes=3, n_estimators=100;, score=nan total time=   2.7s\n",
      "[CV 1/5] END max_depth=9, max_features=sqrt, max_leaf_nodes=3, n_estimators=150;, score=nan total time=   3.4s\n",
      "[CV 2/5] END max_depth=9, max_features=sqrt, max_leaf_nodes=3, n_estimators=150;, score=nan total time=   3.4s\n",
      "[CV 3/5] END max_depth=9, max_features=sqrt, max_leaf_nodes=3, n_estimators=150;, score=nan total time=   3.3s\n",
      "[CV 4/5] END max_depth=9, max_features=sqrt, max_leaf_nodes=3, n_estimators=150;, score=nan total time=   3.1s\n",
      "[CV 5/5] END max_depth=9, max_features=sqrt, max_leaf_nodes=3, n_estimators=150;, score=nan total time=   3.3s\n",
      "[CV 1/5] END max_depth=9, max_features=sqrt, max_leaf_nodes=6, n_estimators=25;, score=nan total time=   0.7s\n",
      "[CV 2/5] END max_depth=9, max_features=sqrt, max_leaf_nodes=6, n_estimators=25;, score=nan total time=   0.7s\n",
      "[CV 3/5] END max_depth=9, max_features=sqrt, max_leaf_nodes=6, n_estimators=25;, score=nan total time=   0.7s\n",
      "[CV 4/5] END max_depth=9, max_features=sqrt, max_leaf_nodes=6, n_estimators=25;, score=nan total time=   0.6s\n",
      "[CV 5/5] END max_depth=9, max_features=sqrt, max_leaf_nodes=6, n_estimators=25;, score=nan total time=   0.6s\n",
      "[CV 1/5] END max_depth=9, max_features=sqrt, max_leaf_nodes=6, n_estimators=50;, score=nan total time=   1.5s\n",
      "[CV 2/5] END max_depth=9, max_features=sqrt, max_leaf_nodes=6, n_estimators=50;, score=nan total time=   1.7s\n",
      "[CV 3/5] END max_depth=9, max_features=sqrt, max_leaf_nodes=6, n_estimators=50;, score=nan total time=   1.3s\n",
      "[CV 4/5] END max_depth=9, max_features=sqrt, max_leaf_nodes=6, n_estimators=50;, score=nan total time=   1.4s\n",
      "[CV 5/5] END max_depth=9, max_features=sqrt, max_leaf_nodes=6, n_estimators=50;, score=nan total time=   1.6s\n",
      "[CV 1/5] END max_depth=9, max_features=sqrt, max_leaf_nodes=6, n_estimators=100;, score=nan total time=   2.9s\n",
      "[CV 2/5] END max_depth=9, max_features=sqrt, max_leaf_nodes=6, n_estimators=100;, score=nan total time=   3.1s\n",
      "[CV 3/5] END max_depth=9, max_features=sqrt, max_leaf_nodes=6, n_estimators=100;, score=nan total time=   3.1s\n",
      "[CV 4/5] END max_depth=9, max_features=sqrt, max_leaf_nodes=6, n_estimators=100;, score=nan total time=   3.1s\n",
      "[CV 5/5] END max_depth=9, max_features=sqrt, max_leaf_nodes=6, n_estimators=100;, score=nan total time=   2.9s\n",
      "[CV 1/5] END max_depth=9, max_features=sqrt, max_leaf_nodes=6, n_estimators=150;, score=nan total time=   5.0s\n",
      "[CV 2/5] END max_depth=9, max_features=sqrt, max_leaf_nodes=6, n_estimators=150;, score=nan total time=   4.4s\n",
      "[CV 3/5] END max_depth=9, max_features=sqrt, max_leaf_nodes=6, n_estimators=150;, score=nan total time=   5.5s\n",
      "[CV 4/5] END max_depth=9, max_features=sqrt, max_leaf_nodes=6, n_estimators=150;, score=nan total time=   4.7s\n",
      "[CV 5/5] END max_depth=9, max_features=sqrt, max_leaf_nodes=6, n_estimators=150;, score=nan total time=   4.8s\n",
      "[CV 1/5] END max_depth=9, max_features=sqrt, max_leaf_nodes=9, n_estimators=25;, score=nan total time=   0.8s\n",
      "[CV 2/5] END max_depth=9, max_features=sqrt, max_leaf_nodes=9, n_estimators=25;, score=nan total time=   0.8s\n",
      "[CV 3/5] END max_depth=9, max_features=sqrt, max_leaf_nodes=9, n_estimators=25;, score=nan total time=   0.7s\n",
      "[CV 4/5] END max_depth=9, max_features=sqrt, max_leaf_nodes=9, n_estimators=25;, score=nan total time=   1.1s\n",
      "[CV 5/5] END max_depth=9, max_features=sqrt, max_leaf_nodes=9, n_estimators=25;, score=nan total time=   0.8s\n",
      "[CV 1/5] END max_depth=9, max_features=sqrt, max_leaf_nodes=9, n_estimators=50;, score=nan total time=   1.6s\n",
      "[CV 2/5] END max_depth=9, max_features=sqrt, max_leaf_nodes=9, n_estimators=50;, score=nan total time=   1.9s\n",
      "[CV 3/5] END max_depth=9, max_features=sqrt, max_leaf_nodes=9, n_estimators=50;, score=nan total time=   1.6s\n",
      "[CV 4/5] END max_depth=9, max_features=sqrt, max_leaf_nodes=9, n_estimators=50;, score=nan total time=   1.8s\n",
      "[CV 5/5] END max_depth=9, max_features=sqrt, max_leaf_nodes=9, n_estimators=50;, score=nan total time=   1.6s\n",
      "[CV 1/5] END max_depth=9, max_features=sqrt, max_leaf_nodes=9, n_estimators=100;, score=nan total time=   3.7s\n",
      "[CV 2/5] END max_depth=9, max_features=sqrt, max_leaf_nodes=9, n_estimators=100;, score=nan total time=   3.6s\n",
      "[CV 3/5] END max_depth=9, max_features=sqrt, max_leaf_nodes=9, n_estimators=100;, score=nan total time=   4.6s\n",
      "[CV 4/5] END max_depth=9, max_features=sqrt, max_leaf_nodes=9, n_estimators=100;, score=nan total time=   3.3s\n",
      "[CV 5/5] END max_depth=9, max_features=sqrt, max_leaf_nodes=9, n_estimators=100;, score=nan total time=   3.4s\n",
      "[CV 1/5] END max_depth=9, max_features=sqrt, max_leaf_nodes=9, n_estimators=150;, score=nan total time=   5.4s\n",
      "[CV 2/5] END max_depth=9, max_features=sqrt, max_leaf_nodes=9, n_estimators=150;, score=nan total time=   5.6s\n",
      "[CV 3/5] END max_depth=9, max_features=sqrt, max_leaf_nodes=9, n_estimators=150;, score=nan total time=   5.3s\n",
      "[CV 4/5] END max_depth=9, max_features=sqrt, max_leaf_nodes=9, n_estimators=150;, score=nan total time=   5.1s\n",
      "[CV 5/5] END max_depth=9, max_features=sqrt, max_leaf_nodes=9, n_estimators=150;, score=nan total time=   5.5s\n",
      "[CV 1/5] END max_depth=9, max_features=log2, max_leaf_nodes=3, n_estimators=25;, score=nan total time=   0.7s\n",
      "[CV 2/5] END max_depth=9, max_features=log2, max_leaf_nodes=3, n_estimators=25;, score=nan total time=   0.6s\n",
      "[CV 3/5] END max_depth=9, max_features=log2, max_leaf_nodes=3, n_estimators=25;, score=nan total time=   0.6s\n",
      "[CV 4/5] END max_depth=9, max_features=log2, max_leaf_nodes=3, n_estimators=25;, score=nan total time=   0.7s\n",
      "[CV 5/5] END max_depth=9, max_features=log2, max_leaf_nodes=3, n_estimators=25;, score=nan total time=   0.7s\n",
      "[CV 1/5] END max_depth=9, max_features=log2, max_leaf_nodes=3, n_estimators=50;, score=nan total time=   1.5s\n",
      "[CV 2/5] END max_depth=9, max_features=log2, max_leaf_nodes=3, n_estimators=50;, score=nan total time=   1.7s\n",
      "[CV 3/5] END max_depth=9, max_features=log2, max_leaf_nodes=3, n_estimators=50;, score=nan total time=   1.5s\n",
      "[CV 4/5] END max_depth=9, max_features=log2, max_leaf_nodes=3, n_estimators=50;, score=nan total time=   1.5s\n",
      "[CV 5/5] END max_depth=9, max_features=log2, max_leaf_nodes=3, n_estimators=50;, score=nan total time=   1.7s\n",
      "[CV 1/5] END max_depth=9, max_features=log2, max_leaf_nodes=3, n_estimators=100;, score=nan total time=   3.1s\n",
      "[CV 2/5] END max_depth=9, max_features=log2, max_leaf_nodes=3, n_estimators=100;, score=nan total time=   3.0s\n",
      "[CV 3/5] END max_depth=9, max_features=log2, max_leaf_nodes=3, n_estimators=100;, score=nan total time=   3.6s\n",
      "[CV 4/5] END max_depth=9, max_features=log2, max_leaf_nodes=3, n_estimators=100;, score=nan total time=   3.0s\n",
      "[CV 5/5] END max_depth=9, max_features=log2, max_leaf_nodes=3, n_estimators=100;, score=nan total time=   3.1s\n",
      "[CV 1/5] END max_depth=9, max_features=log2, max_leaf_nodes=3, n_estimators=150;, score=nan total time=   4.8s\n",
      "[CV 2/5] END max_depth=9, max_features=log2, max_leaf_nodes=3, n_estimators=150;, score=nan total time=   4.8s\n",
      "[CV 3/5] END max_depth=9, max_features=log2, max_leaf_nodes=3, n_estimators=150;, score=nan total time=   4.8s\n",
      "[CV 4/5] END max_depth=9, max_features=log2, max_leaf_nodes=3, n_estimators=150;, score=nan total time=   4.6s\n",
      "[CV 5/5] END max_depth=9, max_features=log2, max_leaf_nodes=3, n_estimators=150;, score=nan total time=   5.1s\n",
      "[CV 1/5] END max_depth=9, max_features=log2, max_leaf_nodes=6, n_estimators=25;, score=nan total time=   1.0s\n",
      "[CV 2/5] END max_depth=9, max_features=log2, max_leaf_nodes=6, n_estimators=25;, score=nan total time=   1.2s\n",
      "[CV 3/5] END max_depth=9, max_features=log2, max_leaf_nodes=6, n_estimators=25;, score=nan total time=   1.1s\n",
      "[CV 4/5] END max_depth=9, max_features=log2, max_leaf_nodes=6, n_estimators=25;, score=nan total time=   0.9s\n",
      "[CV 5/5] END max_depth=9, max_features=log2, max_leaf_nodes=6, n_estimators=25;, score=nan total time=   1.1s\n",
      "[CV 1/5] END max_depth=9, max_features=log2, max_leaf_nodes=6, n_estimators=50;, score=nan total time=   2.5s\n",
      "[CV 2/5] END max_depth=9, max_features=log2, max_leaf_nodes=6, n_estimators=50;, score=nan total time=   2.0s\n",
      "[CV 3/5] END max_depth=9, max_features=log2, max_leaf_nodes=6, n_estimators=50;, score=nan total time=   2.0s\n",
      "[CV 4/5] END max_depth=9, max_features=log2, max_leaf_nodes=6, n_estimators=50;, score=nan total time=   2.1s\n",
      "[CV 5/5] END max_depth=9, max_features=log2, max_leaf_nodes=6, n_estimators=50;, score=nan total time=   2.1s\n",
      "[CV 1/5] END max_depth=9, max_features=log2, max_leaf_nodes=6, n_estimators=100;, score=nan total time=   4.5s\n",
      "[CV 2/5] END max_depth=9, max_features=log2, max_leaf_nodes=6, n_estimators=100;, score=nan total time=   4.4s\n",
      "[CV 3/5] END max_depth=9, max_features=log2, max_leaf_nodes=6, n_estimators=100;, score=nan total time=   4.6s\n",
      "[CV 4/5] END max_depth=9, max_features=log2, max_leaf_nodes=6, n_estimators=100;, score=nan total time=   4.5s\n",
      "[CV 5/5] END max_depth=9, max_features=log2, max_leaf_nodes=6, n_estimators=100;, score=nan total time=   4.5s\n",
      "[CV 1/5] END max_depth=9, max_features=log2, max_leaf_nodes=6, n_estimators=150;, score=nan total time=   7.2s\n",
      "[CV 2/5] END max_depth=9, max_features=log2, max_leaf_nodes=6, n_estimators=150;, score=nan total time=   6.8s\n",
      "[CV 3/5] END max_depth=9, max_features=log2, max_leaf_nodes=6, n_estimators=150;, score=nan total time=   6.9s\n",
      "[CV 4/5] END max_depth=9, max_features=log2, max_leaf_nodes=6, n_estimators=150;, score=nan total time=   6.5s\n",
      "[CV 5/5] END max_depth=9, max_features=log2, max_leaf_nodes=6, n_estimators=150;, score=nan total time=   6.7s\n",
      "[CV 1/5] END max_depth=9, max_features=log2, max_leaf_nodes=9, n_estimators=25;, score=nan total time=   1.2s\n",
      "[CV 2/5] END max_depth=9, max_features=log2, max_leaf_nodes=9, n_estimators=25;, score=nan total time=   1.2s\n",
      "[CV 3/5] END max_depth=9, max_features=log2, max_leaf_nodes=9, n_estimators=25;, score=nan total time=   1.2s\n",
      "[CV 4/5] END max_depth=9, max_features=log2, max_leaf_nodes=9, n_estimators=25;, score=nan total time=   1.2s\n",
      "[CV 5/5] END max_depth=9, max_features=log2, max_leaf_nodes=9, n_estimators=25;, score=nan total time=   1.1s\n",
      "[CV 1/5] END max_depth=9, max_features=log2, max_leaf_nodes=9, n_estimators=50;, score=nan total time=   2.5s\n",
      "[CV 2/5] END max_depth=9, max_features=log2, max_leaf_nodes=9, n_estimators=50;, score=nan total time=   2.4s\n",
      "[CV 3/5] END max_depth=9, max_features=log2, max_leaf_nodes=9, n_estimators=50;, score=nan total time=   2.4s\n",
      "[CV 4/5] END max_depth=9, max_features=log2, max_leaf_nodes=9, n_estimators=50;, score=nan total time=   2.5s\n",
      "[CV 5/5] END max_depth=9, max_features=log2, max_leaf_nodes=9, n_estimators=50;, score=nan total time=   2.5s\n",
      "[CV 1/5] END max_depth=9, max_features=log2, max_leaf_nodes=9, n_estimators=100;, score=nan total time=   5.0s\n",
      "[CV 2/5] END max_depth=9, max_features=log2, max_leaf_nodes=9, n_estimators=100;, score=nan total time=   5.0s\n",
      "[CV 3/5] END max_depth=9, max_features=log2, max_leaf_nodes=9, n_estimators=100;, score=nan total time=   4.9s\n",
      "[CV 4/5] END max_depth=9, max_features=log2, max_leaf_nodes=9, n_estimators=100;, score=nan total time=   4.8s\n",
      "[CV 5/5] END max_depth=9, max_features=log2, max_leaf_nodes=9, n_estimators=100;, score=nan total time=   5.0s\n",
      "[CV 1/5] END max_depth=9, max_features=log2, max_leaf_nodes=9, n_estimators=150;, score=nan total time=   9.3s\n",
      "[CV 2/5] END max_depth=9, max_features=log2, max_leaf_nodes=9, n_estimators=150;, score=nan total time=   9.0s\n",
      "[CV 3/5] END max_depth=9, max_features=log2, max_leaf_nodes=9, n_estimators=150;, score=nan total time=   8.6s\n",
      "[CV 4/5] END max_depth=9, max_features=log2, max_leaf_nodes=9, n_estimators=150;, score=nan total time=   7.6s\n",
      "[CV 5/5] END max_depth=9, max_features=log2, max_leaf_nodes=9, n_estimators=150;, score=nan total time=   7.9s\n",
      "[CV 1/5] END max_depth=9, max_features=None, max_leaf_nodes=3, n_estimators=25;, score=nan total time=   1.8s\n",
      "[CV 2/5] END max_depth=9, max_features=None, max_leaf_nodes=3, n_estimators=25;, score=nan total time=   1.9s\n",
      "[CV 3/5] END max_depth=9, max_features=None, max_leaf_nodes=3, n_estimators=25;, score=nan total time=   1.9s\n",
      "[CV 4/5] END max_depth=9, max_features=None, max_leaf_nodes=3, n_estimators=25;, score=nan total time=   1.9s\n",
      "[CV 5/5] END max_depth=9, max_features=None, max_leaf_nodes=3, n_estimators=25;, score=nan total time=   1.9s\n",
      "[CV 1/5] END max_depth=9, max_features=None, max_leaf_nodes=3, n_estimators=50;, score=nan total time=   4.0s\n",
      "[CV 2/5] END max_depth=9, max_features=None, max_leaf_nodes=3, n_estimators=50;, score=nan total time=   4.1s\n",
      "[CV 3/5] END max_depth=9, max_features=None, max_leaf_nodes=3, n_estimators=50;, score=nan total time=   4.7s\n",
      "[CV 4/5] END max_depth=9, max_features=None, max_leaf_nodes=3, n_estimators=50;, score=nan total time=   4.0s\n",
      "[CV 5/5] END max_depth=9, max_features=None, max_leaf_nodes=3, n_estimators=50;, score=nan total time=   4.0s\n",
      "[CV 1/5] END max_depth=9, max_features=None, max_leaf_nodes=3, n_estimators=100;, score=nan total time=   8.3s\n",
      "[CV 2/5] END max_depth=9, max_features=None, max_leaf_nodes=3, n_estimators=100;, score=nan total time=   8.2s\n",
      "[CV 3/5] END max_depth=9, max_features=None, max_leaf_nodes=3, n_estimators=100;, score=nan total time=   8.0s\n",
      "[CV 4/5] END max_depth=9, max_features=None, max_leaf_nodes=3, n_estimators=100;, score=nan total time=   8.3s\n",
      "[CV 5/5] END max_depth=9, max_features=None, max_leaf_nodes=3, n_estimators=100;, score=nan total time=   8.2s\n",
      "[CV 1/5] END max_depth=9, max_features=None, max_leaf_nodes=3, n_estimators=150;, score=nan total time=  13.1s\n",
      "[CV 2/5] END max_depth=9, max_features=None, max_leaf_nodes=3, n_estimators=150;, score=nan total time=  12.3s\n",
      "[CV 3/5] END max_depth=9, max_features=None, max_leaf_nodes=3, n_estimators=150;, score=nan total time=  13.0s\n",
      "[CV 4/5] END max_depth=9, max_features=None, max_leaf_nodes=3, n_estimators=150;, score=nan total time=  12.2s\n",
      "[CV 5/5] END max_depth=9, max_features=None, max_leaf_nodes=3, n_estimators=150;, score=nan total time=  12.3s\n",
      "[CV 1/5] END max_depth=9, max_features=None, max_leaf_nodes=6, n_estimators=25;, score=nan total time=   2.7s\n",
      "[CV 2/5] END max_depth=9, max_features=None, max_leaf_nodes=6, n_estimators=25;, score=nan total time=   2.6s\n",
      "[CV 3/5] END max_depth=9, max_features=None, max_leaf_nodes=6, n_estimators=25;, score=nan total time=   2.5s\n",
      "[CV 4/5] END max_depth=9, max_features=None, max_leaf_nodes=6, n_estimators=25;, score=nan total time=   2.6s\n",
      "[CV 5/5] END max_depth=9, max_features=None, max_leaf_nodes=6, n_estimators=25;, score=nan total time=   2.7s\n",
      "[CV 1/5] END max_depth=9, max_features=None, max_leaf_nodes=6, n_estimators=50;, score=nan total time=   5.3s\n",
      "[CV 2/5] END max_depth=9, max_features=None, max_leaf_nodes=6, n_estimators=50;, score=nan total time=   5.6s\n",
      "[CV 3/5] END max_depth=9, max_features=None, max_leaf_nodes=6, n_estimators=50;, score=nan total time=   5.8s\n",
      "[CV 4/5] END max_depth=9, max_features=None, max_leaf_nodes=6, n_estimators=50;, score=nan total time=   5.4s\n",
      "[CV 5/5] END max_depth=9, max_features=None, max_leaf_nodes=6, n_estimators=50;, score=nan total time=   5.5s\n",
      "[CV 1/5] END max_depth=9, max_features=None, max_leaf_nodes=6, n_estimators=100;, score=nan total time=  11.2s\n",
      "[CV 2/5] END max_depth=9, max_features=None, max_leaf_nodes=6, n_estimators=100;, score=nan total time=  10.9s\n",
      "[CV 3/5] END max_depth=9, max_features=None, max_leaf_nodes=6, n_estimators=100;, score=nan total time=  10.7s\n",
      "[CV 4/5] END max_depth=9, max_features=None, max_leaf_nodes=6, n_estimators=100;, score=nan total time=  11.4s\n",
      "[CV 5/5] END max_depth=9, max_features=None, max_leaf_nodes=6, n_estimators=100;, score=nan total time=  10.9s\n",
      "[CV 1/5] END max_depth=9, max_features=None, max_leaf_nodes=6, n_estimators=150;, score=nan total time=  16.7s\n",
      "[CV 2/5] END max_depth=9, max_features=None, max_leaf_nodes=6, n_estimators=150;, score=nan total time=  16.9s\n",
      "[CV 3/5] END max_depth=9, max_features=None, max_leaf_nodes=6, n_estimators=150;, score=nan total time=  16.0s\n",
      "[CV 4/5] END max_depth=9, max_features=None, max_leaf_nodes=6, n_estimators=150;, score=nan total time=  16.3s\n",
      "[CV 5/5] END max_depth=9, max_features=None, max_leaf_nodes=6, n_estimators=150;, score=nan total time=  16.3s\n",
      "[CV 1/5] END max_depth=9, max_features=None, max_leaf_nodes=9, n_estimators=25;, score=nan total time=   4.0s\n",
      "[CV 2/5] END max_depth=9, max_features=None, max_leaf_nodes=9, n_estimators=25;, score=nan total time=   3.1s\n",
      "[CV 3/5] END max_depth=9, max_features=None, max_leaf_nodes=9, n_estimators=25;, score=nan total time=   3.1s\n",
      "[CV 4/5] END max_depth=9, max_features=None, max_leaf_nodes=9, n_estimators=25;, score=nan total time=   3.2s\n",
      "[CV 5/5] END max_depth=9, max_features=None, max_leaf_nodes=9, n_estimators=25;, score=nan total time=   3.2s\n",
      "[CV 1/5] END max_depth=9, max_features=None, max_leaf_nodes=9, n_estimators=50;, score=nan total time=   6.3s\n",
      "[CV 2/5] END max_depth=9, max_features=None, max_leaf_nodes=9, n_estimators=50;, score=nan total time=   6.2s\n",
      "[CV 3/5] END max_depth=9, max_features=None, max_leaf_nodes=9, n_estimators=50;, score=nan total time=   7.0s\n",
      "[CV 4/5] END max_depth=9, max_features=None, max_leaf_nodes=9, n_estimators=50;, score=nan total time=   6.5s\n",
      "[CV 5/5] END max_depth=9, max_features=None, max_leaf_nodes=9, n_estimators=50;, score=nan total time=   6.0s\n"
     ]
    }
   ],
   "source": [
    "clf.fit(X_train,y_train)"
   ]
  },
  {
   "cell_type": "code",
   "execution_count": null,
   "id": "e586d5c7",
   "metadata": {},
   "outputs": [],
   "source": [
    "clf2=RandomizedSearchCV(regression,param_distributions=param_grid,cv=3,scoring='accuracy',verbose=3)"
   ]
  },
  {
   "cell_type": "code",
   "execution_count": null,
   "id": "052b20d5",
   "metadata": {},
   "outputs": [],
   "source": [
    "clf2.fit(X_train,y_train)"
   ]
  },
  {
   "cell_type": "code",
   "execution_count": null,
   "id": "d8d79a34",
   "metadata": {},
   "outputs": [],
   "source": [
    "clf.best_params_"
   ]
  },
  {
   "cell_type": "code",
   "execution_count": null,
   "id": "2daeecf4",
   "metadata": {},
   "outputs": [],
   "source": [
    "clf2.best_params_"
   ]
  },
  {
   "cell_type": "markdown",
   "id": "0abd8f7b",
   "metadata": {},
   "source": [
    "## Naive Bayes Practical Implementation"
   ]
  },
  {
   "cell_type": "code",
   "execution_count": 58,
   "id": "e06cd60e",
   "metadata": {},
   "outputs": [],
   "source": [
    "from sklearn.datasets import load_iris"
   ]
  },
  {
   "cell_type": "code",
   "execution_count": 59,
   "id": "dd6dc1ce",
   "metadata": {},
   "outputs": [],
   "source": [
    "from sklearn.model_selection import train_test_split"
   ]
  },
  {
   "cell_type": "code",
   "execution_count": 60,
   "id": "0946b5e9",
   "metadata": {},
   "outputs": [],
   "source": [
    "X,y=load_iris(return_X_y=True )"
   ]
  },
  {
   "cell_type": "code",
   "execution_count": 61,
   "id": "f3680ea7",
   "metadata": {},
   "outputs": [
    {
     "data": {
      "text/plain": [
       "array([[5.1, 3.5, 1.4, 0.2],\n",
       "       [4.9, 3. , 1.4, 0.2],\n",
       "       [4.7, 3.2, 1.3, 0.2],\n",
       "       [4.6, 3.1, 1.5, 0.2],\n",
       "       [5. , 3.6, 1.4, 0.2],\n",
       "       [5.4, 3.9, 1.7, 0.4],\n",
       "       [4.6, 3.4, 1.4, 0.3],\n",
       "       [5. , 3.4, 1.5, 0.2],\n",
       "       [4.4, 2.9, 1.4, 0.2],\n",
       "       [4.9, 3.1, 1.5, 0.1],\n",
       "       [5.4, 3.7, 1.5, 0.2],\n",
       "       [4.8, 3.4, 1.6, 0.2],\n",
       "       [4.8, 3. , 1.4, 0.1],\n",
       "       [4.3, 3. , 1.1, 0.1],\n",
       "       [5.8, 4. , 1.2, 0.2],\n",
       "       [5.7, 4.4, 1.5, 0.4],\n",
       "       [5.4, 3.9, 1.3, 0.4],\n",
       "       [5.1, 3.5, 1.4, 0.3],\n",
       "       [5.7, 3.8, 1.7, 0.3],\n",
       "       [5.1, 3.8, 1.5, 0.3],\n",
       "       [5.4, 3.4, 1.7, 0.2],\n",
       "       [5.1, 3.7, 1.5, 0.4],\n",
       "       [4.6, 3.6, 1. , 0.2],\n",
       "       [5.1, 3.3, 1.7, 0.5],\n",
       "       [4.8, 3.4, 1.9, 0.2],\n",
       "       [5. , 3. , 1.6, 0.2],\n",
       "       [5. , 3.4, 1.6, 0.4],\n",
       "       [5.2, 3.5, 1.5, 0.2],\n",
       "       [5.2, 3.4, 1.4, 0.2],\n",
       "       [4.7, 3.2, 1.6, 0.2],\n",
       "       [4.8, 3.1, 1.6, 0.2],\n",
       "       [5.4, 3.4, 1.5, 0.4],\n",
       "       [5.2, 4.1, 1.5, 0.1],\n",
       "       [5.5, 4.2, 1.4, 0.2],\n",
       "       [4.9, 3.1, 1.5, 0.2],\n",
       "       [5. , 3.2, 1.2, 0.2],\n",
       "       [5.5, 3.5, 1.3, 0.2],\n",
       "       [4.9, 3.6, 1.4, 0.1],\n",
       "       [4.4, 3. , 1.3, 0.2],\n",
       "       [5.1, 3.4, 1.5, 0.2],\n",
       "       [5. , 3.5, 1.3, 0.3],\n",
       "       [4.5, 2.3, 1.3, 0.3],\n",
       "       [4.4, 3.2, 1.3, 0.2],\n",
       "       [5. , 3.5, 1.6, 0.6],\n",
       "       [5.1, 3.8, 1.9, 0.4],\n",
       "       [4.8, 3. , 1.4, 0.3],\n",
       "       [5.1, 3.8, 1.6, 0.2],\n",
       "       [4.6, 3.2, 1.4, 0.2],\n",
       "       [5.3, 3.7, 1.5, 0.2],\n",
       "       [5. , 3.3, 1.4, 0.2],\n",
       "       [7. , 3.2, 4.7, 1.4],\n",
       "       [6.4, 3.2, 4.5, 1.5],\n",
       "       [6.9, 3.1, 4.9, 1.5],\n",
       "       [5.5, 2.3, 4. , 1.3],\n",
       "       [6.5, 2.8, 4.6, 1.5],\n",
       "       [5.7, 2.8, 4.5, 1.3],\n",
       "       [6.3, 3.3, 4.7, 1.6],\n",
       "       [4.9, 2.4, 3.3, 1. ],\n",
       "       [6.6, 2.9, 4.6, 1.3],\n",
       "       [5.2, 2.7, 3.9, 1.4],\n",
       "       [5. , 2. , 3.5, 1. ],\n",
       "       [5.9, 3. , 4.2, 1.5],\n",
       "       [6. , 2.2, 4. , 1. ],\n",
       "       [6.1, 2.9, 4.7, 1.4],\n",
       "       [5.6, 2.9, 3.6, 1.3],\n",
       "       [6.7, 3.1, 4.4, 1.4],\n",
       "       [5.6, 3. , 4.5, 1.5],\n",
       "       [5.8, 2.7, 4.1, 1. ],\n",
       "       [6.2, 2.2, 4.5, 1.5],\n",
       "       [5.6, 2.5, 3.9, 1.1],\n",
       "       [5.9, 3.2, 4.8, 1.8],\n",
       "       [6.1, 2.8, 4. , 1.3],\n",
       "       [6.3, 2.5, 4.9, 1.5],\n",
       "       [6.1, 2.8, 4.7, 1.2],\n",
       "       [6.4, 2.9, 4.3, 1.3],\n",
       "       [6.6, 3. , 4.4, 1.4],\n",
       "       [6.8, 2.8, 4.8, 1.4],\n",
       "       [6.7, 3. , 5. , 1.7],\n",
       "       [6. , 2.9, 4.5, 1.5],\n",
       "       [5.7, 2.6, 3.5, 1. ],\n",
       "       [5.5, 2.4, 3.8, 1.1],\n",
       "       [5.5, 2.4, 3.7, 1. ],\n",
       "       [5.8, 2.7, 3.9, 1.2],\n",
       "       [6. , 2.7, 5.1, 1.6],\n",
       "       [5.4, 3. , 4.5, 1.5],\n",
       "       [6. , 3.4, 4.5, 1.6],\n",
       "       [6.7, 3.1, 4.7, 1.5],\n",
       "       [6.3, 2.3, 4.4, 1.3],\n",
       "       [5.6, 3. , 4.1, 1.3],\n",
       "       [5.5, 2.5, 4. , 1.3],\n",
       "       [5.5, 2.6, 4.4, 1.2],\n",
       "       [6.1, 3. , 4.6, 1.4],\n",
       "       [5.8, 2.6, 4. , 1.2],\n",
       "       [5. , 2.3, 3.3, 1. ],\n",
       "       [5.6, 2.7, 4.2, 1.3],\n",
       "       [5.7, 3. , 4.2, 1.2],\n",
       "       [5.7, 2.9, 4.2, 1.3],\n",
       "       [6.2, 2.9, 4.3, 1.3],\n",
       "       [5.1, 2.5, 3. , 1.1],\n",
       "       [5.7, 2.8, 4.1, 1.3],\n",
       "       [6.3, 3.3, 6. , 2.5],\n",
       "       [5.8, 2.7, 5.1, 1.9],\n",
       "       [7.1, 3. , 5.9, 2.1],\n",
       "       [6.3, 2.9, 5.6, 1.8],\n",
       "       [6.5, 3. , 5.8, 2.2],\n",
       "       [7.6, 3. , 6.6, 2.1],\n",
       "       [4.9, 2.5, 4.5, 1.7],\n",
       "       [7.3, 2.9, 6.3, 1.8],\n",
       "       [6.7, 2.5, 5.8, 1.8],\n",
       "       [7.2, 3.6, 6.1, 2.5],\n",
       "       [6.5, 3.2, 5.1, 2. ],\n",
       "       [6.4, 2.7, 5.3, 1.9],\n",
       "       [6.8, 3. , 5.5, 2.1],\n",
       "       [5.7, 2.5, 5. , 2. ],\n",
       "       [5.8, 2.8, 5.1, 2.4],\n",
       "       [6.4, 3.2, 5.3, 2.3],\n",
       "       [6.5, 3. , 5.5, 1.8],\n",
       "       [7.7, 3.8, 6.7, 2.2],\n",
       "       [7.7, 2.6, 6.9, 2.3],\n",
       "       [6. , 2.2, 5. , 1.5],\n",
       "       [6.9, 3.2, 5.7, 2.3],\n",
       "       [5.6, 2.8, 4.9, 2. ],\n",
       "       [7.7, 2.8, 6.7, 2. ],\n",
       "       [6.3, 2.7, 4.9, 1.8],\n",
       "       [6.7, 3.3, 5.7, 2.1],\n",
       "       [7.2, 3.2, 6. , 1.8],\n",
       "       [6.2, 2.8, 4.8, 1.8],\n",
       "       [6.1, 3. , 4.9, 1.8],\n",
       "       [6.4, 2.8, 5.6, 2.1],\n",
       "       [7.2, 3. , 5.8, 1.6],\n",
       "       [7.4, 2.8, 6.1, 1.9],\n",
       "       [7.9, 3.8, 6.4, 2. ],\n",
       "       [6.4, 2.8, 5.6, 2.2],\n",
       "       [6.3, 2.8, 5.1, 1.5],\n",
       "       [6.1, 2.6, 5.6, 1.4],\n",
       "       [7.7, 3. , 6.1, 2.3],\n",
       "       [6.3, 3.4, 5.6, 2.4],\n",
       "       [6.4, 3.1, 5.5, 1.8],\n",
       "       [6. , 3. , 4.8, 1.8],\n",
       "       [6.9, 3.1, 5.4, 2.1],\n",
       "       [6.7, 3.1, 5.6, 2.4],\n",
       "       [6.9, 3.1, 5.1, 2.3],\n",
       "       [5.8, 2.7, 5.1, 1.9],\n",
       "       [6.8, 3.2, 5.9, 2.3],\n",
       "       [6.7, 3.3, 5.7, 2.5],\n",
       "       [6.7, 3. , 5.2, 2.3],\n",
       "       [6.3, 2.5, 5. , 1.9],\n",
       "       [6.5, 3. , 5.2, 2. ],\n",
       "       [6.2, 3.4, 5.4, 2.3],\n",
       "       [5.9, 3. , 5.1, 1.8]])"
      ]
     },
     "execution_count": 61,
     "metadata": {},
     "output_type": "execute_result"
    }
   ],
   "source": [
    "X"
   ]
  },
  {
   "cell_type": "code",
   "execution_count": 62,
   "id": "5220ff46",
   "metadata": {},
   "outputs": [
    {
     "data": {
      "text/plain": [
       "array([0, 0, 0, 0, 0, 0, 0, 0, 0, 0, 0, 0, 0, 0, 0, 0, 0, 0, 0, 0, 0, 0,\n",
       "       0, 0, 0, 0, 0, 0, 0, 0, 0, 0, 0, 0, 0, 0, 0, 0, 0, 0, 0, 0, 0, 0,\n",
       "       0, 0, 0, 0, 0, 0, 1, 1, 1, 1, 1, 1, 1, 1, 1, 1, 1, 1, 1, 1, 1, 1,\n",
       "       1, 1, 1, 1, 1, 1, 1, 1, 1, 1, 1, 1, 1, 1, 1, 1, 1, 1, 1, 1, 1, 1,\n",
       "       1, 1, 1, 1, 1, 1, 1, 1, 1, 1, 1, 1, 2, 2, 2, 2, 2, 2, 2, 2, 2, 2,\n",
       "       2, 2, 2, 2, 2, 2, 2, 2, 2, 2, 2, 2, 2, 2, 2, 2, 2, 2, 2, 2, 2, 2,\n",
       "       2, 2, 2, 2, 2, 2, 2, 2, 2, 2, 2, 2, 2, 2, 2, 2, 2, 2])"
      ]
     },
     "execution_count": 62,
     "metadata": {},
     "output_type": "execute_result"
    }
   ],
   "source": [
    "y"
   ]
  },
  {
   "cell_type": "code",
   "execution_count": 63,
   "id": "a2ec138b",
   "metadata": {},
   "outputs": [],
   "source": [
    "X_train, X_test, y_train, y_test = train_test_split(X, y, test_size=0.3, random_state=0)"
   ]
  },
  {
   "cell_type": "code",
   "execution_count": 64,
   "id": "aeee47d2",
   "metadata": {},
   "outputs": [],
   "source": [
    "from sklearn.naive_bayes import GaussianNB\n",
    "gnb=GaussianNB()"
   ]
  },
  {
   "cell_type": "code",
   "execution_count": 65,
   "id": "eed0562d",
   "metadata": {},
   "outputs": [
    {
     "data": {
      "text/html": [
       "<style>#sk-container-id-4 {color: black;}#sk-container-id-4 pre{padding: 0;}#sk-container-id-4 div.sk-toggleable {background-color: white;}#sk-container-id-4 label.sk-toggleable__label {cursor: pointer;display: block;width: 100%;margin-bottom: 0;padding: 0.3em;box-sizing: border-box;text-align: center;}#sk-container-id-4 label.sk-toggleable__label-arrow:before {content: \"▸\";float: left;margin-right: 0.25em;color: #696969;}#sk-container-id-4 label.sk-toggleable__label-arrow:hover:before {color: black;}#sk-container-id-4 div.sk-estimator:hover label.sk-toggleable__label-arrow:before {color: black;}#sk-container-id-4 div.sk-toggleable__content {max-height: 0;max-width: 0;overflow: hidden;text-align: left;background-color: #f0f8ff;}#sk-container-id-4 div.sk-toggleable__content pre {margin: 0.2em;color: black;border-radius: 0.25em;background-color: #f0f8ff;}#sk-container-id-4 input.sk-toggleable__control:checked~div.sk-toggleable__content {max-height: 200px;max-width: 100%;overflow: auto;}#sk-container-id-4 input.sk-toggleable__control:checked~label.sk-toggleable__label-arrow:before {content: \"▾\";}#sk-container-id-4 div.sk-estimator input.sk-toggleable__control:checked~label.sk-toggleable__label {background-color: #d4ebff;}#sk-container-id-4 div.sk-label input.sk-toggleable__control:checked~label.sk-toggleable__label {background-color: #d4ebff;}#sk-container-id-4 input.sk-hidden--visually {border: 0;clip: rect(1px 1px 1px 1px);clip: rect(1px, 1px, 1px, 1px);height: 1px;margin: -1px;overflow: hidden;padding: 0;position: absolute;width: 1px;}#sk-container-id-4 div.sk-estimator {font-family: monospace;background-color: #f0f8ff;border: 1px dotted black;border-radius: 0.25em;box-sizing: border-box;margin-bottom: 0.5em;}#sk-container-id-4 div.sk-estimator:hover {background-color: #d4ebff;}#sk-container-id-4 div.sk-parallel-item::after {content: \"\";width: 100%;border-bottom: 1px solid gray;flex-grow: 1;}#sk-container-id-4 div.sk-label:hover label.sk-toggleable__label {background-color: #d4ebff;}#sk-container-id-4 div.sk-serial::before {content: \"\";position: absolute;border-left: 1px solid gray;box-sizing: border-box;top: 0;bottom: 0;left: 50%;z-index: 0;}#sk-container-id-4 div.sk-serial {display: flex;flex-direction: column;align-items: center;background-color: white;padding-right: 0.2em;padding-left: 0.2em;position: relative;}#sk-container-id-4 div.sk-item {position: relative;z-index: 1;}#sk-container-id-4 div.sk-parallel {display: flex;align-items: stretch;justify-content: center;background-color: white;position: relative;}#sk-container-id-4 div.sk-item::before, #sk-container-id-4 div.sk-parallel-item::before {content: \"\";position: absolute;border-left: 1px solid gray;box-sizing: border-box;top: 0;bottom: 0;left: 50%;z-index: -1;}#sk-container-id-4 div.sk-parallel-item {display: flex;flex-direction: column;z-index: 1;position: relative;background-color: white;}#sk-container-id-4 div.sk-parallel-item:first-child::after {align-self: flex-end;width: 50%;}#sk-container-id-4 div.sk-parallel-item:last-child::after {align-self: flex-start;width: 50%;}#sk-container-id-4 div.sk-parallel-item:only-child::after {width: 0;}#sk-container-id-4 div.sk-dashed-wrapped {border: 1px dashed gray;margin: 0 0.4em 0.5em 0.4em;box-sizing: border-box;padding-bottom: 0.4em;background-color: white;}#sk-container-id-4 div.sk-label label {font-family: monospace;font-weight: bold;display: inline-block;line-height: 1.2em;}#sk-container-id-4 div.sk-label-container {text-align: center;}#sk-container-id-4 div.sk-container {/* jupyter's `normalize.less` sets `[hidden] { display: none; }` but bootstrap.min.css set `[hidden] { display: none !important; }` so we also need the `!important` here to be able to override the default hidden behavior on the sphinx rendered scikit-learn.org. See: https://github.com/scikit-learn/scikit-learn/issues/21755 */display: inline-block !important;position: relative;}#sk-container-id-4 div.sk-text-repr-fallback {display: none;}</style><div id=\"sk-container-id-4\" class=\"sk-top-container\"><div class=\"sk-text-repr-fallback\"><pre>GaussianNB()</pre><b>In a Jupyter environment, please rerun this cell to show the HTML representation or trust the notebook. <br />On GitHub, the HTML representation is unable to render, please try loading this page with nbviewer.org.</b></div><div class=\"sk-container\" hidden><div class=\"sk-item\"><div class=\"sk-estimator sk-toggleable\"><input class=\"sk-toggleable__control sk-hidden--visually\" id=\"sk-estimator-id-15\" type=\"checkbox\" checked><label for=\"sk-estimator-id-15\" class=\"sk-toggleable__label sk-toggleable__label-arrow\">GaussianNB</label><div class=\"sk-toggleable__content\"><pre>GaussianNB()</pre></div></div></div></div></div>"
      ],
      "text/plain": [
       "GaussianNB()"
      ]
     },
     "execution_count": 65,
     "metadata": {},
     "output_type": "execute_result"
    }
   ],
   "source": [
    "gnb.fit(X_train,y_train)"
   ]
  },
  {
   "cell_type": "code",
   "execution_count": 66,
   "id": "10bc8aef",
   "metadata": {},
   "outputs": [],
   "source": [
    "y_pred=gnb.predict(X_test)"
   ]
  },
  {
   "cell_type": "code",
   "execution_count": 67,
   "id": "f9645403",
   "metadata": {},
   "outputs": [
    {
     "data": {
      "text/plain": [
       "array([2, 1, 0, 2, 0, 2, 0, 1, 1, 1, 2, 1, 1, 1, 1, 0, 1, 1, 0, 0, 2, 1,\n",
       "       0, 0, 2, 0, 0, 1, 1, 0, 2, 1, 0, 2, 2, 1, 0, 1, 1, 1, 2, 0, 2, 0,\n",
       "       0])"
      ]
     },
     "execution_count": 67,
     "metadata": {},
     "output_type": "execute_result"
    }
   ],
   "source": [
    "y_pred"
   ]
  },
  {
   "cell_type": "code",
   "execution_count": 68,
   "id": "fb791413",
   "metadata": {},
   "outputs": [],
   "source": [
    "from sklearn.metrics import accuracy_score,classification_report,confusion_matrix"
   ]
  },
  {
   "cell_type": "code",
   "execution_count": 69,
   "id": "3fe783d7",
   "metadata": {},
   "outputs": [
    {
     "name": "stdout",
     "output_type": "stream",
     "text": [
      "[[16  0  0]\n",
      " [ 0 18  0]\n",
      " [ 0  0 11]]\n",
      "              precision    recall  f1-score   support\n",
      "\n",
      "           0       1.00      1.00      1.00        16\n",
      "           1       1.00      1.00      1.00        18\n",
      "           2       1.00      1.00      1.00        11\n",
      "\n",
      "    accuracy                           1.00        45\n",
      "   macro avg       1.00      1.00      1.00        45\n",
      "weighted avg       1.00      1.00      1.00        45\n",
      "\n",
      "1.0\n"
     ]
    }
   ],
   "source": [
    "print(confusion_matrix(y_test,y_pred))\n",
    "print(classification_report(y_test,y_pred))\n",
    "print(accuracy_score(y_test,y_pred))"
   ]
  },
  {
   "cell_type": "code",
   "execution_count": 70,
   "id": "1ac4be58",
   "metadata": {},
   "outputs": [],
   "source": [
    "import seaborn as sns"
   ]
  },
  {
   "cell_type": "code",
   "execution_count": 71,
   "id": "162818c2",
   "metadata": {},
   "outputs": [
    {
     "data": {
      "text/html": [
       "<div>\n",
       "<style scoped>\n",
       "    .dataframe tbody tr th:only-of-type {\n",
       "        vertical-align: middle;\n",
       "    }\n",
       "\n",
       "    .dataframe tbody tr th {\n",
       "        vertical-align: top;\n",
       "    }\n",
       "\n",
       "    .dataframe thead th {\n",
       "        text-align: right;\n",
       "    }\n",
       "</style>\n",
       "<table border=\"1\" class=\"dataframe\">\n",
       "  <thead>\n",
       "    <tr style=\"text-align: right;\">\n",
       "      <th></th>\n",
       "      <th>total_bill</th>\n",
       "      <th>tip</th>\n",
       "      <th>sex</th>\n",
       "      <th>smoker</th>\n",
       "      <th>day</th>\n",
       "      <th>time</th>\n",
       "      <th>size</th>\n",
       "    </tr>\n",
       "  </thead>\n",
       "  <tbody>\n",
       "    <tr>\n",
       "      <th>0</th>\n",
       "      <td>16.99</td>\n",
       "      <td>1.01</td>\n",
       "      <td>Female</td>\n",
       "      <td>No</td>\n",
       "      <td>Sun</td>\n",
       "      <td>Dinner</td>\n",
       "      <td>2</td>\n",
       "    </tr>\n",
       "    <tr>\n",
       "      <th>1</th>\n",
       "      <td>10.34</td>\n",
       "      <td>1.66</td>\n",
       "      <td>Male</td>\n",
       "      <td>No</td>\n",
       "      <td>Sun</td>\n",
       "      <td>Dinner</td>\n",
       "      <td>3</td>\n",
       "    </tr>\n",
       "    <tr>\n",
       "      <th>2</th>\n",
       "      <td>21.01</td>\n",
       "      <td>3.50</td>\n",
       "      <td>Male</td>\n",
       "      <td>No</td>\n",
       "      <td>Sun</td>\n",
       "      <td>Dinner</td>\n",
       "      <td>3</td>\n",
       "    </tr>\n",
       "    <tr>\n",
       "      <th>3</th>\n",
       "      <td>23.68</td>\n",
       "      <td>3.31</td>\n",
       "      <td>Male</td>\n",
       "      <td>No</td>\n",
       "      <td>Sun</td>\n",
       "      <td>Dinner</td>\n",
       "      <td>2</td>\n",
       "    </tr>\n",
       "    <tr>\n",
       "      <th>4</th>\n",
       "      <td>24.59</td>\n",
       "      <td>3.61</td>\n",
       "      <td>Female</td>\n",
       "      <td>No</td>\n",
       "      <td>Sun</td>\n",
       "      <td>Dinner</td>\n",
       "      <td>4</td>\n",
       "    </tr>\n",
       "  </tbody>\n",
       "</table>\n",
       "</div>"
      ],
      "text/plain": [
       "   total_bill   tip     sex smoker  day    time  size\n",
       "0       16.99  1.01  Female     No  Sun  Dinner     2\n",
       "1       10.34  1.66    Male     No  Sun  Dinner     3\n",
       "2       21.01  3.50    Male     No  Sun  Dinner     3\n",
       "3       23.68  3.31    Male     No  Sun  Dinner     2\n",
       "4       24.59  3.61  Female     No  Sun  Dinner     4"
      ]
     },
     "execution_count": 71,
     "metadata": {},
     "output_type": "execute_result"
    }
   ],
   "source": [
    "df=sns.load_dataset('tips')\n",
    "df.head()"
   ]
  },
  {
   "cell_type": "code",
   "execution_count": 72,
   "id": "25c23333",
   "metadata": {},
   "outputs": [],
   "source": [
    "X = df.drop('time', axis=1)\n",
    "y = df.loc[:,'time']"
   ]
  },
  {
   "cell_type": "code",
   "execution_count": 73,
   "id": "aa9cf410",
   "metadata": {},
   "outputs": [
    {
     "data": {
      "text/html": [
       "<div>\n",
       "<style scoped>\n",
       "    .dataframe tbody tr th:only-of-type {\n",
       "        vertical-align: middle;\n",
       "    }\n",
       "\n",
       "    .dataframe tbody tr th {\n",
       "        vertical-align: top;\n",
       "    }\n",
       "\n",
       "    .dataframe thead th {\n",
       "        text-align: right;\n",
       "    }\n",
       "</style>\n",
       "<table border=\"1\" class=\"dataframe\">\n",
       "  <thead>\n",
       "    <tr style=\"text-align: right;\">\n",
       "      <th></th>\n",
       "      <th>MedInc</th>\n",
       "      <th>HouseAge</th>\n",
       "      <th>AveRooms</th>\n",
       "      <th>AveBedrms</th>\n",
       "      <th>Population</th>\n",
       "      <th>AveOccup</th>\n",
       "      <th>Latitude</th>\n",
       "      <th>Longitude</th>\n",
       "    </tr>\n",
       "  </thead>\n",
       "  <tbody>\n",
       "    <tr>\n",
       "      <th>0</th>\n",
       "      <td>8.3252</td>\n",
       "      <td>41.0</td>\n",
       "      <td>6.984127</td>\n",
       "      <td>1.023810</td>\n",
       "      <td>322.0</td>\n",
       "      <td>2.555556</td>\n",
       "      <td>37.88</td>\n",
       "      <td>-122.23</td>\n",
       "    </tr>\n",
       "    <tr>\n",
       "      <th>1</th>\n",
       "      <td>8.3014</td>\n",
       "      <td>21.0</td>\n",
       "      <td>6.238137</td>\n",
       "      <td>0.971880</td>\n",
       "      <td>2401.0</td>\n",
       "      <td>2.109842</td>\n",
       "      <td>37.86</td>\n",
       "      <td>-122.22</td>\n",
       "    </tr>\n",
       "    <tr>\n",
       "      <th>2</th>\n",
       "      <td>7.2574</td>\n",
       "      <td>52.0</td>\n",
       "      <td>8.288136</td>\n",
       "      <td>1.073446</td>\n",
       "      <td>496.0</td>\n",
       "      <td>2.802260</td>\n",
       "      <td>37.85</td>\n",
       "      <td>-122.24</td>\n",
       "    </tr>\n",
       "    <tr>\n",
       "      <th>3</th>\n",
       "      <td>5.6431</td>\n",
       "      <td>52.0</td>\n",
       "      <td>5.817352</td>\n",
       "      <td>1.073059</td>\n",
       "      <td>558.0</td>\n",
       "      <td>2.547945</td>\n",
       "      <td>37.85</td>\n",
       "      <td>-122.25</td>\n",
       "    </tr>\n",
       "    <tr>\n",
       "      <th>4</th>\n",
       "      <td>3.8462</td>\n",
       "      <td>52.0</td>\n",
       "      <td>6.281853</td>\n",
       "      <td>1.081081</td>\n",
       "      <td>565.0</td>\n",
       "      <td>2.181467</td>\n",
       "      <td>37.85</td>\n",
       "      <td>-122.25</td>\n",
       "    </tr>\n",
       "    <tr>\n",
       "      <th>...</th>\n",
       "      <td>...</td>\n",
       "      <td>...</td>\n",
       "      <td>...</td>\n",
       "      <td>...</td>\n",
       "      <td>...</td>\n",
       "      <td>...</td>\n",
       "      <td>...</td>\n",
       "      <td>...</td>\n",
       "    </tr>\n",
       "    <tr>\n",
       "      <th>20635</th>\n",
       "      <td>1.5603</td>\n",
       "      <td>25.0</td>\n",
       "      <td>5.045455</td>\n",
       "      <td>1.133333</td>\n",
       "      <td>845.0</td>\n",
       "      <td>2.560606</td>\n",
       "      <td>39.48</td>\n",
       "      <td>-121.09</td>\n",
       "    </tr>\n",
       "    <tr>\n",
       "      <th>20636</th>\n",
       "      <td>2.5568</td>\n",
       "      <td>18.0</td>\n",
       "      <td>6.114035</td>\n",
       "      <td>1.315789</td>\n",
       "      <td>356.0</td>\n",
       "      <td>3.122807</td>\n",
       "      <td>39.49</td>\n",
       "      <td>-121.21</td>\n",
       "    </tr>\n",
       "    <tr>\n",
       "      <th>20637</th>\n",
       "      <td>1.7000</td>\n",
       "      <td>17.0</td>\n",
       "      <td>5.205543</td>\n",
       "      <td>1.120092</td>\n",
       "      <td>1007.0</td>\n",
       "      <td>2.325635</td>\n",
       "      <td>39.43</td>\n",
       "      <td>-121.22</td>\n",
       "    </tr>\n",
       "    <tr>\n",
       "      <th>20638</th>\n",
       "      <td>1.8672</td>\n",
       "      <td>18.0</td>\n",
       "      <td>5.329513</td>\n",
       "      <td>1.171920</td>\n",
       "      <td>741.0</td>\n",
       "      <td>2.123209</td>\n",
       "      <td>39.43</td>\n",
       "      <td>-121.32</td>\n",
       "    </tr>\n",
       "    <tr>\n",
       "      <th>20639</th>\n",
       "      <td>2.3886</td>\n",
       "      <td>16.0</td>\n",
       "      <td>5.254717</td>\n",
       "      <td>1.162264</td>\n",
       "      <td>1387.0</td>\n",
       "      <td>2.616981</td>\n",
       "      <td>39.37</td>\n",
       "      <td>-121.24</td>\n",
       "    </tr>\n",
       "  </tbody>\n",
       "</table>\n",
       "<p>20640 rows × 8 columns</p>\n",
       "</div>"
      ],
      "text/plain": [
       "       MedInc  HouseAge  AveRooms  AveBedrms  Population  AveOccup  Latitude  \\\n",
       "0      8.3252      41.0  6.984127   1.023810       322.0  2.555556     37.88   \n",
       "1      8.3014      21.0  6.238137   0.971880      2401.0  2.109842     37.86   \n",
       "2      7.2574      52.0  8.288136   1.073446       496.0  2.802260     37.85   \n",
       "3      5.6431      52.0  5.817352   1.073059       558.0  2.547945     37.85   \n",
       "4      3.8462      52.0  6.281853   1.081081       565.0  2.181467     37.85   \n",
       "...       ...       ...       ...        ...         ...       ...       ...   \n",
       "20635  1.5603      25.0  5.045455   1.133333       845.0  2.560606     39.48   \n",
       "20636  2.5568      18.0  6.114035   1.315789       356.0  3.122807     39.49   \n",
       "20637  1.7000      17.0  5.205543   1.120092      1007.0  2.325635     39.43   \n",
       "20638  1.8672      18.0  5.329513   1.171920       741.0  2.123209     39.43   \n",
       "20639  2.3886      16.0  5.254717   1.162264      1387.0  2.616981     39.37   \n",
       "\n",
       "       Longitude  \n",
       "0        -122.23  \n",
       "1        -122.22  \n",
       "2        -122.24  \n",
       "3        -122.25  \n",
       "4        -122.25  \n",
       "...          ...  \n",
       "20635    -121.09  \n",
       "20636    -121.21  \n",
       "20637    -121.22  \n",
       "20638    -121.32  \n",
       "20639    -121.24  \n",
       "\n",
       "[20640 rows x 8 columns]"
      ]
     },
     "execution_count": 73,
     "metadata": {},
     "output_type": "execute_result"
    }
   ],
   "source": [
    "x"
   ]
  },
  {
   "cell_type": "code",
   "execution_count": 74,
   "id": "6062be24",
   "metadata": {},
   "outputs": [],
   "source": [
    "from sklearn.preprocessing import OneHotEncoder"
   ]
  },
  {
   "cell_type": "code",
   "execution_count": 75,
   "id": "ab8bd6f6",
   "metadata": {},
   "outputs": [],
   "source": [
    "lab = OneHotEncoder()"
   ]
  },
  {
   "cell_type": "code",
   "execution_count": 76,
   "id": "0e8fb53d",
   "metadata": {},
   "outputs": [
    {
     "data": {
      "text/plain": [
       "<244x366 sparse matrix of type '<class 'numpy.float64'>'\n",
       "\twith 1464 stored elements in Compressed Sparse Row format>"
      ]
     },
     "execution_count": 76,
     "metadata": {},
     "output_type": "execute_result"
    }
   ],
   "source": [
    "lab.fit_transform(X,y)"
   ]
  },
  {
   "cell_type": "code",
   "execution_count": null,
   "id": "f3d5788f",
   "metadata": {},
   "outputs": [],
   "source": []
  },
  {
   "cell_type": "markdown",
   "id": "e9fa81e4",
   "metadata": {},
   "source": [
    "# Adaboost,Gradient_Boost,XGBoots Implementation"
   ]
  },
  {
   "cell_type": "markdown",
   "id": "ff2e02cf",
   "metadata": {},
   "source": [
    "# Classification"
   ]
  },
  {
   "cell_type": "code",
   "execution_count": null,
   "id": "b2ed9319",
   "metadata": {},
   "outputs": [],
   "source": [
    "!pip install Xgboost"
   ]
  },
  {
   "cell_type": "code",
   "execution_count": null,
   "id": "2233e4de",
   "metadata": {},
   "outputs": [],
   "source": [
    "from sklearn.datasets import make_classification\n",
    "x,y=make_classification(n_samples=1000,n_features=4,n_informative=2,n_redundant=0,random_state=0,shuffle=False)"
   ]
  },
  {
   "cell_type": "code",
   "execution_count": null,
   "id": "3c78b984",
   "metadata": {},
   "outputs": [],
   "source": [
    "x"
   ]
  },
  {
   "cell_type": "code",
   "execution_count": null,
   "id": "468ec9fa",
   "metadata": {},
   "outputs": [],
   "source": [
    "y"
   ]
  },
  {
   "cell_type": "code",
   "execution_count": null,
   "id": "a6de3542",
   "metadata": {},
   "outputs": [],
   "source": [
    "from sklearn.model_selection import train_test_split\n",
    "x_train,x_test,y_train,y_test=train_test_split(x,y,test_size=0.33,random_state=42)"
   ]
  },
  {
   "cell_type": "code",
   "execution_count": null,
   "id": "da342709",
   "metadata": {},
   "outputs": [],
   "source": [
    "x_train.shape,x_test.shape,y_train.shape,y_test.shape"
   ]
  },
  {
   "cell_type": "code",
   "execution_count": null,
   "id": "0049e27c",
   "metadata": {},
   "outputs": [],
   "source": [
    "from sklearn.ensemble import AdaBoostClassifier\n",
    "from sklearn.ensemble import GradientBoostingClassifier\n",
    "import xgboost as xb"
   ]
  },
  {
   "cell_type": "code",
   "execution_count": null,
   "id": "1200ef1d",
   "metadata": {},
   "outputs": [],
   "source": [
    "classifier=AdaBoostClassifier()\n",
    "classifier.fit(x_train,y_train)"
   ]
  },
  {
   "cell_type": "code",
   "execution_count": null,
   "id": "db62d330",
   "metadata": {},
   "outputs": [],
   "source": [
    "y_pred=classifier.predict(x_test)"
   ]
  },
  {
   "cell_type": "code",
   "execution_count": null,
   "id": "b253166e",
   "metadata": {},
   "outputs": [],
   "source": [
    "y_pred"
   ]
  },
  {
   "cell_type": "code",
   "execution_count": null,
   "id": "da5d30cd",
   "metadata": {},
   "outputs": [],
   "source": [
    "from sklearn.metrics import confusion_matrix,accuracy_score,classification_report\n",
    "print(confusion_matrix(y_test,y_pred))\n",
    "print(accuracy_score(y_test,y_pred))\n",
    "print(classification_report(y_test,y_pred))"
   ]
  },
  {
   "cell_type": "code",
   "execution_count": null,
   "id": "dab71a39",
   "metadata": {},
   "outputs": [],
   "source": [
    "classifier1=GradientBoostingClassifier()\n",
    "classifier1.fit(x_train,y_train)"
   ]
  },
  {
   "cell_type": "code",
   "execution_count": null,
   "id": "7107f562",
   "metadata": {},
   "outputs": [],
   "source": [
    "y_pred1=classifier1.predict(x_test)"
   ]
  },
  {
   "cell_type": "code",
   "execution_count": null,
   "id": "b12820c1",
   "metadata": {},
   "outputs": [],
   "source": [
    "y_pred1"
   ]
  },
  {
   "cell_type": "code",
   "execution_count": null,
   "id": "3cfe8ee7",
   "metadata": {},
   "outputs": [],
   "source": [
    "from sklearn.metrics import confusion_matrix,accuracy_score,classification_report\n",
    "print(confusion_matrix(y_test,y_pred1))\n",
    "print(accuracy_score(y_test,y_pred1))\n",
    "print(classification_report(y_test,y_pred1))"
   ]
  },
  {
   "cell_type": "code",
   "execution_count": null,
   "id": "59804bf9",
   "metadata": {},
   "outputs": [],
   "source": [
    "classifier2=xb.XGBClassifier()\n",
    "classifier2.fit(x_train,y_train)"
   ]
  },
  {
   "cell_type": "code",
   "execution_count": null,
   "id": "ff1b445a",
   "metadata": {},
   "outputs": [],
   "source": [
    "y_pred2=classifier2.predict(x_test)"
   ]
  },
  {
   "cell_type": "code",
   "execution_count": null,
   "id": "ffb3f381",
   "metadata": {},
   "outputs": [],
   "source": [
    "y_pred2"
   ]
  },
  {
   "cell_type": "code",
   "execution_count": null,
   "id": "c035f155",
   "metadata": {},
   "outputs": [],
   "source": [
    "from sklearn.metrics import confusion_matrix,accuracy_score,classification_report\n",
    "print(confusion_matrix(y_test,y_pred2))\n",
    "print(accuracy_score(y_test,y_pred2))\n",
    "print(classification_report(y_test,y_pred2))"
   ]
  },
  {
   "cell_type": "code",
   "execution_count": null,
   "id": "f289a2ba",
   "metadata": {},
   "outputs": [],
   "source": [
    "# Regression "
   ]
  },
  {
   "cell_type": "code",
   "execution_count": null,
   "id": "e4ef9b48",
   "metadata": {},
   "outputs": [],
   "source": [
    "from sklearn.datasets import make_regression\n",
    "x,y=make_regression(n_features=4,n_informative=2,random_state=0,shuffle=False)"
   ]
  },
  {
   "cell_type": "code",
   "execution_count": null,
   "id": "982d0cca",
   "metadata": {},
   "outputs": [],
   "source": [
    "x"
   ]
  },
  {
   "cell_type": "code",
   "execution_count": null,
   "id": "3a333e57",
   "metadata": {},
   "outputs": [],
   "source": [
    "y"
   ]
  },
  {
   "cell_type": "code",
   "execution_count": null,
   "id": "7612c7b4",
   "metadata": {},
   "outputs": [],
   "source": [
    "from sklearn.model_selection import train_test_split\n",
    "x_train,x_test,y_train,y_test=train_test_split(x,y,test_size=0.33,random_state=42)"
   ]
  },
  {
   "cell_type": "code",
   "execution_count": null,
   "id": "728a80a2",
   "metadata": {},
   "outputs": [],
   "source": [
    "from sklearn.ensemble import AdaBoostRegressor\n",
    "from sklearn.ensemble import GradientBoostingRegressor\n",
    "import xgboost as xb"
   ]
  },
  {
   "cell_type": "code",
   "execution_count": null,
   "id": "0f0178ef",
   "metadata": {},
   "outputs": [],
   "source": [
    "regression=AdaBoostRegressor()\n",
    "regression.fit(x_train,y_train)\n",
    "y_pred=regression.predict(x_test)"
   ]
  },
  {
   "cell_type": "code",
   "execution_count": null,
   "id": "1e7ee564",
   "metadata": {},
   "outputs": [],
   "source": [
    "y_pred"
   ]
  },
  {
   "cell_type": "code",
   "execution_count": null,
   "id": "713624d0",
   "metadata": {},
   "outputs": [],
   "source": [
    "from sklearn.metrics import r2_score\n",
    "score=r2_score(y_test,y_pred)"
   ]
  },
  {
   "cell_type": "code",
   "execution_count": null,
   "id": "a4dcb301",
   "metadata": {},
   "outputs": [],
   "source": [
    "score"
   ]
  },
  {
   "cell_type": "code",
   "execution_count": null,
   "id": "97517225",
   "metadata": {},
   "outputs": [],
   "source": [
    "regression1=GradientBoostingRegressor()\n",
    "regression1.fit(x_train,y_train)\n",
    "y_pred1=regression1.predict(x_test)\n",
    "from sklearn.metrics import r2_score\n",
    "score=r2_score(y_test,y_pred1)\n",
    "score"
   ]
  },
  {
   "cell_type": "code",
   "execution_count": null,
   "id": "cbe79660",
   "metadata": {},
   "outputs": [],
   "source": [
    "regression2=xb.XGBRegressor()\n",
    "regression2.fit(x_train,y_train)\n",
    "y_pred2=regression2.predict(x_test)\n",
    "from sklearn.metrics import r2_score\n",
    "score=r2_score(y_test,y_pred1)\n",
    "score"
   ]
  },
  {
   "cell_type": "code",
   "execution_count": null,
   "id": "db7a971f",
   "metadata": {},
   "outputs": [],
   "source": []
  }
 ],
 "metadata": {
  "kernelspec": {
   "display_name": "Python 3 (ipykernel)",
   "language": "python",
   "name": "python3"
  },
  "language_info": {
   "codemirror_mode": {
    "name": "ipython",
    "version": 3
   },
   "file_extension": ".py",
   "mimetype": "text/x-python",
   "name": "python",
   "nbconvert_exporter": "python",
   "pygments_lexer": "ipython3",
   "version": "3.11.5"
  }
 },
 "nbformat": 4,
 "nbformat_minor": 5
}
